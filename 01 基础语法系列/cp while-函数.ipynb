{
  "cells": [
    {
      "cell_type": "markdown",
      "metadata": {
        "pycharm": {}
      },
      "source": [
        "# while循环\n",
        "\n",
        "- 一个循环语句\n",
        "- 表示当条件成立的时候就循环\n",
        "- 不知道具体循环次数，循环条件成立的时候用误了循环\n",
        "- while循环语法：\n",
        "        \n",
        "        while  条件表达式\n",
        "            语句块\n",
        "        \n",
        "        # 另一个表达方法\n",
        "        \n",
        "        while 条件表达式：\n",
        "            语句块\n",
        "        else：\n",
        "            语句块"
      ]
    },
    {
      "cell_type": "code",
      "execution_count": 1,
      "metadata": {
        "pycharm": {
          "is_executing": false
        }
      },
      "outputs": [
        {
          "name": "stdout",
          "text": [
            "第 1 年拿了 533500.0 块钱\n第 2 年拿了 569244.5 块钱\n第 3 年拿了 607383.8815 块钱\n第 4 年拿了 648078.6015605 块钱\n第 5 年拿了 691499.8678650535 块钱\n第 6 年拿了 737830.359012012 块钱\n第 7 年拿了 787264.9930658168 块钱\n第 8 年拿了 840011.7476012266 块钱\n第 9 年拿了 896292.5346905087 块钱\n第 10 年拿了 956344.1345147728 块钱\n第 11 年拿了 1020419.1915272626 块钱\n"
          ],
          "output_type": "stream"
        }
      ],
      "source": [
        "#如果年利率是6.7%，如果本金1万块，多少年后本金翻倍\n",
        "\n",
        "benjin \u003d int(input(\"请输入本金\"))\n",
        "benqian \u003d int(benjin + benjin)\n",
        "year \u003d 0\n",
        "while benjin\u003c benqian:\n",
        "    benjin \u003d benjin *(1+0.067)\n",
        "    year +\u003d 1\n",
        "    print(\"第 {0} 年拿了 {1} 块钱\".format(year, benjin))\n",
        "    "
      ]
    },
    {
      "cell_type": "code",
      "execution_count": null,
      "metadata": {
        "pycharm": {}
      },
      "outputs": [],
      "source": []
    },
    {
      "cell_type": "code",
      "execution_count": null,
      "metadata": {
        "pycharm": {}
      },
      "outputs": [],
      "source": []
    },
    {
      "cell_type": "code",
      "execution_count": null,
      "metadata": {
        "pycharm": {}
      },
      "outputs": [],
      "source": []
    },
    {
      "cell_type": "code",
      "execution_count": null,
      "metadata": {
        "pycharm": {}
      },
      "outputs": [],
      "source": []
    },
    {
      "cell_type": "code",
      "execution_count": null,
      "metadata": {
        "pycharm": {}
      },
      "outputs": [],
      "source": []
    },
    {
      "cell_type": "code",
      "execution_count": null,
      "metadata": {
        "pycharm": {}
      },
      "outputs": [],
      "source": []
    },
    {
      "cell_type": "code",
      "execution_count": null,
      "metadata": {
        "pycharm": {}
      },
      "outputs": [],
      "source": []
    },
    {
      "cell_type": "code",
      "execution_count": null,
      "metadata": {
        "pycharm": {}
      },
      "outputs": [],
      "source": []
    },
    {
      "cell_type": "code",
      "execution_count": 16,
      "metadata": {
        "pycharm": {}
      },
      "outputs": [
        {
          "ename": "NameError",
          "evalue": "name \u0027banqian\u0027 is not defined",
          "traceback": [
            "\u001b[1;31m---------------------------------------------------------------------------\u001b[0m",
            "\u001b[1;31mNameError\u001b[0m                                 Traceback (most recent call last)",
            "\u001b[1;32m\u003cipython-input-16-586e239a1676\u003e\u001b[0m in \u001b[0;36m\u003cmodule\u003e\u001b[1;34m()\u001b[0m\n\u001b[0;32m      2\u001b[0m \u001b[0myear\u001b[0m \u001b[1;33m\u003d\u001b[0m \u001b[1;36m0\u001b[0m\u001b[1;33m\u001b[0m\u001b[0m\n\u001b[0;32m      3\u001b[0m \u001b[1;32mwhile\u001b[0m \u001b[0mbenqian\u001b[0m\u001b[1;33m\u003c\u001b[0m\u001b[1;36m200000\u001b[0m\u001b[1;33m:\u001b[0m\u001b[1;33m\u001b[0m\u001b[0m\n\u001b[1;32m----\u003e 4\u001b[1;33m     \u001b[0mbenqian\u001b[0m \u001b[1;33m\u003d\u001b[0m \u001b[0mbanqian\u001b[0m \u001b[1;33m*\u001b[0m\u001b[1;33m(\u001b[0m\u001b[1;36m1\u001b[0m\u001b[1;33m+\u001b[0m\u001b[1;36m0.067\u001b[0m\u001b[1;33m)\u001b[0m\u001b[1;33m\u001b[0m\u001b[0m\n\u001b[0m\u001b[0;32m      5\u001b[0m     \u001b[0myear\u001b[0m \u001b[1;33m+\u003d\u001b[0m \u001b[1;36m1\u001b[0m\u001b[1;33m\u001b[0m\u001b[0m\n\u001b[0;32m      6\u001b[0m     \u001b[0mprint\u001b[0m\u001b[1;33m(\u001b[0m\u001b[1;34m\"第 {0} 年拿了 {1} 块钱\"\u001b[0m\u001b[1;33m.\u001b[0m\u001b[0mformat\u001b[0m\u001b[1;33m(\u001b[0m\u001b[0myear\u001b[0m\u001b[1;33m,\u001b[0m \u001b[0mbenqian\u001b[0m\u001b[1;33m)\u001b[0m\u001b[1;33m)\u001b[0m\u001b[1;33m\u001b[0m\u001b[0m\n",
            "\u001b[1;31mNameError\u001b[0m: name \u0027banqian\u0027 is not defined"
          ],
          "output_type": "error"
        }
      ],
      "source": [
        "benqian \u003d 100000\n",
        "year \u003d 0\n",
        "while benqian\u003c200000:\n",
        "    benqian \u003d banqian *(1+0.067)\n",
        "    year +\u003d 1\n",
        "    print(\"第 {0} 年拿了 {1} 块钱\".format(year, benqian))"
      ]
    },
    {
      "cell_type": "code",
      "execution_count": null,
      "metadata": {
        "pycharm": {}
      },
      "outputs": [],
      "source": []
    },
    {
      "cell_type": "code",
      "execution_count": null,
      "metadata": {
        "pycharm": {}
      },
      "outputs": [],
      "source": []
    },
    {
      "cell_type": "code",
      "execution_count": null,
      "metadata": {
        "pycharm": {}
      },
      "outputs": [],
      "source": []
    },
    {
      "cell_type": "code",
      "execution_count": 17,
      "metadata": {
        "pycharm": {}
      },
      "outputs": [
        {
          "name": "stdout",
          "output_type": "stream",
          "text": [
            "第 1 年拿了 106700.0 块钱\n",
            "第 2 年拿了 113848.9 块钱\n",
            "第 3 年拿了 121476.77629999998 块钱\n",
            "第 4 年拿了 129615.72031209998 块钱\n",
            "第 5 年拿了 138299.97357301068 块钱\n",
            "第 6 年拿了 147566.07180240238 块钱\n",
            "第 7 年拿了 157452.99861316333 块钱\n",
            "第 8 年拿了 168002.34952024528 块钱\n",
            "第 9 年拿了 179258.5069381017 块钱\n",
            "第 10 年拿了 191268.8269029545 块钱\n",
            "第 11 年拿了 204083.83830545243 块钱\n",
            "第 12 年拿了 217757.45547191772 块钱\n",
            "第 13 年拿了 232347.2049885362 块钱\n",
            "第 14 年拿了 247914.4677227681 块钱\n",
            "第 15 年拿了 264524.73706019355 块钱\n",
            "第 16 年拿了 282247.8944432265 块钱\n",
            "第 17 年拿了 301158.5033709227 块钱\n",
            "第 18 年拿了 321336.1230967745 块钱\n",
            "第 19 年拿了 342865.64334425837 块钱\n",
            "第 20 年拿了 365837.6414483237 块钱\n",
            "第 21 年拿了 390348.76342536137 块钱\n",
            "第 22 年拿了 416502.13057486055 块钱\n",
            "第 23 年拿了 444407.7733233762 块钱\n",
            "第 24 年拿了 474183.0941360424 块钱\n",
            "第 25 年拿了 505953.36144315725 块钱\n",
            "第 26 年拿了 539852.2366598487 块钱\n",
            "第 27 年拿了 576022.3365160585 块钱\n",
            "第 28 年拿了 614615.8330626345 块钱\n",
            "第 29 年拿了 655795.0938778309 块钱\n",
            "第 30 年拿了 699733.3651676455 块钱\n",
            "第 31 年拿了 746615.5006338777 块钱\n",
            "第 32 年拿了 796638.7391763475 块钱\n",
            "第 33 年拿了 850013.5347011627 块钱\n",
            "第 34 年拿了 906964.4415261406 块钱\n",
            "第 35 年拿了 967731.0591083919 块钱\n",
            "第 36 年拿了 1032569.0400686541 块钱\n",
            "第 37 年拿了 1101751.165753254 块钱\n",
            "第 38 年拿了 1175568.493858722 块钱\n",
            "第 39 年拿了 1254331.5829472563 块钱\n",
            "第 40 年拿了 1338371.7990047224 块钱\n",
            "第 41 年拿了 1428042.7095380388 块钱\n",
            "第 42 年拿了 1523721.5710770874 块钱\n",
            "第 43 年拿了 1625810.9163392521 块钱\n",
            "第 44 年拿了 1734740.247733982 块钱\n",
            "第 45 年拿了 1850967.8443321588 块钱\n",
            "第 46 年拿了 1974982.6899024134 块钱\n",
            "第 47 年拿了 2107306.530125875 块钱\n"
          ]
        }
      ],
      "source": [
        "benqian \u003d 100000\n",
        "year \u003d 0\n",
        "while benqian \u003c 2000000:\n",
        "    benqian \u003d benqian * (1+0.067)\n",
        "    year +\u003d 1 # year \u003d year + 1\n",
        "    print(\"第 {0} 年拿了 {1} 块钱\".format(year, benqian))"
      ]
    },
    {
      "cell_type": "code",
      "execution_count": 22,
      "metadata": {
        "pycharm": {}
      },
      "outputs": [
        {
          "name": "stdout",
          "output_type": "stream",
          "text": [
            "第 1 年拿了 10670.0 块钱\n",
            "第 2 年拿了 11384.89 块钱\n",
            "第 3 年拿了 12147.677629999998 块钱\n",
            "第 4 年拿了 12961.572031209998 块钱\n",
            "第 5 年拿了 13829.997357301068 块钱\n",
            "第 6 年拿了 14756.607180240238 块钱\n",
            "第 7 年拿了 15745.299861316334 块钱\n",
            "第 8 年拿了 16800.23495202453 块钱\n",
            "第 9 年拿了 17925.85069381017 块钱\n",
            "第 10 年拿了 19126.88269029545 块钱\n",
            "第 11 年拿了 20408.383830545245 块钱\n",
            "大爷的终于翻倍了\n"
          ]
        }
      ],
      "source": [
        "benqian \u003d 10000\n",
        "year \u003d 0\n",
        "while benqian\u003c20000:\n",
        "    benqian \u003d benqian *(1+0.067)\n",
        "    year +\u003d 1\n",
        "    print (\"第 {0} 年拿了 {1} 块钱\".format(year,benqian))\n",
        "else:\n",
        "    print(\"大爷的终于翻倍了\")"
      ]
    },
    {
      "cell_type": "markdown",
      "metadata": {
        "pycharm": {}
      },
      "source": [
        "# 函数\n",
        "\n",
        "- 代码的一种组织形式\n",
        "- 一个函数一般完成一项特定的功能\n",
        "- 函数使用\n",
        "    -函数需要先定义\n",
        "    -使用函数，俗称调用"
      ]
    },
    {
      "cell_type": "code",
      "execution_count": 26,
      "metadata": {
        "pycharm": {}
      },
      "outputs": [
        {
          "name": "stdout",
          "output_type": "stream",
          "text": [
            "我结束了\n",
            "我是一个函数\n",
            "我要完成一定的功能\n"
          ]
        }
      ],
      "source": [
        "# 定义一个函数\n",
        "# 只是定义的话不会执行\n",
        "# 1，def关键字 后加一个空格\n",
        "# 2，函数名自己定义，起名要有一定的规则，约定俗成\n",
        "# 3，后面括号和冒号不能省，括号内可以有参数\n",
        "# 4，函数内所有代码缩进\n",
        "\n",
        "def fune():\n",
        "    print(\"我是一个函数\")\n",
        "    print(\"我要完成一定的功能\")\n",
        "print(\"我结束了\")\n",
        "\n",
        "fune()"
      ]
    },
    {
      "cell_type": "markdown",
      "metadata": {
        "pycharm": {}
      },
      "source": [
        "# 函数的参数了返回值\n",
        "\n",
        "- 参数 ：负责给函数传递一些必要的数据或信息\n",
        "    - 形参（形式参数）：在函数定义的时候用到的参数，没有具体的值，只是一个占位符号，称为形参\n",
        "     - 实参（实际参数）：在调用函数的时候输入的值\n",
        "- 返回值：函数的执行结果\n",
        "    -使用return关键字\n",
        "    -如果没有return，默认返回一个none\n",
        "    -函数一旦执行return语句，则无条件返回，及结束函数的执行"
      ]
    },
    {
      "cell_type": "code",
      "execution_count": 28,
      "metadata": {
        "pycharm": {}
      },
      "outputs": [
        {
          "name": "stdout",
          "output_type": "stream",
          "text": [
            "清风明月你肿么了\n",
            "sty, 不理我我就走了呀\n"
          ]
        }
      ],
      "source": [
        "# 参数定义和使用\n",
        "# 参数person只是一个符号，代表的是使用的时候的一个数值\n",
        "# 调用的时候会用p的值代替person的\n",
        "\n",
        "def hello(person):\n",
        "    \n",
        "    print(\"{0}你肿么了\".format(person))\n",
        "    print(\"sty, 不理我我就走了呀\")\n",
        "    \n",
        "p \u003d \"清风明月\"\n",
        "hello(p)\n"
      ]
    },
    {
      "cell_type": "code",
      "execution_count": 29,
      "metadata": {
        "pycharm": {}
      },
      "outputs": [
        {
          "name": "stdout",
          "output_type": "stream",
          "text": [
            "清风明月你肿么了\n",
            "str,你不理我我局走了\n",
            "我已经和清风明月打过招呼了，清风明月不理我\n"
          ]
        }
      ],
      "source": [
        "# return 语句的基本使用\n",
        "#函数打完招呼以后返回的一句话\n",
        "\n",
        "def hello(person):\n",
        "    print(\"{0}你肿么了\".format(person))\n",
        "    print(\"str,你不理我我局走了\")\n",
        "    \n",
        "    return \"我已经和{0}打过招呼了，{1}不理我\".format(person,person)\n",
        "\n",
        "p \u003d \"清风明月\"\n",
        "rst \u003d hello(p)\n",
        "\n",
        "print(rst)"
      ]
    },
    {
      "cell_type": "code",
      "execution_count": 3,
      "metadata": {
        "pycharm": {}
      },
      "outputs": [
        {
          "name": "stdout",
          "output_type": "stream",
          "text": [
            "xiaojiejie你肿么了\n",
            "哈哈，我提前结束了\n"
          ]
        }
      ],
      "source": [
        "# return案例2\n",
        "\n",
        "def hello(person):\n",
        "    print(\"{0}你肿么了\".format(person))\n",
        "    return \"哈哈，我提前结束了\"\n",
        "    print(\"Sir,你不理我我就走咧！\")\n",
        "    return \"我已经和{0}打过招呼了\".format(person)\n",
        "\n",
        "p \u003d \"xiaojiejie\"\n",
        "\n",
        "rst \u003d hello(p)\n",
        "print(rst)"
      ]
    },
    {
      "cell_type": "code",
      "execution_count": 4,
      "metadata": {
        "pycharm": {}
      },
      "outputs": [
        {
          "name": "stdout",
          "output_type": "stream",
          "text": [
            "Help on built-in function print in module builtins:\n",
            "\n",
            "print(...)\n",
            "    print(value, ..., sep\u003d\u0027 \u0027, end\u003d\u0027\\n\u0027, file\u003dsys.stdout, flush\u003dFalse)\n",
            "    \n",
            "    Prints the values to a stream, or to sys.stdout by default.\n",
            "    Optional keyword arguments:\n",
            "    file:  a file-like object (stream); defaults to the current sys.stdout.\n",
            "    sep:   string inserted between values, default a space.\n",
            "    end:   string appended after the last value, default a newline.\n",
            "    flush: whether to forcibly flush the stream.\n",
            "\n"
          ]
        }
      ],
      "source": [
        "# 查看函数的文档\n",
        "# 用help函数\n",
        "\n",
        "help(print)"
      ]
    },
    {
      "cell_type": "code",
      "execution_count": 8,
      "metadata": {
        "pycharm": {}
      },
      "outputs": [
        {
          "name": "stdout",
          "output_type": "stream",
          "text": [
            "1\n",
            "2\n",
            "4\n",
            "3\n",
            "6\n",
            "9\n",
            "4\n",
            "8\n",
            "12\n",
            "16\n",
            "5\n",
            "10\n",
            "15\n",
            "20\n",
            "25\n",
            "6\n",
            "12\n",
            "18\n",
            "24\n",
            "30\n",
            "36\n",
            "7\n",
            "14\n",
            "21\n",
            "28\n",
            "35\n",
            "42\n",
            "49\n",
            "8\n",
            "16\n",
            "24\n",
            "32\n",
            "40\n",
            "48\n",
            "56\n",
            "64\n",
            "9\n",
            "18\n",
            "27\n",
            "36\n",
            "45\n",
            "54\n",
            "63\n",
            "72\n",
            "81\n"
          ]
        }
      ],
      "source": [
        "# 九九乘法表\n",
        "# versi 1\n",
        "\n",
        "for row in range(1,10):\n",
        "    #打印 一行\n",
        "    for col in range(1,row+1):\n",
        "        print(row*col)\n"
      ]
    },
    {
      "cell_type": "code",
      "execution_count": 11,
      "metadata": {
        "pycharm": {}
      },
      "outputs": [
        {
          "name": "stdout",
          "output_type": "stream",
          "text": [
            "1  ········\n",
            "2  4  ········\n",
            "3  6  9  ········\n",
            "4  8  12  16  ········\n",
            "5  10  15  20  25  ········\n",
            "6  12  18  24  30  36  ········\n",
            "7  14  21  28  35  42  49  ········\n",
            "8  16  24  32  40  48  56  64  ········\n",
            "9  18  27  36  45  54  63  72  81  ········\n"
          ]
        }
      ],
      "source": [
        "# version 2\n",
        "\n",
        "for row in range(1,10):\n",
        "    #打印 一行\n",
        "    for col in range(1,row+1):\n",
        "        print(row*col,end\u003d\"  \")\n",
        "    print(\"········\")"
      ]
    },
    {
      "cell_type": "code",
      "execution_count": 2,
      "metadata": {
        "pycharm": {
          "is_executing": false
        }
      },
      "outputs": [
        {
          "name": "stdout",
          "text": [
            "1   \n2  4   \n3  6  9   \n4  8  12  16   \n5  10  15  20  25   \n6  12  18  24  30  36   \n7  14  21  28  35  42  49   \n8  16  24  32  40  48  56  64   \n9  18  27  36  45  54  63  72  81   \n"
          ],
          "output_type": "stream"
        }
      ],
      "source": [
        "# 定义一个函数 打印九九乘法表\n",
        "\n",
        "def printline(row):\n",
        "    for col in range(1,row+1):\n",
        "        print(row*col,end\u003d\"  \")\n",
        "    print(\" \")\n",
        "\n",
        "for row in  range (1,10):\n",
        "    printline(row)\n"
      ]
    },
    {
      "cell_type": "markdown",
      "metadata": {
        "pycharm": {}
      },
      "source": [
        "# 参数详解"
      ]
    },
    {
      "cell_type": "markdown",
      "metadata": {
        "pycharm": {}
      },
      "source": [
        "- 参考资料 https://www.cnblogs.com/bingabcd/p/6671368.html\n",
        "- 参数分类\n",
        "    - 普通参数\n",
        "    - 默认参数\n",
        "    - 关键字参数\n",
        "    - 搜集参数\n",
        "- 普通参数\n",
        "    - 参见上例\n",
        "    - 定义的时候直接定义变量名\n",
        "    - 调用的时候直接把变量或者值放入指定位置\n",
        "    \n",
        "            def  函数名（参数1，参数2）：\n",
        "                函数体\n",
        "            \n",
        "            3 调用\n",
        "            函数名（value1， value2）\n",
        "            \n",
        "            # 调用的时候，具体值参考的事定义的位置\n",
        "            \n",
        "- 默认参数\n",
        "    - 形参带有默认值\n",
        "    - 调用的时候，如果没有对相应形参赋值，则使用默认值\n",
        "    \n",
        "            def  fune_name（p1\u003dv1，p2\u003dv2）\n",
        "            \n",
        "                fune_block\n",
        "                \n",
        "            # 调用\n",
        "            fune_name()\n",
        "            \n",
        "            # 调用2\n",
        "            value1 \u003d 100\n",
        "            value2 \u003d 200\n",
        "            fune_name（value1，value2）\n",
        "            "
      ]
    },
    {
      "cell_type": "code",
      "execution_count": 15,
      "metadata": {
        "pycharm": {}
      },
      "outputs": [],
      "source": [
        "# 默认参数示例\n",
        "# 报名参数，需要知道学生的姓名\n",
        "# 学习python的基本都是男生，所以报名的时候\n",
        "\n",
        "def reg ( name, age, gender\u003d\"male\"):\n",
        "    if gender \u003d\u003d \"male\":\n",
        "        print(\"{0} is {1},and he is a good student \".format(name,age))\n",
        "    else:\n",
        "        print(\"{0} is {1},and she is a good student\".format(name,age))\n",
        "        \n"
      ]
    },
    {
      "cell_type": "code",
      "execution_count": null,
      "metadata": {
        "pycharm": {}
      },
      "outputs": [],
      "source": []
    },
    {
      "cell_type": "code",
      "execution_count": 16,
      "metadata": {
        "pycharm": {}
      },
      "outputs": [
        {
          "name": "stdout",
          "output_type": "stream",
          "text": [
            "xiaojiejie is 21,and he is a good student \n",
            "xiaogege is 18,and she is a good student\n"
          ]
        }
      ],
      "source": [
        "reg(\"xiaojiejie\",21)\n",
        "\n",
        "reg(\"xiaogege\",18,\"female\")"
      ]
    },
    {
      "cell_type": "code",
      "execution_count": null,
      "metadata": {
        "pycharm": {}
      },
      "outputs": [],
      "source": []
    },
    {
      "cell_type": "code",
      "execution_count": null,
      "metadata": {
        "pycharm": {}
      },
      "outputs": [],
      "source": []
    },
    {
      "cell_type": "code",
      "execution_count": null,
      "metadata": {
        "pycharm": {}
      },
      "outputs": [],
      "source": []
    },
    {
      "cell_type": "code",
      "execution_count": null,
      "metadata": {
        "pycharm": {}
      },
      "outputs": [],
      "source": []
    },
    {
      "cell_type": "code",
      "execution_count": null,
      "metadata": {
        "pycharm": {}
      },
      "outputs": [],
      "source": []
    },
    {
      "cell_type": "code",
      "execution_count": null,
      "metadata": {
        "pycharm": {}
      },
      "outputs": [],
      "source": []
    },
    {
      "cell_type": "code",
      "execution_count": null,
      "metadata": {
        "pycharm": {}
      },
      "outputs": [],
      "source": []
    },
    {
      "cell_type": "code",
      "execution_count": null,
      "metadata": {
        "pycharm": {}
      },
      "outputs": [],
      "source": []
    },
    {
      "cell_type": "code",
      "execution_count": null,
      "metadata": {
        "pycharm": {}
      },
      "outputs": [],
      "source": []
    },
    {
      "cell_type": "code",
      "execution_count": null,
      "metadata": {
        "pycharm": {}
      },
      "outputs": [],
      "source": []
    },
    {
      "cell_type": "code",
      "execution_count": null,
      "metadata": {
        "pycharm": {}
      },
      "outputs": [],
      "source": []
    },
    {
      "cell_type": "code",
      "execution_count": 24,
      "metadata": {
        "pycharm": {}
      },
      "outputs": [
        {
          "ename": "SyntaxError",
          "evalue": "invalid character in identifier (\u003cipython-input-24-59d182bb228b\u003e, line 1)",
          "traceback": [
            "\u001b[1;36m  File \u001b[1;32m\"\u003cipython-input-24-59d182bb228b\u003e\"\u001b[1;36m, line \u001b[1;32m1\u001b[0m\n\u001b[1;33m    fune（）\u001b[0m\n\u001b[1;37m         ^\u001b[0m\n\u001b[1;31mSyntaxError\u001b[0m\u001b[1;31m:\u001b[0m invalid character in identifier\n"
          ],
          "output_type": "error"
        }
      ],
      "source": []
    },
    {
      "cell_type": "code",
      "execution_count": null,
      "metadata": {
        "pycharm": {}
      },
      "outputs": [],
      "source": []
    },
    {
      "cell_type": "code",
      "execution_count": null,
      "metadata": {
        "pycharm": {}
      },
      "outputs": [],
      "source": []
    },
    {
      "cell_type": "code",
      "execution_count": null,
      "metadata": {
        "pycharm": {}
      },
      "outputs": [],
      "source": []
    },
    {
      "cell_type": "code",
      "execution_count": null,
      "metadata": {
        "pycharm": {}
      },
      "outputs": [],
      "source": []
    },
    {
      "cell_type": "code",
      "execution_count": null,
      "metadata": {
        "pycharm": {}
      },
      "outputs": [],
      "source": []
    },
    {
      "cell_type": "code",
      "execution_count": null,
      "metadata": {
        "pycharm": {}
      },
      "outputs": [],
      "source": []
    },
    {
      "cell_type": "code",
      "execution_count": null,
      "metadata": {
        "pycharm": {}
      },
      "outputs": [],
      "source": []
    },
    {
      "cell_type": "code",
      "execution_count": null,
      "metadata": {
        "pycharm": {}
      },
      "outputs": [],
      "source": []
    },
    {
      "cell_type": "code",
      "execution_count": null,
      "metadata": {
        "pycharm": {}
      },
      "outputs": [],
      "source": []
    },
    {
      "cell_type": "code",
      "execution_count": null,
      "metadata": {
        "pycharm": {}
      },
      "outputs": [],
      "source": []
    }
  ],
  "metadata": {
    "kernelspec": {
      "display_name": "Python 3",
      "language": "python",
      "name": "python3"
    },
    "language_info": {
      "codemirror_mode": {
        "name": "ipython",
        "version": 3
      },
      "file_extension": ".py",
      "mimetype": "text/x-python",
      "name": "python",
      "nbconvert_exporter": "python",
      "pygments_lexer": "ipython3",
      "version": "3.6.5"
    }
  },
  "nbformat": 4,
  "nbformat_minor": 2
}
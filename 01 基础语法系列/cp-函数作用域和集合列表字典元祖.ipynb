{
 "cells": [
  {
   "cell_type": "markdown",
   "metadata": {},
   "source": [
    "# 变量作用域\n",
    "\n",
    "- 变量由作用范围限制\n",
    "- 分类，按照作用域分类\n",
    "    - 全局（global 在函数外部定义\n",
    "    - 局部（local，在函数内部定义\n",
    "- 变量的作用范围\n",
    "    - 全局变量 在整个全局范围内有限\n",
    "    - 全局变量在局部可以使用，（即函数内部可以访问函数外部定义的变量\n",
    "    - 局部变量在局部范围内可以使用\n",
    "    - 局部变量在全局范围内无法使用\n",
    "- LEGB 原则\n",
    "    - L(local局部作用域\n",
    "    - E（enclosing function local外部镶嵌函数作用域\n",
    "    - G（global module）函数定义所在操作模块\n",
    "    - B（buildin）  python内置魔抗的作用域"
   ]
  },
  {
   "cell_type": "code",
   "execution_count": 2,
   "metadata": {},
   "outputs": [
    {
     "name": "stdout",
     "output_type": "stream",
     "text": [
      "100\n",
      "100\n",
      "i an in fun\n",
      "200\n",
      "200\n"
     ]
    }
   ],
   "source": [
    "# 认为a1 是全局的\n",
    "\n",
    "a1 = 100\n",
    "\n",
    "def fun():\n",
    "    global a2\n",
    "    print(a1)\n",
    "    print(\"i an in fun\")\n",
    "    #  a2的作用范围是fun\n",
    "    a2 = 200\n",
    "    print(a2)\n",
    "\n",
    "print(a1)\n",
    "\n",
    "fun()\n",
    "print(a2)"
   ]
  },
  {
   "cell_type": "code",
   "execution_count": null,
   "metadata": {},
   "outputs": [],
   "source": []
  },
  {
   "cell_type": "markdown",
   "metadata": {},
   "source": [
    "# 提升局部变量为全局变量\n",
    "\n",
    "- 使用global\n",
    "- 案例如下"
   ]
  },
  {
   "cell_type": "code",
   "execution_count": 1,
   "metadata": {},
   "outputs": [
    {
     "name": "stdout",
     "output_type": "stream",
     "text": [
      "100\n",
      "i an in fun\n",
      "100\n"
     ]
    }
   ],
   "source": [
    "def fun():\n",
    "    global b1\n",
    "    b1 = 100\n",
    "    print(b1)\n",
    "    print(\"i an in fun\")\n",
    "    # a2 的作用范围是fun\n",
    "    \n",
    "# print(b2)\n",
    "fun()\n",
    "\n",
    "# print(b1)古国在函数调用上面，则不好使，报错，为什么\n",
    "print(b1)"
   ]
  },
  {
   "cell_type": "markdown",
   "metadata": {},
   "source": [
    "# global,locals函数\n",
    "\n",
    "- 可以通过global和local侠士出局部变量和全局变量\n",
    "- 案例如下\n"
   ]
  },
  {
   "cell_type": "code",
   "execution_count": 3,
   "metadata": {},
   "outputs": [
    {
     "name": "stdout",
     "output_type": "stream",
     "text": [
      "locals = {'e': 100, 'b': 200, 'a': 100}\n",
      "global = {'__name__': '__main__', '__doc__': 'Automatically created module for IPython interactive environment', '__package__': None, '__loader__': None, '__spec__': None, '__builtin__': <module 'builtins' (built-in)>, '__builtins__': <module 'builtins' (built-in)>, '_ih': ['', 'def fun():\\n    global b1\\n    b1 = 100\\n    print(b1)\\n    print(\"i an in fun\")\\n    # a2 的作用范围是fun\\n    \\n# print(b2)\\nfun()\\n\\n# print(b1)古国在函数调用上面，则不好使，报错，为什么\\nprint(b1)', '# 认为a1 是全局的\\n\\na1 = 100\\n\\ndef fun():\\n    global a2\\n    print(a1)\\n    print(\"i an in fun\")\\n    #  a2的作用范围是fun\\n    a2 = 200\\n    print(a2)\\n\\nprint(a1)\\n\\nfun()\\nprint(a2)', '# global 和 locals\\n# global 和locals 叫做内检函数\\n\\na = 1\\nb = 2\\n\\ndef fun(a,b):\\n    e = 100\\n    print(\"locals = {}\".format(locals()))\\n    print(\"global = {}\" .format(globals()))\\n    \\nfun(100,200)'], '_oh': {}, '_dh': ['C:\\\\Users\\\\Administrator\\\\Desktop\\\\python'], 'In': ['', 'def fun():\\n    global b1\\n    b1 = 100\\n    print(b1)\\n    print(\"i an in fun\")\\n    # a2 的作用范围是fun\\n    \\n# print(b2)\\nfun()\\n\\n# print(b1)古国在函数调用上面，则不好使，报错，为什么\\nprint(b1)', '# 认为a1 是全局的\\n\\na1 = 100\\n\\ndef fun():\\n    global a2\\n    print(a1)\\n    print(\"i an in fun\")\\n    #  a2的作用范围是fun\\n    a2 = 200\\n    print(a2)\\n\\nprint(a1)\\n\\nfun()\\nprint(a2)', '# global 和 locals\\n# global 和locals 叫做内检函数\\n\\na = 1\\nb = 2\\n\\ndef fun(a,b):\\n    e = 100\\n    print(\"locals = {}\".format(locals()))\\n    print(\"global = {}\" .format(globals()))\\n    \\nfun(100,200)'], 'Out': {}, 'get_ipython': <bound method InteractiveShell.get_ipython of <ipykernel.zmqshell.ZMQInteractiveShell object at 0x000002215AA16EB8>>, 'exit': <IPython.core.autocall.ZMQExitAutocall object at 0x000002215AA6E2E8>, 'quit': <IPython.core.autocall.ZMQExitAutocall object at 0x000002215AA6E2E8>, '_': '', '__': '', '___': '', '_i': '# 认为a1 是全局的\\n\\na1 = 100\\n\\ndef fun():\\n    global a2\\n    print(a1)\\n    print(\"i an in fun\")\\n    #  a2的作用范围是fun\\n    a2 = 200\\n    print(a2)\\n\\nprint(a1)\\n\\nfun()\\nprint(a2)', '_ii': 'def fun():\\n    global b1\\n    b1 = 100\\n    print(b1)\\n    print(\"i an in fun\")\\n    # a2 的作用范围是fun\\n    \\n# print(b2)\\nfun()\\n\\n# print(b1)古国在函数调用上面，则不好使，报错，为什么\\nprint(b1)', '_iii': '', '_i1': 'def fun():\\n    global b1\\n    b1 = 100\\n    print(b1)\\n    print(\"i an in fun\")\\n    # a2 的作用范围是fun\\n    \\n# print(b2)\\nfun()\\n\\n# print(b1)古国在函数调用上面，则不好使，报错，为什么\\nprint(b1)', 'fun': <function fun at 0x000002215AB4CB70>, 'b1': 100, '_i2': '# 认为a1 是全局的\\n\\na1 = 100\\n\\ndef fun():\\n    global a2\\n    print(a1)\\n    print(\"i an in fun\")\\n    #  a2的作用范围是fun\\n    a2 = 200\\n    print(a2)\\n\\nprint(a1)\\n\\nfun()\\nprint(a2)', 'a1': 100, 'a2': 200, '_i3': '# global 和 locals\\n# global 和locals 叫做内检函数\\n\\na = 1\\nb = 2\\n\\ndef fun(a,b):\\n    e = 100\\n    print(\"locals = {}\".format(locals()))\\n    print(\"global = {}\" .format(globals()))\\n    \\nfun(100,200)', 'a': 1, 'b': 2}\n"
     ]
    }
   ],
   "source": [
    "# global 和 locals\n",
    "# global 和locals 叫做内检函数\n",
    "\n",
    "a = 1\n",
    "b = 2\n",
    "\n",
    "def fun(a,b):\n",
    "    e = 100\n",
    "    print(\"locals = {}\".format(locals()))\n",
    "    print(\"global = {}\" .format(globals()))\n",
    "    \n",
    "fun(100,200)"
   ]
  },
  {
   "cell_type": "markdown",
   "metadata": {},
   "source": [
    "# evel函数\n",
    "\n",
    "- 把一个字符串当成一个表达式和执行，返回表达式自行后来的结果\n",
    "- 语法\n",
    "\n",
    "            evel（string_code,global= None,locals=None）"
   ]
  },
  {
   "cell_type": "markdown",
   "metadata": {},
   "source": [
    "# exec（）函数\n",
    "\n",
    "- 个eval功能类似，但是不返回结果\n",
    "- 语法\n",
    "\n",
    "            exec（string_code,global=None,locals=None）"
   ]
  },
  {
   "cell_type": "code",
   "execution_count": 1,
   "metadata": {},
   "outputs": [
    {
     "name": "stdout",
     "output_type": "stream",
     "text": [
      "400 400 None\n"
     ]
    }
   ],
   "source": [
    "x = 100\n",
    "y = 300\n",
    "# z = x + y\n",
    "z1 = x+y\n",
    "z2 = eval(\"x+y\")\n",
    "z3 = exec(\"x+y\")\n",
    "\n",
    "print(z1,z2,z3)"
   ]
  },
  {
   "cell_type": "code",
   "execution_count": null,
   "metadata": {},
   "outputs": [],
   "source": []
  },
  {
   "cell_type": "code",
   "execution_count": 13,
   "metadata": {},
   "outputs": [
    {
     "name": "stdout",
     "output_type": "stream",
     "text": [
      "x+y 300\n",
      "300 None\n",
      "None\n"
     ]
    }
   ],
   "source": [
    "# exec示例\n",
    "x = 100\n",
    "y = 200\n",
    "# 执行x+y\n",
    "z1 = x+y\n",
    "# 1,注意字符串中引号的写法\n",
    "# 2，对比exec执行结果和代码执行结果\n",
    "z2 = exec(\"print('x+y',x+y)\")\n",
    "\n",
    "z3 = eval(\"print(z1,z2)\")\n",
    "print(z3)"
   ]
  },
  {
   "cell_type": "code",
   "execution_count": null,
   "metadata": {},
   "outputs": [],
   "source": [
    "# 斐波那契数列\n",
    "\n",
    "# 一列数字，第一个是一，第二个是一，第三个数字是前两个数字之和\n",
    "\n",
    "def fib(n):\n",
    "    \n",
    "    if n ==1:\n",
    "        return 1\n",
    "    if n ==2:\n",
    "        return 1\n",
    "    \n",
    "    return fib(n-1) + fib(n-2)\n",
    "\n",
    "\n",
    "print(fib(100))\n",
    "\n",
    "# 接受用户输入，打印所有\n",
    "\n",
    "user = int(input(\"请输入要计算的数：\"))\n",
    "\n",
    "if user<=0:\n",
    "    print(\"请输入正数：\")\n",
    "if user >= 1:\n",
    "    print(\"斐波那契数列为：\")\n",
    "    for i in range(user):\n",
    "        print(fib(i))\n",
    "        \n"
   ]
  },
  {
   "cell_type": "code",
   "execution_count": 10,
   "metadata": {},
   "outputs": [
    {
     "name": "stdout",
     "output_type": "stream",
     "text": [
      "2\n",
      "55\n"
     ]
    }
   ],
   "source": [
    "\n",
    "def fib(n):\n",
    "    if n == 1:\n",
    "        return 1\n",
    "    \n",
    "    if n == 2:\n",
    "        return 1\n",
    "    \n",
    "    # 思考：为什么后面return能够正确执行，而不用else语句\n",
    "    return fib(n-1) + fib(n-2)\n",
    "\n",
    "print(fib(3))\n",
    "print(fib(10))"
   ]
  },
  {
   "cell_type": "code",
   "execution_count": null,
   "metadata": {},
   "outputs": [],
   "source": [
    "def fib(n):\n",
    "    \n",
    "    if n ==1:\n",
    "        return 1\n",
    "    if n ==2:\n",
    "        return 1\n",
    "    \n",
    "    return fib(n-1) + fib(n-2)\n",
    "\n",
    "\n",
    "print(fib(100))\n",
    "\n",
    "# 接受用户输入，打印所有\n",
    "\n",
    "user = int(input(\"请输入要计算的数：\"))\n",
    "\n",
    "if user<=0:\n",
    "    print(\"请输入正数：\")\n",
    "if user >= 1:\n",
    "    print(\"斐波那契数列为：\")\n",
    "    for i in range(user):\n",
    "        print(fib(i))\n",
    "        "
   ]
  },
  {
   "cell_type": "code",
   "execution_count": null,
   "metadata": {},
   "outputs": [],
   "source": []
  },
  {
   "cell_type": "code",
   "execution_count": 1,
   "metadata": {},
   "outputs": [
    {
     "name": "stdout",
     "output_type": "stream",
     "text": [
      "您要输出几项? 10\n",
      "斐波那契数列:\n",
      "0\n",
      "1\n",
      "1\n",
      "2\n",
      "3\n",
      "5\n",
      "8\n",
      "13\n",
      "21\n",
      "34\n"
     ]
    }
   ],
   "source": [
    "# Filename : test.py\n",
    "# author by : www.runoob.com\n",
    " \n",
    "def recur_fibo(n):\n",
    "   \"\"\"递归函数\n",
    "   输出斐波那契数列\"\"\"\n",
    "   if n <= 1:\n",
    "       return n\n",
    "   else:\n",
    "       return(recur_fibo(n-1) + recur_fibo(n-2))\n",
    " \n",
    " \n",
    "# 获取用户输入\n",
    "nterms = int(input(\"您要输出几项? \"))\n",
    " \n",
    "# 检查输入的数字是否正确\n",
    "if nterms <= 0:\n",
    "   print(\"输入正数\")\n",
    "else:\n",
    "   print(\"斐波那契数列:\")\n",
    "   for i in range(nterms):\n",
    "       print(recur_fibo(i))"
   ]
  },
  {
   "cell_type": "code",
   "execution_count": 4,
   "metadata": {},
   "outputs": [
    {
     "name": "stdout",
     "output_type": "stream",
     "text": [
      "3\n",
      "55\n",
      "请输入数：10\n"
     ]
    },
    {
     "ename": "RecursionError",
     "evalue": "maximum recursion depth exceeded in comparison",
     "output_type": "error",
     "traceback": [
      "\u001b[1;31m---------------------------------------------------------------------------\u001b[0m",
      "\u001b[1;31mRecursionError\u001b[0m                            Traceback (most recent call last)",
      "\u001b[1;32m<ipython-input-4-10989da1a3a0>\u001b[0m in \u001b[0;36m<module>\u001b[1;34m()\u001b[0m\n\u001b[0;32m     17\u001b[0m \u001b[1;32melse\u001b[0m\u001b[1;33m:\u001b[0m\u001b[1;33m\u001b[0m\u001b[0m\n\u001b[0;32m     18\u001b[0m     \u001b[1;32mfor\u001b[0m \u001b[0mi\u001b[0m \u001b[1;32min\u001b[0m \u001b[0mrange\u001b[0m\u001b[1;33m(\u001b[0m\u001b[0muser\u001b[0m\u001b[1;33m)\u001b[0m\u001b[1;33m:\u001b[0m\u001b[1;33m\u001b[0m\u001b[0m\n\u001b[1;32m---> 19\u001b[1;33m         \u001b[0mprint\u001b[0m\u001b[1;33m(\u001b[0m\u001b[0mfib\u001b[0m\u001b[1;33m(\u001b[0m\u001b[0mi\u001b[0m\u001b[1;33m)\u001b[0m\u001b[1;33m)\u001b[0m\u001b[1;33m\u001b[0m\u001b[0m\n\u001b[0m",
      "\u001b[1;32m<ipython-input-4-10989da1a3a0>\u001b[0m in \u001b[0;36mfib\u001b[1;34m(n)\u001b[0m\n\u001b[0;32m      7\u001b[0m \u001b[1;33m\u001b[0m\u001b[0m\n\u001b[0;32m      8\u001b[0m     \u001b[1;31m# 思考：为什么后面return能够正确执行，而不用else语句\u001b[0m\u001b[1;33m\u001b[0m\u001b[1;33m\u001b[0m\u001b[0m\n\u001b[1;32m----> 9\u001b[1;33m     \u001b[1;32mreturn\u001b[0m \u001b[0mfib\u001b[0m\u001b[1;33m(\u001b[0m\u001b[0mn\u001b[0m\u001b[1;33m-\u001b[0m\u001b[1;36m1\u001b[0m\u001b[1;33m)\u001b[0m \u001b[1;33m+\u001b[0m \u001b[0mfib\u001b[0m\u001b[1;33m(\u001b[0m\u001b[0mn\u001b[0m\u001b[1;33m-\u001b[0m\u001b[1;36m2\u001b[0m\u001b[1;33m)\u001b[0m\u001b[1;33m\u001b[0m\u001b[0m\n\u001b[0m\u001b[0;32m     10\u001b[0m \u001b[1;33m\u001b[0m\u001b[0m\n\u001b[0;32m     11\u001b[0m \u001b[0mprint\u001b[0m\u001b[1;33m(\u001b[0m\u001b[0mfib\u001b[0m\u001b[1;33m(\u001b[0m\u001b[1;36m4\u001b[0m\u001b[1;33m)\u001b[0m\u001b[1;33m)\u001b[0m\u001b[1;33m\u001b[0m\u001b[0m\n",
      "... last 1 frames repeated, from the frame below ...\n",
      "\u001b[1;32m<ipython-input-4-10989da1a3a0>\u001b[0m in \u001b[0;36mfib\u001b[1;34m(n)\u001b[0m\n\u001b[0;32m      7\u001b[0m \u001b[1;33m\u001b[0m\u001b[0m\n\u001b[0;32m      8\u001b[0m     \u001b[1;31m# 思考：为什么后面return能够正确执行，而不用else语句\u001b[0m\u001b[1;33m\u001b[0m\u001b[1;33m\u001b[0m\u001b[0m\n\u001b[1;32m----> 9\u001b[1;33m     \u001b[1;32mreturn\u001b[0m \u001b[0mfib\u001b[0m\u001b[1;33m(\u001b[0m\u001b[0mn\u001b[0m\u001b[1;33m-\u001b[0m\u001b[1;36m1\u001b[0m\u001b[1;33m)\u001b[0m \u001b[1;33m+\u001b[0m \u001b[0mfib\u001b[0m\u001b[1;33m(\u001b[0m\u001b[0mn\u001b[0m\u001b[1;33m-\u001b[0m\u001b[1;36m2\u001b[0m\u001b[1;33m)\u001b[0m\u001b[1;33m\u001b[0m\u001b[0m\n\u001b[0m\u001b[0;32m     10\u001b[0m \u001b[1;33m\u001b[0m\u001b[0m\n\u001b[0;32m     11\u001b[0m \u001b[0mprint\u001b[0m\u001b[1;33m(\u001b[0m\u001b[0mfib\u001b[0m\u001b[1;33m(\u001b[0m\u001b[1;36m4\u001b[0m\u001b[1;33m)\u001b[0m\u001b[1;33m)\u001b[0m\u001b[1;33m\u001b[0m\u001b[0m\n",
      "\u001b[1;31mRecursionError\u001b[0m: maximum recursion depth exceeded in comparison"
     ]
    }
   ],
   "source": [
    "def fib(n):\n",
    "    if n == 1:\n",
    "        return 1\n",
    "    \n",
    "    if n == 2:\n",
    "        return 1\n",
    "    \n",
    "    # 思考：为什么后面return能够正确执行，而不用else语句\n",
    "    return fib(n-1) + fib(n-2)\n",
    "\n",
    "print(fib(4))\n",
    "print(fib(10))\n",
    "\n",
    "user = int(input(\"请输入数：\"))\n",
    "if user<=0:\n",
    "    print(\"请输入正数\")\n",
    "else:\n",
    "    for i in range(user):\n",
    "        print(fib(i))"
   ]
  },
  {
   "cell_type": "markdown",
   "metadata": {},
   "source": [
    "# 内置数据结构（变量类型）\n",
    "\n",
    "- list\n",
    "- set\n",
    "- dict\n",
    "- tuple\n",
    "\n",
    "##  list()别表\n",
    "- 一组顺序的数据组合\n",
    "- 创建列表\n",
    "    - 空列表"
   ]
  },
  {
   "cell_type": "code",
   "execution_count": 1,
   "metadata": {},
   "outputs": [
    {
     "name": "stdout",
     "output_type": "stream",
     "text": [
      "<class 'list'>\n",
      "[]\n",
      "<class 'list'>\n",
      "[100]\n",
      "<class 'list'>\n",
      "<class 'list'>\n",
      "[]\n"
     ]
    }
   ],
   "source": [
    "# 1、创建空列表\n",
    "l1 = []\n",
    "\n",
    "# type是内置函数，负责打印变量的类型\n",
    "\n",
    "print(type(l1))\n",
    "print(l1)\n",
    "\n",
    "# 2\\创建带值得列条\n",
    "l2 = [100]\n",
    "print(type(l2))\n",
    "print(l2)\n",
    "\n",
    "# 3、创建列表 带多个值\n",
    "l3 = [1,2,3,4,5]\n",
    "print(type(l3))\n",
    "\n",
    "# 4、使用list\n",
    "l4 = list()\n",
    "print(type(l4))\n",
    "print(l4)"
   ]
  },
  {
   "cell_type": "markdown",
   "metadata": {},
   "source": [
    "# 列表常用操作\n",
    "\n",
    "- 访问\n",
    "    - 使用下表操作（索引）\n",
    "    - 列表的位置是从0开始\n",
    "- 分片操作\n",
    "    - 对列表进行任意一段的截切"
   ]
  },
  {
   "cell_type": "code",
   "execution_count": 5,
   "metadata": {},
   "outputs": [
    {
     "name": "stdout",
     "output_type": "stream",
     "text": [
      "4\n",
      "1\n"
     ]
    }
   ],
   "source": [
    "l = [1,2,3,4,5,6,7,8,9,10]\n",
    "\n",
    "print(l[3])\n",
    "print(l[0])"
   ]
  },
  {
   "cell_type": "code",
   "execution_count": 8,
   "metadata": {},
   "outputs": [
    {
     "name": "stdout",
     "output_type": "stream",
     "text": [
      "[2, 3, 4]\n",
      "[1, 2, 3, 4, 5, 6, 7, 8, 9, 10]\n",
      "[1, 2, 3, 4]\n",
      "[3, 4, 5, 6, 7, 8, 9, 10]\n"
     ]
    }
   ],
   "source": [
    "# 分片操作\n",
    "# 注意截取的范围，包括左边的下表值，不包含右边的小婊砸\n",
    "print(l[1:4])\n",
    "\n",
    "# 下面值可以为空，如果不写，左边下标值默认为0，右边下标值加一，则表示最后一个值\n",
    "l = [1,2,3,4,5,6,7,8,9,10]\n",
    "print(l[:])\n",
    "print(l[:4])\n",
    "print(l[2:])"
   ]
  },
  {
   "cell_type": "code",
   "execution_count": 9,
   "metadata": {},
   "outputs": [
    {
     "name": "stdout",
     "output_type": "stream",
     "text": [
      "[1, 2, 3, 4, 5, 6, 7, 8, 9, 10]\n",
      "[2, 3, 4, 5, 6]\n",
      "[2, 4, 6]\n",
      "[3, 4, 5, 6, 7, 8, 9, 10]\n"
     ]
    }
   ],
   "source": [
    "print(l)\n",
    "# 分片可以控制增长长度，默认增长幅度为1\n",
    "print(l[1:6:1])\n",
    "\n",
    "# 打印下标从1开始的数字， 每次隔一个\n",
    "print(l[1:6:2])\n",
    "\n",
    "# 下标错处范围，超出后不在考略对于的内容\n",
    "print(l[2:10])\n",
    "\n",
    "# 下标值，增长幅度可以为负数\n",
    "# 为负数，表明顺序是从右往左\n",
    "# 规定：数值最后一个数字的下表为=1"
   ]
  },
  {
   "cell_type": "code",
   "execution_count": 10,
   "metadata": {},
   "outputs": [
    {
     "name": "stdout",
     "output_type": "stream",
     "text": [
      "[1, 2, 3, 4, 5, 6, 7, 8, 9, 10]\n",
      "[]\n",
      "[7, 8]\n",
      "[10, 9, 8]\n"
     ]
    }
   ],
   "source": [
    "# 分片之负数下标\n",
    "print(l)\n",
    "# 下面显示u的事为空，因为默认分片是从右往左截取\n",
    "# 即正常情况，分片左边的值一定小于右边的值\n",
    "\n",
    "print(l[-2:-4])\n",
    "print(l[-4:-2])\n",
    "\n",
    "# 如果分片一定右边值比左边大，则参数一定要使用负数\n",
    "# 此案例为list正反颠倒提供一种silu\n",
    "\n",
    "print(l[-1:-4:-1])"
   ]
  },
  {
   "cell_type": "markdown",
   "metadata": {},
   "source": [
    "# 分片生成一个新的列表\n",
    "\n",
    "- 内置函数id，负责显示一个变量或者数值的唯一确定编号\n"
   ]
  },
  {
   "cell_type": "code",
   "execution_count": 13,
   "metadata": {},
   "outputs": [
    {
     "name": "stdout",
     "output_type": "stream",
     "text": [
      "1444903072\n",
      "1631335244272\n",
      "1444903072\n",
      "101\n",
      "100\n"
     ]
    }
   ],
   "source": [
    "# id函数举例\n",
    "a = 100\n",
    "b = 300\n",
    "print(id(a))\n",
    "print(id(b))\n",
    "\n",
    "c = a\n",
    "print(id(c))\n",
    "\n",
    "# 如果a和c只是一份数据，则更改a 的数值同伴也会更改c的数值\n",
    "# 但是，显示结果并非如此，为什么\n",
    "a = 101\n",
    "print(a)\n",
    "print(c)"
   ]
  },
  {
   "cell_type": "code",
   "execution_count": 15,
   "metadata": {},
   "outputs": [
    {
     "name": "stdout",
     "output_type": "stream",
     "text": [
      "1631332163208\n",
      "1631333340552\n",
      "1631333340552\n",
      "[1, 100, 3, 4, 5, 6, 7, 8, 9, 10]\n",
      "[1, 2, 3, 4, 5, 6, 7, 8, 9, 10]\n",
      "[1, 100, 3, 4, 5, 6, 7, 8, 9, 10]\n",
      "[1, 100, 3, 4, 5, 6, 7, 8, 9, 10]\n"
     ]
    }
   ],
   "source": [
    "# 通过分片可以直接判断分片是从新生成一份数据还是使用同一份数据\n",
    "l = [1,2,3,4,5,6,7,8,9,10]\n",
    "ll = l[:]\n",
    "lll = ll\n",
    "# 如果两个id值一样，则表明分片产生的列表是使用的同一地址同一份数据\n",
    "# 否则，则表明分片是从新生成了一份数据，即一个新的列表，然\n",
    "# 后把数值拷贝到新列表中\n",
    "print(id(l))\n",
    "print(id(ll))\n",
    "print(id(lll))\n",
    "\n",
    "# 通过id知道，llhelll是同一份数据\n",
    "l[1]=100\n",
    "print(l)\n",
    "print(ll)\n",
    "\n",
    "ll[1] =100\n",
    "print(ll)\n",
    "print(lll)"
   ]
  }
 ],
 "metadata": {
  "kernelspec": {
   "display_name": "Python 3",
   "language": "python",
   "name": "python3"
  },
  "language_info": {
   "codemirror_mode": {
    "name": "ipython",
    "version": 3
   },
   "file_extension": ".py",
   "mimetype": "text/x-python",
   "name": "python",
   "nbconvert_exporter": "python",
   "pygments_lexer": "ipython3",
   "version": "3.6.5"
  }
 },
 "nbformat": 4,
 "nbformat_minor": 2
}

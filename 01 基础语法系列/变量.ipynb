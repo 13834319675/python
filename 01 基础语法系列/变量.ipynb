{
 "cells": [
  {
   "cell_type": "markdown",
   "metadata": {},
   "source": [
    "# 什么事变量\n",
    "\n",
    "###\n",
    "变量是可以改变的量，如："
   ]
  },
  {
   "cell_type": "markdown",
   "metadata": {},
   "source": [
    "x+y =10\n",
    "x=5y =?\n",
    "x=7y =?\n",
    "以上示例中的x和y就是变量，它们是数学里的变量\n"
   ]
  },
  {
   "cell_type": "markdown",
   "metadata": {},
   "source": [
    "## 通俗的理解：\n",
    "\n",
    "变量 = 生活中的容器\n",
    "变量赋值操作 = 我们把物品放入容器\n",
    "数据类型 = 取决于我们放入容器中的物品\n",
    "\n"
   ]
  },
  {
   "cell_type": "markdown",
   "metadata": {},
   "source": [
    "# 变量命名规范\n",
    "\n",
    "·1 可以使用英文，不推荐使用中文\n",
    "·2 可以使用数字，不猛视同数字开头\n",
    "·3 不可以使用特殊符号，除了下划线_:\n",
    "·4 变量名严格区分大小写：\n",
    "·5 变量的命名要有意义：\n",
    "·6 不能喝系统中的保留字有冲突。\n"
   ]
  },
  {
   "cell_type": "markdown",
   "metadata": {},
   "source": [
    "# 系统中的保留字\n",
    "\n"
   ]
  },
  {
   "cell_type": "markdown",
   "metadata": {},
   "source": [
    "（“False”，“Nine”，“Ture”，“and”，“as”，“assert”，\n",
    "“break”，“class”，“continue”，“def”，“del”，“elif”，\n",
    "“except”，“finally”，“for”，“form”，“global”，“if”，\n",
    "“import”，“in”，“is”，“lambda”,“nonlocal”，“not”，\n",
    "“or”，“pass”，“raise”，“return”，“try”，“while”，\n",
    "“with”，“yield”）"
   ]
  },
  {
   "cell_type": "markdown",
   "metadata": {},
   "source": [
    "# 变量的声明方式\n",
    "\n",
    "变量名 = 变量值\n",
    "\n",
    "a = 1\n",
    "\n",
    "变量a = 变量b = 变量c =  值1\n",
    "\n",
    "a = b = c =1\n",
    "\n",
    "a,b,c = 1,2,3\n"
   ]
  },
  {
   "cell_type": "markdown",
   "metadata": {},
   "source": [
    "# python中变量的互换"
   ]
  },
  {
   "cell_type": "code",
   "execution_count": null,
   "metadata": {},
   "outputs": [],
   "source": [
    "#两个变量交换值操作\n",
    "变量1，变量2 = 变量2，变量1\n",
    "\n",
    "a = 1\n",
    "\n",
    "b = 2\n",
    "\n",
    "a , b = b, a\n"
   ]
  },
  {
   "cell_type": "markdown",
   "metadata": {},
   "source": [
    "# 变量的三个常用操作"
   ]
  },
  {
   "cell_type": "markdown",
   "metadata": {},
   "source": [
    "·1 获取变量的值——可直接通过变量名获取\n",
    "\n",
    "        用法：变量名\n",
    "    \n",
    "·2 查看数据类型 使用type（函数）\n",
    "        \n",
    "        用法：type（变量名）\n",
    "        \n",
    "·3 获取变量在内纯中的id标识 使用id函数\n",
    "\n",
    "        用法：id（变量名）"
   ]
  },
  {
   "cell_type": "code",
   "execution_count": null,
   "metadata": {},
   "outputs": [],
   "source": []
  },
  {
   "cell_type": "code",
   "execution_count": null,
   "metadata": {},
   "outputs": [],
   "source": []
  },
  {
   "cell_type": "code",
   "execution_count": null,
   "metadata": {},
   "outputs": [],
   "source": []
  }
 ],
 "metadata": {
  "kernelspec": {
   "display_name": "Python 3",
   "language": "python",
   "name": "python3"
  },
  "language_info": {
   "codemirror_mode": {
    "name": "ipython",
    "version": 3
   },
   "file_extension": ".py",
   "mimetype": "text/x-python",
   "name": "python",
   "nbconvert_exporter": "python",
   "pygments_lexer": "ipython3",
   "version": "3.6.5"
  }
 },
 "nbformat": 4,
 "nbformat_minor": 2
}

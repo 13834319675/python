{
 "cells": [
  {
   "cell_type": "markdown",
   "metadata": {},
   "source": [
    "# formate函数格式化字符串\n",
    " - 直接用format函数进行格式化\n",
    " - 推荐使用这种方法\n",
    " - 在使用上，以{}和:代替%，后面用format带参数完成"
   ]
  },
  {
   "cell_type": "code",
   "execution_count": 5,
   "metadata": {},
   "outputs": [
    {
     "name": "stdout",
     "output_type": "stream",
     "text": [
      "I Love china\n",
      "Yes  i am 18 years old , I Love china and  i am 18 years old\n"
     ]
    }
   ],
   "source": [
    "s = 'I Love {}'.format(\"china\")\n",
    "print(s)\n",
    "\n",
    "s = \"Yes  i am {1} years old , I Love {0} and  i am {1} years old\".format(\"china\",18)\n",
    "print(s)"
   ]
  },
  {
   "cell_type": "markdown",
   "metadata": {},
   "source": [
    "# None\n",
    " - 表示什么都没有\n",
    " - 如果函数吗，没有返回值，可以返回None\n",
    " - 用来占位置\n",
    " - 用来解除变量绑定"
   ]
  },
  {
   "cell_type": "markdown",
   "metadata": {},
   "source": [
    "# 表达式\n",
    "\n",
    "- 由一个或几个数字或变量和运算符组合的一行代码\n",
    "- 通常会返回一个结果\n",
    "\n",
    "## 运算符\n",
    "- 有一个以上的值经过变化得到新值的过程叫运算\n",
    "- 用于运算的符号叫做运算符\n",
    "- 运算符分类\n",
    "    - 算术运算符\n",
    "    - 比较或关系运算符\n",
    "    - 赋值运算符\n",
    "    - 逻辑运算符\n",
    "    - 位运算\n",
    "    - 成员运算\n",
    "    - 身份运算符\n",
    "    "
   ]
  },
  {
   "cell_type": "markdown",
   "metadata": {},
   "source": [
    "# 算数运算符\n",
    " "
   ]
  },
  {
   "cell_type": "code",
   "execution_count": 9,
   "metadata": {},
   "outputs": [
    {
     "name": "stdout",
     "output_type": "stream",
     "text": [
      "1\n",
      "4\n"
     ]
    }
   ],
   "source": [
    "# 和正常的运算符一模一样\n",
    "#加减乘除\n",
    "#+ - * / #余数 %  等于=\n",
    "\n",
    "a = 9%4\n",
    "print(a)\n",
    "\n",
    "a = 18//4\n",
    "print(a)"
   ]
  },
  {
   "cell_type": "markdown",
   "metadata": {},
   "source": [
    "# 比较运算符\n",
    "\n",
    "- 对两个变量或值进行比较的运算符\n",
    "- 比较的结果是布尔值"
   ]
  },
  {
   "cell_type": "code",
   "execution_count": 11,
   "metadata": {},
   "outputs": [
    {
     "name": "stdout",
     "output_type": "stream",
     "text": [
      "False\n",
      "True\n"
     ]
    }
   ],
   "source": [
    "# ==等于号\n",
    "a = 3**4\n",
    "# 计算a的值为80 把结果赋值给b\n",
    "b = a == 80\n",
    "print(b)\n",
    "\n",
    "#！= #不等于\n",
    "print (9!=8)"
   ]
  },
  {
   "cell_type": "markdown",
   "metadata": {},
   "source": [
    "# 赋值运算符"
   ]
  },
  {
   "cell_type": "code",
   "execution_count": null,
   "metadata": {},
   "outputs": [],
   "source": [
    "# = 赋值\n",
    "c = a = 4\n",
    "\n",
    "# += 是缩写\n",
    "\n",
    "#赋值运算符都有缩写形式\n",
    "# +=，-=，*=，/=。//=，%=，**= 都是缩写形式"
   ]
  },
  {
   "cell_type": "markdown",
   "metadata": {},
   "source": [
    "# 逻辑运算符\n",
    "\n",
    "- 对布尔值进行计算的符号\n",
    "- and 逻辑与\n",
    "- or 逻辑或\n",
    "- not 逻辑非\n",
    "- python中逻辑运算符没有异或运算\n",
    "- 运算规则\n",
    "    - and看做惩罚，or看做假发\n",
    "    - True看做1，False看做0\n",
    "    - 逻辑运算符能转换成整数数学运算\n",
    "    - 最后结果如果是0则为False，1则为True\n",
    "  - 逻辑运算的短路问题\n",
    "    - 逻辑运算式，按照运算顺序计算，一旦能够确定整个式子未来的值，则不再进行计算，直接返回"
   ]
  },
  {
   "cell_type": "code",
   "execution_count": 12,
   "metadata": {},
   "outputs": [
    {
     "name": "stdout",
     "output_type": "stream",
     "text": [
      "True\n",
      "True\n"
     ]
    }
   ],
   "source": [
    "# 案例\n",
    "a = True\n",
    "b = False\n",
    "c = True\n",
    "\n",
    "d = a and b or c\n",
    "print(d)\n",
    "\n",
    "d = a and b or c\n",
    "print(d)\n"
   ]
  },
  {
   "cell_type": "code",
   "execution_count": 13,
   "metadata": {},
   "outputs": [
    {
     "ename": "SyntaxError",
     "evalue": "invalid syntax (<ipython-input-13-d73d90f3b6cf>, line 8)",
     "output_type": "error",
     "traceback": [
      "\u001b[1;36m  File \u001b[1;32m\"<ipython-input-13-d73d90f3b6cf>\"\u001b[1;36m, line \u001b[1;32m8\u001b[0m\n\u001b[1;33m    a = a or (b = 9) and 6\u001b[0m\n\u001b[1;37m                ^\u001b[0m\n\u001b[1;31mSyntaxError\u001b[0m\u001b[1;31m:\u001b[0m invalid syntax\n"
     ]
    }
   ],
   "source": [
    "# 逻辑运算符的短路案例\n",
    "\n",
    "#y以下的逻辑表达式，a的值一定是True，则运算到a的时候整个表达式不再向下计算\n",
    "a = True or xxxx\n",
    "# 下面表达式，如果xxx中韩赋值表达式，则结果很那预测\n",
    "# 代码示例，伪代码\n",
    "b = 0\n",
    "a = a or (b = 9) and 6\n",
    "# 假定上面表达式如果没有语法错误\n",
    "## 则b最终的值应该是0而不是9\n",
    "print(b)\n",
    "print(a)"
   ]
  },
  {
   "cell_type": "markdown",
   "metadata": {},
   "source": [
    "# 成员运算符\n",
    "\n",
    "- 检查一个变量是否是另一个变量的成员\n",
    "- in\n",
    "- not in\n"
   ]
  },
  {
   "cell_type": "code",
   "execution_count": 2,
   "metadata": {},
   "outputs": [
    {
     "name": "stdout",
     "output_type": "stream",
     "text": [
      "False\n",
      "True\n",
      "False\n"
     ]
    }
   ],
   "source": [
    "# 案例\n",
    "l = [1,2,3,4]\n",
    "a = 5\n",
    "b = a in l\n",
    "print(b)\n",
    "\n",
    "a = 4\n",
    "print(a in l)\n",
    "\n",
    "print( a not in l)"
   ]
  },
  {
   "cell_type": "markdown",
   "metadata": {},
   "source": [
    "# 身份运算符\n",
    "\n",
    "- is 用来检测两个变量是否为同一个变量\n",
    "    - 语法是 var1 isvar2\n",
    "- is not两个变量不是同一个变量\n"
   ]
  },
  {
   "cell_type": "code",
   "execution_count": 3,
   "metadata": {},
   "outputs": [
    {
     "name": "stdout",
     "output_type": "stream",
     "text": [
      "True\n",
      "False\n"
     ]
    }
   ],
   "source": [
    "a = 9\n",
    "b = 9\n",
    "print(a is b)\n",
    "\n",
    "a = \"i love china\"\n",
    "b = \"i love china\"\n",
    "print(a is b)\n"
   ]
  },
  {
   "cell_type": "markdown",
   "metadata": {},
   "source": [
    "# 运算符的优先级问题\n",
    "\n",
    "- 永远记住，括号具有最高优先级\n",
    "- 优先级表格\n",
    "        **  指数 (最高优先级)\n",
    "  ~ + -   按位翻转, 一元加号和减号 (最后两个的方法名为 +@ 和 -@)\n",
    "  * / % //    乘，除，取模和取整除\n",
    "  + - 加法减法\n",
    "  >> <<   右移，左移运算符\n",
    "  &   位 'AND'\n",
    "  ^ | 位运算符\n",
    "  <= < > >=   比较运算符\n",
    "  <> == !=    等于运算符\n",
    "  = %= /= //= -= += *= **=    赋值运算符\n",
    "  is is not   身份运算符\n",
    "  in not in   成员运算符\n",
    "  not or and  逻辑运算符\n"
   ]
  },
  {
   "cell_type": "markdown",
   "metadata": {},
   "source": [
    "# 程序结构\n",
    "\n",
    "- 顺序\n",
    "- 分支\n",
    "- 循环"
   ]
  },
  {
   "cell_type": "code",
   "execution_count": null,
   "metadata": {},
   "outputs": [],
   "source": []
  },
  {
   "cell_type": "code",
   "execution_count": null,
   "metadata": {},
   "outputs": [],
   "source": []
  },
  {
   "cell_type": "code",
   "execution_count": null,
   "metadata": {},
   "outputs": [],
   "source": []
  },
  {
   "cell_type": "code",
   "execution_count": null,
   "metadata": {},
   "outputs": [],
   "source": []
  },
  {
   "cell_type": "code",
   "execution_count": null,
   "metadata": {},
   "outputs": [],
   "source": []
  },
  {
   "cell_type": "code",
   "execution_count": null,
   "metadata": {},
   "outputs": [],
   "source": []
  },
  {
   "cell_type": "code",
   "execution_count": null,
   "metadata": {},
   "outputs": [],
   "source": []
  },
  {
   "cell_type": "code",
   "execution_count": null,
   "metadata": {},
   "outputs": [],
   "source": []
  },
  {
   "cell_type": "code",
   "execution_count": null,
   "metadata": {},
   "outputs": [],
   "source": []
  }
 ],
 "metadata": {
  "kernelspec": {
   "display_name": "Python 3",
   "language": "python",
   "name": "python3"
  },
  "language_info": {
   "codemirror_mode": {
    "name": "ipython",
    "version": 3
   },
   "file_extension": ".py",
   "mimetype": "text/x-python",
   "name": "python",
   "nbconvert_exporter": "python",
   "pygments_lexer": "ipython3",
   "version": "3.6.5"
  }
 },
 "nbformat": 4,
 "nbformat_minor": 2
}

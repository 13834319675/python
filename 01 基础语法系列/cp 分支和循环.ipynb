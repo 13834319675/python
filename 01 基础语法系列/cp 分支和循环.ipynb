{
 "cells": [
  {
   "cell_type": "markdown",
   "metadata": {},
   "source": [
    "# 三大结构\n",
    "\n",
    "- 顺序\n",
    "- 分支\n",
    "- 循环"
   ]
  },
  {
   "cell_type": "markdown",
   "metadata": {},
   "source": [
    "# 分支\n",
    "\n",
    "- 分支的基本语法\n",
    "\n",
    "        if  条件表达式\n",
    "            语句1\n",
    "            语句2\n",
    "            。。。\n",
    " - 条件表达式的结果必须为布尔值的表达式\n",
    " - 表达式后面的冒号不能少\n",
    " - 注意if后面出现的语句，如果属于if语句块，则必须同一个锁等级\n",
    " - 条件表达式的结果为True执行if后面的语句块"
   ]
  },
  {
   "cell_type": "code",
   "execution_count": 1,
   "metadata": {},
   "outputs": [
    {
     "name": "stdout",
     "output_type": "stream",
     "text": [
      "开始发车楼，老司机们\n"
     ]
    }
   ],
   "source": [
    "# if语句练习\n",
    "# 如果age小于18岁，则打印“去叫家长”\n",
    "\n",
    "age = 19\n",
    "if age < 18:\n",
    "    print(\"去叫家长\")\n",
    "    \n",
    "print(\"开始发车楼，老司机们\")"
   ]
  },
  {
   "cell_type": "code",
   "execution_count": 2,
   "metadata": {},
   "outputs": [
    {
     "name": "stdout",
     "output_type": "stream",
     "text": [
      "我们不带你玩\n"
     ]
    }
   ],
   "source": [
    "# if语句块练习\n",
    "\n",
    "age = 19\n",
    "if age < 18:\n",
    "    print(\"去叫家长吧，孩纸\")\n",
    "print(\"我们不带你玩\")\n"
   ]
  },
  {
   "cell_type": "code",
   "execution_count": 5,
   "metadata": {},
   "outputs": [
    {
     "name": "stdout",
     "output_type": "stream",
     "text": [
      "今天开始学习for循环\n",
      "开始学习for循环了\n"
     ]
    }
   ],
   "source": [
    "print(\"今天开始学习for循环\")\n",
    "gender = \"男\"\n",
    "if gender == \"女\":\n",
    "    print(\"叔叔给你糖吃\")\n",
    "    \n",
    "print(\"开始学习for循环了\")\n"
   ]
  },
  {
   "cell_type": "markdown",
   "metadata": {},
   "source": [
    "# 双向分支\n",
    "\n",
    "- if slse 语句\n",
    "        \n",
    "        if 条件表达式\n",
    "            语句1\n",
    "            语句2\n",
    "            ，，，\n",
    "         else:\n",
    "             语句1\n",
    "             语句2\n",
    "             ，，，\n",
    "       \n",
    " - 双向分支有两个分支，当程序执行if...else..的时候，一定if或else中的一个，也仅仅执行其中的一个\n",
    " - 缩进问题，if和else是同一个层级"
   ]
  },
  {
   "cell_type": "code",
   "execution_count": 9,
   "metadata": {},
   "outputs": [
    {
     "name": "stdout",
     "output_type": "stream",
     "text": [
      "请输入性别：nan\n",
      "你输入的性别是nan\n",
      "来，我们纪念一下今天把，代码敲十遍\n",
      "开始上课喽\n"
     ]
    }
   ],
   "source": [
    "# 案例\n",
    "gender = input(\"请输入性别：\")\n",
    "\n",
    "print(\"你输入的性别是{0}\".format(gender))\n",
    "\n",
    "if gender == \"nan\":\n",
    "    print(\"来，我们纪念一下今天把，代码敲十遍\")\n",
    "else:\n",
    "    print(\"发烫楼，发糖喽！\")\n",
    "    print(\"你是女生，特殊照顾\")\n",
    "print(\"开始上课喽\")\n"
   ]
  },
  {
   "cell_type": "code",
   "execution_count": null,
   "metadata": {},
   "outputs": [],
   "source": [
    "# 考试成绩判断\n",
    "# 90分以上 输出优秀\n",
    "# 80-90分，良\n",
    "# 70-80，中\n",
    "# 60-70，平\n",
    "# 60以下，学渣，鉴定完毕"
   ]
  },
  {
   "cell_type": "code",
   "execution_count": 10,
   "metadata": {},
   "outputs": [
    {
     "name": "stdout",
     "output_type": "stream",
     "text": [
      "请输入学生成绩：80\n",
      "B\n"
     ]
    }
   ],
   "source": [
    "# score 存放学生的成绩\n",
    "# 注意input 的返回值类型\n",
    "score = input(\"请输入学生成绩：\")\n",
    "# 需要报str（字符串）转换成int（整型）\n",
    "score = int(score)\n",
    "\n",
    "if score>=90:\n",
    "    print(\"A\")\n",
    "if score>=80 and score<90:\n",
    "    print(\"B\")\n",
    "if score>=70 and score<80:\n",
    "    print(\"C\")\n",
    "if score>=60 and score<70:\n",
    "    print(\"D\")\n",
    "if score<60:\n",
    "    print(\"学渣\")"
   ]
  },
  {
   "cell_type": "markdown",
   "metadata": {},
   "source": [
    "# 多路分支\n",
    "\n",
    "- 很多分支的情况，简称多路分支\n",
    "\n",
    "        if 条件表达式\n",
    "            语句\n",
    "        slif 条件表达式\n",
    "            语句\n",
    "        elif 条件表达式\n",
    "            语句\n",
    "            。。。\n",
    "        \n",
    "        。。。\n",
    "        else：\n",
    "            语句1\n",
    "            。。。\n",
    "- else可以有很多个\n",
    "- else可选\n",
    "- 多路分支只可以选择一个执行"
   ]
  },
  {
   "cell_type": "code",
   "execution_count": 11,
   "metadata": {},
   "outputs": [
    {
     "name": "stdout",
     "output_type": "stream",
     "text": [
      "请输入学生成绩：55\n",
      "学渣\n"
     ]
    }
   ],
   "source": [
    "# 案例\n",
    "score =  int(input(\"请输入学生成绩：\"))\n",
    "\n",
    "if score >=90:\n",
    "    print(\"A\")\n",
    "elif score >=80:\n",
    "    print(\"B\")\n",
    "elif score >=70:\n",
    "    print(\"C\")\n",
    "elif score >=60:\n",
    "    print(\"D\")\n",
    "else:\n",
    "    print(\"学渣\")"
   ]
  },
  {
   "cell_type": "markdown",
   "metadata": {},
   "source": [
    "# if语句和其他\n",
    "\n",
    "- if语句可以嵌套使用，但不推荐\n",
    "- python没有switch，case 语句"
   ]
  },
  {
   "cell_type": "markdown",
   "metadata": {},
   "source": [
    "# 循环语句\n",
    "\n",
    "- 需要执行某些指定动作或处理基本固定的shiwu\n",
    "- 分类\n",
    "    - for循环\n",
    "    - while循环\n",
    "    "
   ]
  },
  {
   "cell_type": "markdown",
   "metadata": {},
   "source": [
    "# for循环\n",
    "\n",
    "        for  变量 in 序列：\n",
    "            语句1\n",
    "            语句2\n",
    "            。。。\n",
    "            "
   ]
  },
  {
   "cell_type": "code",
   "execution_count": 12,
   "metadata": {},
   "outputs": [
    {
     "name": "stdout",
     "output_type": "stream",
     "text": [
      "zhangsan\n",
      "lisi\n",
      "wangwu\n",
      "dengdeng\n"
     ]
    }
   ],
   "source": [
    "# 列表是一列数字或者其他组，一般用中括号表示\n",
    "# 例如 [\"zhangsan\",\"lisi\",\"wangwu\",\"dengdeng\"]\n",
    "# 打印学生列表姓名\n",
    "\n",
    "for name in [\"zhangsan\",\"lisi\",\"wangwu\",\"dengdeng\"]:\n",
    "    print(name)\n",
    "    "
   ]
  },
  {
   "cell_type": "code",
   "execution_count": 14,
   "metadata": {},
   "outputs": [
    {
     "name": "stdout",
     "output_type": "stream",
     "text": [
      "zhangsan\n",
      "闪一边去，哪凉快呆哪去\n",
      "lisi\n",
      "闪一边去，哪凉快呆哪去\n",
      "wangwu\n",
      "闪一边去，哪凉快呆哪去\n",
      "china\n",
      "我爱你china祖国\n",
      "dengdeng\n",
      "闪一边去，哪凉快呆哪去\n"
     ]
    }
   ],
   "source": [
    "# 打印学生列表姓名\n",
    "# 如果是China 那肯定是我爱你呀\n",
    "# 如果是别的 ，，，\n",
    "\n",
    "for name in [\"zhangsan\",\"lisi\",\"wangwu\",\"china\",\"dengdeng\"]:\n",
    "    print(name)\n",
    "    \n",
    "    if name ==\"china\":\n",
    "        print(\"我爱你{0}祖国\".format(name))\n",
    "    else:\n",
    "        print(\"闪一边去，哪凉快呆哪去\")\n",
    "    \n"
   ]
  },
  {
   "cell_type": "markdown",
   "metadata": {},
   "source": [
    "# range介绍\n",
    "\n",
    "- 生成一个数字序列\n",
    "- 具体范围可以设定"
   ]
  },
  {
   "cell_type": "code",
   "execution_count": 17,
   "metadata": {},
   "outputs": [
    {
     "name": "stdout",
     "output_type": "stream",
     "text": [
      "1\n",
      "2\n",
      "3\n",
      "4\n",
      "5\n",
      "6\n",
      "7\n",
      "8\n",
      "9\n",
      "10\n"
     ]
    }
   ],
   "source": [
    "# range 练习\n",
    "# 打印从1-10的数字\n",
    "# 注意，一般在python中，表示数字范围的两个数，一般是办函左边的数字不包含右边的数字\n",
    "# randint是特例，左右都包含\n",
    "# range在python2和python2中是不一样的\n",
    "for i in range(1,11):\n",
    "        print(i)"
   ]
  },
  {
   "cell_type": "markdown",
   "metadata": {},
   "source": [
    "# for else 语句\n",
    "\n",
    "- 档for循环结束的时候，会执行else语句\n",
    "- else语句是可选语句"
   ]
  },
  {
   "cell_type": "code",
   "execution_count": 18,
   "metadata": {},
   "outputs": [
    {
     "name": "stdout",
     "output_type": "stream",
     "text": [
      "zhangsan\n",
      "闪一边去，同学\n",
      "lisi\n",
      "闪一边去，同学\n",
      "wangwu\n",
      "闪一边去，同学\n",
      "zhaoliu\n",
      "闪一边去，同学\n",
      "china\n",
      "我爱你，china\n",
      "luren\n",
      "闪一边去，同学\n",
      "不会再爱了\n"
     ]
    }
   ],
   "source": [
    "# for else语句对面列表中的同学\n",
    "# 如果不在列表中，或者列表结束了，我们需要打印提示语句\n",
    "\n",
    "# 打印徐盛列表姓名\n",
    "# 如果是 China。我的最爱\n",
    "# 如果是其他同学，呵呵\n",
    "\n",
    "for name in [\"zhangsan\",\"lisi\",\"wangwu\",\"zhaoliu\",\"china\",\"luren\"]:\n",
    "    print(name)\n",
    "    if name == \"china\":\n",
    "        print(\"我爱你，{0}\".format(name))\n",
    "    else:\n",
    "        print(\"闪一边去，同学\")\n",
    "else:\n",
    "    print(\"不会再爱了\")\n"
   ]
  },
  {
   "cell_type": "markdown",
   "metadata": {},
   "source": [
    "# 循环之break， continue，pass\n",
    "\n",
    "- break  无条件结束整个循环，简称循环猝死\n",
    "- continue 无条件结束本次循环，从新进入西一轮循环\n",
    "- pass 通常表示站位"
   ]
  },
  {
   "cell_type": "code",
   "execution_count": 19,
   "metadata": {},
   "outputs": [
    {
     "name": "stdout",
     "output_type": "stream",
     "text": [
      "i\n",
      "i\n",
      "i\n",
      "i\n",
      "我找到了\n"
     ]
    }
   ],
   "source": [
    "# 示例 在数字1-10中寻找数字7 一旦找到，打印出来\n",
    "# for循环中的变量表示，一般用 i，k，m，n 或者indx，idx，item之类\n",
    "# 如果变量名称不重要 可以用下划线代替\n",
    "\n",
    "for i in range(1,11):\n",
    "    if i == 5:\n",
    "        print(\"我找到了\")\n",
    "        break\n",
    "    else:\n",
    "        print(\"i\")\n",
    "        "
   ]
  },
  {
   "cell_type": "code",
   "execution_count": 20,
   "metadata": {},
   "outputs": [
    {
     "name": "stdout",
     "output_type": "stream",
     "text": [
      "2是偶数\n",
      "4是偶数\n",
      "6是偶数\n",
      "8是偶数\n",
      "10是偶数\n"
     ]
    }
   ],
   "source": [
    "# continue用法\n",
    "\n",
    "for i in range(1,11):\n",
    "    if i % 2==1:\n",
    "        continue\n",
    "    else:\n",
    "        print(\"{0}是偶数\".format(i))"
   ]
  },
  {
   "cell_type": "code",
   "execution_count": 21,
   "metadata": {},
   "outputs": [
    {
     "name": "stdout",
     "output_type": "stream",
     "text": [
      "2是偶数\n",
      "4是偶数\n",
      "6是偶数\n",
      "8是偶数\n"
     ]
    }
   ],
   "source": [
    "# continue 版本二\n",
    "\n",
    "for i in range (1,10):\n",
    "    if i % 2==0:\n",
    "        print(\"{0}是偶数\".format(i))\n"
   ]
  },
  {
   "cell_type": "code",
   "execution_count": 22,
   "metadata": {},
   "outputs": [
    {
     "name": "stdout",
     "output_type": "stream",
     "text": [
      "2是偶数\n",
      "4是偶数\n",
      "6是偶数\n",
      "8是偶数\n"
     ]
    }
   ],
   "source": [
    "for i in range(1,10):\n",
    "    if i % 2 ==1:\n",
    "        continue\n",
    "    print(\"{0}是偶数\".format(i))\n",
    "    "
   ]
  },
  {
   "cell_type": "code",
   "execution_count": 24,
   "metadata": {},
   "outputs": [
    {
     "name": "stdout",
     "output_type": "stream",
     "text": [
      "我在这\n",
      "我在这\n",
      "我在这\n",
      "我在这\n",
      "我在这\n",
      "我在这\n",
      "我在这\n",
      "我在这\n",
      "我在这\n",
      "我在这\n"
     ]
    }
   ],
   "source": [
    "# pass的例子，一般用于站位\n",
    "# pass没有空过功能\n",
    "\n",
    "for i in range (1,11):\n",
    "    pass\n",
    "    print(\"我在这\")"
   ]
  },
  {
   "cell_type": "code",
   "execution_count": null,
   "metadata": {},
   "outputs": [],
   "source": []
  },
  {
   "cell_type": "code",
   "execution_count": null,
   "metadata": {},
   "outputs": [],
   "source": []
  },
  {
   "cell_type": "code",
   "execution_count": null,
   "metadata": {},
   "outputs": [],
   "source": []
  },
  {
   "cell_type": "code",
   "execution_count": null,
   "metadata": {},
   "outputs": [],
   "source": []
  },
  {
   "cell_type": "code",
   "execution_count": null,
   "metadata": {},
   "outputs": [],
   "source": []
  },
  {
   "cell_type": "code",
   "execution_count": null,
   "metadata": {},
   "outputs": [],
   "source": []
  },
  {
   "cell_type": "code",
   "execution_count": null,
   "metadata": {},
   "outputs": [],
   "source": []
  },
  {
   "cell_type": "code",
   "execution_count": null,
   "metadata": {},
   "outputs": [],
   "source": []
  },
  {
   "cell_type": "code",
   "execution_count": null,
   "metadata": {},
   "outputs": [],
   "source": []
  }
 ],
 "metadata": {
  "kernelspec": {
   "display_name": "Python 3",
   "language": "python",
   "name": "python3"
  },
  "language_info": {
   "codemirror_mode": {
    "name": "ipython",
    "version": 3
   },
   "file_extension": ".py",
   "mimetype": "text/x-python",
   "name": "python",
   "nbconvert_exporter": "python",
   "pygments_lexer": "ipython3",
   "version": "3.6.5"
  }
 },
 "nbformat": 4,
 "nbformat_minor": 2
}

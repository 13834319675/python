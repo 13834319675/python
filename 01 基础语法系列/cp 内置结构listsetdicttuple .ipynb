{
 "cells": [
  {
   "cell_type": "code",
   "execution_count": 2,
   "metadata": {
    "scrolled": true
   },
   "outputs": [
    {
     "name": "stdout",
     "output_type": "stream",
     "text": [
      "[1, 2, 3, 4, 5, 6]\n",
      "[1, 2, 300, 4, 5, 6]\n",
      "[1, 2, 300, 4, 5, 6]\n",
      "8\n",
      "108\n",
      "8\n"
     ]
    }
   ],
   "source": [
    "# 传值和传址的区别\n",
    "# 对于简单的数值，采用传值操作，即在函数内对参数的操作 不影响外面的变量\n",
    "# 对于复杂变量，采用传地址操作，此时函数内的参数和外部变量是同一内容\n",
    "# 在任何地方对此内容的更改都会影响另外的变量或参数的使用\n",
    "\n",
    "def a(n):\n",
    "    n[2]=300\n",
    "    print(n)\n",
    "    return None\n",
    "\n",
    "def b(n):\n",
    "    n += 100\n",
    "    print(n)\n",
    "    return None\n",
    "\n",
    "an = [1,2,3,4,5,6]\n",
    "bn = 8\n",
    "print(an)\n",
    "a(an)\n",
    "print(an)\n",
    "\n",
    "print(bn)\n",
    "b(bn)\n",
    "print(bn)"
   ]
  },
  {
   "cell_type": "markdown",
   "metadata": {},
   "source": [
    "# 源于列表的函数"
   ]
  },
  {
   "cell_type": "code",
   "execution_count": 3,
   "metadata": {},
   "outputs": [
    {
     "data": {
      "text/plain": [
       "['i', 'i love china', 28, 35, 36]"
      ]
     },
     "execution_count": 3,
     "metadata": {},
     "output_type": "execute_result"
    }
   ],
   "source": [
    "i = [\"i\",\"i love china\",28,35,6*6]\n",
    "i"
   ]
  },
  {
   "cell_type": "code",
   "execution_count": 7,
   "metadata": {},
   "outputs": [
    {
     "name": "stdout",
     "output_type": "stream",
     "text": [
      "[0, 1, 2, 3, 4, 5, 6, 7, 8, 9]\n",
      "[0, 1, 2, 3, 4, 5, 6, 7, 8, 9, 11]\n"
     ]
    }
   ],
   "source": [
    "# append 插入一个内容，在末尾添加\n",
    "a = [i  for i in range(10)]\n",
    "print(a)\n",
    "a.append(11)\n",
    "print(a)"
   ]
  },
  {
   "cell_type": "code",
   "execution_count": 8,
   "metadata": {},
   "outputs": [
    {
     "name": "stdout",
     "output_type": "stream",
     "text": [
      "[0, 1, 2, 3, 4, 5, 6, 7, 8, 9, 11]\n",
      "[0, 1, 2, 888, 3, 4, 5, 6, 7, 8, 9, 11]\n"
     ]
    }
   ],
   "source": [
    "# insert 在指定位置嵌入\n",
    "# insert(index data),嵌入位置是index的前面\n",
    "print(a)\n",
    "a.insert(3,888)\n",
    "print(a)"
   ]
  },
  {
   "cell_type": "code",
   "execution_count": 10,
   "metadata": {},
   "outputs": [
    {
     "name": "stdout",
     "output_type": "stream",
     "text": [
      "[0, 1, 2, 888, 3, 4, 5, 6, 7, 8, 9]\n",
      "9\n",
      "[0, 1, 2, 888, 3, 4, 5, 6, 7, 8]\n"
     ]
    }
   ],
   "source": [
    "# 删除 del\n",
    "# pop 把最后一个元素取出来\n",
    "print(a)\n",
    "list_ele = a.pop()\n",
    "print(list_ele)\n",
    "print(a)"
   ]
  },
  {
   "cell_type": "code",
   "execution_count": 13,
   "metadata": {},
   "outputs": [
    {
     "name": "stdout",
     "output_type": "stream",
     "text": [
      "[0, 1, 888, 888, 888, 3, 4, 5, 6, 7, 8]\n",
      "1829970243912\n",
      "[0, 1, 888, 888, 3, 4, 5, 6, 7, 8]\n",
      "1829970243912\n"
     ]
    }
   ],
   "source": [
    "# remove 在列表中删除制动的值得元素\n",
    "# 如果值不在list中，则报错\n",
    "# 即 删除list指定位置的操作应该使用try   execpty 语句\n",
    "a.insert(4,888)\n",
    "print(a)\n",
    "print(id(a))\n",
    "a.remove(888)\n",
    "print(a)\n",
    "print(id(a))\n",
    "\n",
    "# 如果输出值一样，说明肉remove操作是对list的直接操作"
   ]
  },
  {
   "cell_type": "code",
   "execution_count": 16,
   "metadata": {},
   "outputs": [
    {
     "name": "stdout",
     "output_type": "stream",
     "text": [
      "[]\n",
      "1829970243912\n",
      "[]\n",
      "1829970243912\n"
     ]
    }
   ],
   "source": [
    "# chear：清空\n",
    "print(a)\n",
    "print(id(a))\n",
    "a.clear()\n",
    "print(a)\n",
    "print(id(a))\n",
    "\n",
    "# 如果不需要列表地址保持不变，则强控列表需要下面的方式\n",
    "# a = list()\n",
    "# a= []\n"
   ]
  },
  {
   "cell_type": "code",
   "execution_count": 17,
   "metadata": {},
   "outputs": [
    {
     "name": "stdout",
     "output_type": "stream",
     "text": [
      "[1, 2, 3, 5]\n",
      "1829970747912\n",
      "[5, 3, 2, 1]\n",
      "1829970747912\n"
     ]
    }
   ],
   "source": [
    "# reverse 原地翻转列表内容，原地翻转\n",
    "\n",
    "a = [1,2,3,5]\n",
    "print(a)\n",
    "print(id(a))\n",
    "a.reverse()\n",
    "\n",
    "print(a)\n",
    "print(id(a))\n"
   ]
  },
  {
   "cell_type": "code",
   "execution_count": 18,
   "metadata": {},
   "outputs": [
    {
     "name": "stdout",
     "output_type": "stream",
     "text": [
      "[1, 2, 3, 4, 5]\n",
      "1829970749384\n",
      "[1, 2, 3, 4, 5, 6, 7, 8, 9, 10]\n",
      "1829970749384\n"
     ]
    }
   ],
   "source": [
    "# extend 扩展列表，两个列表，把一个直接镶嵌到后一个上\n",
    "\n",
    "a = [1,2,3,4,5]\n",
    "b = [6,7,8,9,10]\n",
    "print(a)\n",
    "print(id(a))\n",
    "a.extend(b)\n",
    "\n",
    "print(a)\n",
    "print(id(a))"
   ]
  },
  {
   "cell_type": "code",
   "execution_count": 19,
   "metadata": {},
   "outputs": [
    {
     "name": "stdout",
     "output_type": "stream",
     "text": [
      "[1, 2, 3, 4, 5, 6, 7, 8, 9, 10]\n",
      "[1, 8, 2, 3, 4, 5, 6, 7, 8, 9, 10, 8]\n",
      "3\n"
     ]
    }
   ],
   "source": [
    "# count: 查找列表中指定元素的个数\n",
    "print(a)\n",
    "a.append(8)\n",
    "a.insert(1,8)\n",
    "print(a)\n",
    "a_len = a.count(8)\n",
    "print(a_len)"
   ]
  },
  {
   "cell_type": "code",
   "execution_count": 23,
   "metadata": {
    "scrolled": true
   },
   "outputs": [
    {
     "name": "stdout",
     "output_type": "stream",
     "text": [
      "[1, 2, 3, 4, 5, 555]\n",
      "1829970747656\n",
      "1829970747656\n",
      "********************\n",
      "[1, 2, 3, 666, 5, 555]\n",
      "1829970127112\n",
      "********************\n",
      "[1, 2, 3, 888, 5, 555]\n",
      "1829970127112\n"
     ]
    }
   ],
   "source": [
    "# copy 拷贝，此函数是浅拷贝\n",
    "# 列表类型变量赋值示例\n",
    "a = [1,2,3,4,5,555]\n",
    "print(a)\n",
    "print(id(a))\n",
    "# list类型 简单的赋值操作，就是传址\n",
    "b = a\n",
    "b[3] = 666\n",
    "print(id(b))\n",
    "print(\"*\"*20)\n",
    "\n",
    "# 为了解决以上问题，list赋值需要使用copy函数\n",
    "b = a.copy()\n",
    "print(b)\n",
    "print(id(b))\n",
    "print(\"*\"*20)\n",
    "\n",
    "b[3] = 888\n",
    "print(b)\n",
    "print(id(b))\n"
   ]
  },
  {
   "cell_type": "code",
   "execution_count": 24,
   "metadata": {},
   "outputs": [
    {
     "name": "stdout",
     "output_type": "stream",
     "text": [
      "1829970328264\n",
      "1829970327560\n",
      "1829969424584\n",
      "1829969424584\n",
      "[1, 2, 3, [10, 20, 666]]\n",
      "[1, 2, 3, [10, 20, 666]]\n"
     ]
    }
   ],
   "source": [
    "# 深拷贝和浅拷贝的区别\n",
    "# 出现下列问题的原因是，copy“函数是个浅拷贝函数，即只拷贝一层内名”\n",
    "# 深拷贝需要使用特定工具\n",
    "a = [1,2,3, [10, 20, 30]]\n",
    "b = a.copy()\n",
    "print(id(a))\n",
    "print(id(b))\n",
    "print(id(a[3]))\n",
    "print(id(b[3]))\n",
    "a[3][2] = 666\n",
    "print(a)\n",
    "print(b)"
   ]
  },
  {
   "cell_type": "markdown",
   "metadata": {},
   "source": [
    "# 元祖的特性\n",
    "\n",
    "- 是序列表，有序\n",
    "- 元祖数值可以方位，不可修改\n",
    "- 元祖数值可以使任意类型\n",
    "- 总之，list有的特性，除了可修改外，元祖都有\n",
    "- 也就意味着，list具有的一些操作，刺入索引，分片，序列，相加，想成，成员资格运算等，一模一样"
   ]
  },
  {
   "cell_type": "code",
   "execution_count": 26,
   "metadata": {},
   "outputs": [
    {
     "name": "stdout",
     "output_type": "stream",
     "text": [
      "4\n"
     ]
    }
   ],
   "source": [
    "t = (1,2,3,4)\n",
    "print(t[3])"
   ]
  },
  {
   "cell_type": "code",
   "execution_count": 28,
   "metadata": {},
   "outputs": [
    {
     "name": "stdout",
     "output_type": "stream",
     "text": [
      "(2, 4, 6)\n",
      "1829969952296\n",
      "1829970256016\n",
      "(3, 4, 5, 6)\n"
     ]
    }
   ],
   "source": [
    "t = (1,2,3,4,5,6)\n",
    "t1 = t[1::2]\n",
    "print(t1)\n",
    "print(id(t))\n",
    "print(id(t1))\n",
    "\n",
    "# 切片可以超标\n",
    "t2 = t[2:100]\n",
    "print(t2)"
   ]
  },
  {
   "cell_type": "code",
   "execution_count": 32,
   "metadata": {},
   "outputs": [
    {
     "name": "stdout",
     "output_type": "stream",
     "text": [
      "(1, 2, 3)\n",
      "1829970259040\n",
      "(1, 2, 3, 4, 5, 6)\n",
      "1829969952392\n",
      "(4, 5, 6)\n",
      "1829970260688\n"
     ]
    },
    {
     "ename": "TypeError",
     "evalue": "'tuple' object does not support item assignment",
     "output_type": "error",
     "traceback": [
      "\u001b[1;31m---------------------------------------------------------------------------\u001b[0m",
      "\u001b[1;31mTypeError\u001b[0m                                 Traceback (most recent call last)",
      "\u001b[1;32m<ipython-input-32-a08718f86402>\u001b[0m in \u001b[0;36m<module>\u001b[1;34m()\u001b[0m\n\u001b[0;32m     18\u001b[0m \u001b[1;31m# tuple 的不可修改性，指的是内容的不可修改性\u001b[0m\u001b[1;33m\u001b[0m\u001b[1;33m\u001b[0m\u001b[0m\n\u001b[0;32m     19\u001b[0m \u001b[1;31m# 修改tuole的内容会导致保持\u001b[0m\u001b[1;33m\u001b[0m\u001b[1;33m\u001b[0m\u001b[0m\n\u001b[1;32m---> 20\u001b[1;33m \u001b[0mt1\u001b[0m\u001b[1;33m[\u001b[0m\u001b[1;36m1\u001b[0m\u001b[1;33m]\u001b[0m \u001b[1;33m=\u001b[0m \u001b[1;36m50\u001b[0m\u001b[1;33m\u001b[0m\u001b[0m\n\u001b[0m",
      "\u001b[1;31mTypeError\u001b[0m: 'tuple' object does not support item assignment"
     ]
    }
   ],
   "source": [
    "# 薛烈相加\n",
    "t1 = (1,2,3)\n",
    "t2 = (4,5,6)\n",
    "# 传址操作\n",
    "print(t1)\n",
    "print(id(t1))\n",
    "t1 = t1+t2\n",
    "print(t1)\n",
    "print(id(t1))\n",
    "\n",
    "# 以上操作类似于\n",
    "t1 = (1,2,3)\n",
    "t1 = (4,5,6)\n",
    "\n",
    "print(t1)\n",
    "print(id(t1))\n",
    "\n",
    "# tuple 的不可修改性，指的是内容的不可修改性\n",
    "# 修改tuole的内容会导致保持\n",
    "t1[1] = 50\n"
   ]
  },
  {
   "cell_type": "code",
   "execution_count": 34,
   "metadata": {},
   "outputs": [
    {
     "name": "stdout",
     "output_type": "stream",
     "text": [
      "(1, 2, 3, 1, 2, 3, 1, 2, 3)\n"
     ]
    }
   ],
   "source": [
    "# 元祖想成\n",
    "t = (1,2,3)\n",
    "t = t*3\n",
    "print(t)"
   ]
  },
  {
   "cell_type": "code",
   "execution_count": 35,
   "metadata": {},
   "outputs": [
    {
     "name": "stdout",
     "output_type": "stream",
     "text": [
      "yes\n"
     ]
    }
   ],
   "source": [
    "# 成员检查\n",
    "\n",
    "t = (1,2,3)\n",
    "if 2 in t:\n",
    "    print(\"yes\")\n",
    "else:\n",
    "    print(\"bo\")\n",
    "    "
   ]
  },
  {
   "cell_type": "code",
   "execution_count": 36,
   "metadata": {},
   "outputs": [
    {
     "name": "stdout",
     "output_type": "stream",
     "text": [
      "1 2.3 i love china i love "
     ]
    }
   ],
   "source": [
    "# 元祖遍历，一般采用for\n",
    "# 1、单层元祖遍历\n",
    "t = (1,2.3,\"i love china\",\"i\",\"love\")\n",
    "for i in t:\n",
    "    print(i,end=\" \")"
   ]
  },
  {
   "cell_type": "code",
   "execution_count": 39,
   "metadata": {},
   "outputs": [
    {
     "name": "stdout",
     "output_type": "stream",
     "text": [
      "(1, 2, 3)\n",
      "(2, 3, 4)\n",
      "('i', 'love', 'wangxiaojing')\n",
      "1 ... 2 ... 3\n",
      "2 ... 3 ... 4\n",
      "i ... love ... wangxiaojing\n"
     ]
    }
   ],
   "source": [
    "# 双城元祖的遍历\n",
    "t = ((1,2,3), (2,3,4),(\"i\", \"love\", \"wangxiaojing\"))\n",
    "\n",
    "# 如下\n",
    "# 1\n",
    "\n",
    "for i in t:\n",
    "    print(i)\n",
    "\n",
    "for k,w,n in t:\n",
    "    print(k,\"...\",w,\"...\",n)\n"
   ]
  },
  {
   "cell_type": "code",
   "execution_count": null,
   "metadata": {},
   "outputs": [],
   "source": []
  },
  {
   "cell_type": "code",
   "execution_count": null,
   "metadata": {},
   "outputs": [],
   "source": []
  },
  {
   "cell_type": "code",
   "execution_count": null,
   "metadata": {},
   "outputs": [],
   "source": []
  }
 ],
 "metadata": {
  "kernelspec": {
   "display_name": "Python 3",
   "language": "python",
   "name": "python3"
  },
  "language_info": {
   "codemirror_mode": {
    "name": "ipython",
    "version": 3
   },
   "file_extension": ".py",
   "mimetype": "text/x-python",
   "name": "python",
   "nbconvert_exporter": "python",
   "pygments_lexer": "ipython3",
   "version": "3.6.5"
  }
 },
 "nbformat": 4,
 "nbformat_minor": 2
}

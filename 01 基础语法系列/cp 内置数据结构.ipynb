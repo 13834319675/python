{
 "cells": [
  {
   "cell_type": "markdown",
   "metadata": {},
   "source": [
    "# 汉诺塔问题\n",
    "\n",
    "- 规则\n",
    "    - 1、每次移动一个盘子\n",
    "    - 2、任何时候大盘纸在上面，小盘子在下面\n",
    "- 方法：\n",
    "    - 1、n=1：直接把a上的一个盘子移动到c上，a->c\n",
    "    - 2、n=2，\n",
    "        - a、把小盘子a移动到b上，a->b\n",
    "        - b、把大盘纸从a移动到c上，a->c\n",
    "        - c、把小盘子从b移动到c上，b->c\n",
    "    - 3、n=3，\n",
    "        - a 把a上的两个盘子通过c移动到b上去，调用递归实现\n",
    "        - b 把a上的最大盘子，也是唯一一个，移动到c上去，a->c\n",
    "        - c 把吧上的两个盘子借助于a，移动到c上去，调用递归\n",
    "    - 4 n=n：\n",
    "        - a 把a上的n-1个盘子，通过c移动到报上去，调用递归实现\n",
    "        - b 把a上的最大盘子，也是唯一一个，移动到c上去 a->c\n",
    "        - c 把b上的n-1个盘子，借助于a，移动到c上去，调用递归"
   ]
  },
  {
   "cell_type": "code",
   "execution_count": 17,
   "metadata": {},
   "outputs": [
    {
     "name": "stdout",
     "output_type": "stream",
     "text": [
      "请输入盘子的个数：3\n",
      "A --> C\n",
      "A --> B\n",
      "C --> A\n",
      "A --> C\n",
      "B --> C\n",
      "B --> A\n",
      "C --> B\n"
     ]
    }
   ],
   "source": [
    "# 汉诺塔示例\n",
    "def hannuo(n,a,b,c):\n",
    "    if n==1:\n",
    "        print(a,\"-->\",c)\n",
    "        return None\n",
    "    hannuo(n-1,a,c,b)\n",
    "    print(a,\"-->\",c)\n",
    "    hannuo(n-1,b,c,a)\n",
    "    \n",
    "hano=int(input(\"请输入盘子的个数：\"))\n",
    "n=hano\n",
    "a=\"A\"\n",
    "b=\"B\"\n",
    "c=\"C\"\n",
    "hannuo(n,a,b,c)"
   ]
  },
  {
   "cell_type": "markdown",
   "metadata": {},
   "source": [
    "# list列表\n",
    "\n",
    "- del删除命令"
   ]
  },
  {
   "cell_type": "code",
   "execution_count": 23,
   "metadata": {},
   "outputs": [
    {
     "name": "stdout",
     "output_type": "stream",
     "text": [
      "[1, 3, 4]\n"
     ]
    }
   ],
   "source": [
    "# del 删除数据\n",
    "\n",
    "a=[1,2,3,4]\n",
    "del a[1]\n",
    "\n",
    "print(a)"
   ]
  },
  {
   "cell_type": "code",
   "execution_count": 25,
   "metadata": {},
   "outputs": [
    {
     "name": "stdout",
     "output_type": "stream",
     "text": [
      "2628837779976\n",
      "2628837779976\n",
      "[2, 3, 4, 5, 6]\n"
     ]
    }
   ],
   "source": [
    "# del 删除\n",
    "# 如果使用del之后，id的值与原来的不一样，则说明生成了一个新的连败哦\n",
    "a = [1,2,3,4,5,6]\n",
    "print(id(a))\n",
    "del a[0]\n",
    "print(id(a))\n",
    "print(a)"
   ]
  },
  {
   "cell_type": "code",
   "execution_count": null,
   "metadata": {},
   "outputs": [],
   "source": [
    "# del 一个变量后不能再继续使用此变量\n",
    "\n",
    "del a\n",
    "print(a)"
   ]
  },
  {
   "cell_type": "code",
   "execution_count": 6,
   "metadata": {},
   "outputs": [],
   "source": [
    "# 使用加号廉洁两个列表\n",
    "a = [1,2,3,4,5]\n",
    "b = [5,6,7,8,9]\n",
    "c = [\"a\",\"b\",\"c\"]\n",
    "d = a + b + c"
   ]
  },
  {
   "cell_type": "code",
   "execution_count": 5,
   "metadata": {},
   "outputs": [
    {
     "name": "stdout",
     "output_type": "stream",
     "text": [
      "False\n",
      "True\n"
     ]
    }
   ],
   "source": [
    "# 成员资格运算\n",
    "# 就是判断一个元素是否在list里面\n",
    "a = [1,2,3,4,5,6]\n",
    "b = 8\n",
    "\n",
    "# c 的值是一个布尔值\n",
    "c = b in a\n",
    "print(c)\n",
    "\n",
    "b = 4\n",
    "print(b in a)"
   ]
  },
  {
   "cell_type": "code",
   "execution_count": 7,
   "metadata": {},
   "outputs": [
    {
     "name": "stdout",
     "output_type": "stream",
     "text": [
      "True\n"
     ]
    }
   ],
   "source": [
    "# not in\n",
    "a = [1,2,3,4,5]\n",
    "b = 9\n",
    "\n",
    "print(b not in a)"
   ]
  },
  {
   "cell_type": "markdown",
   "metadata": {},
   "source": [
    "# 列表的遍历\n",
    "\n",
    "- for\n",
    "- while"
   ]
  },
  {
   "cell_type": "code",
   "execution_count": 8,
   "metadata": {},
   "outputs": [
    {
     "name": "stdout",
     "output_type": "stream",
     "text": [
      "1\n",
      "2\n",
      "3\n",
      "4\n",
      "5\n"
     ]
    }
   ],
   "source": [
    "# for in list\n",
    "a = [1,2,3,4,5]\n",
    "\n",
    "# 追行打印a里面的元素\n",
    "\n",
    "for i in a:\n",
    "    print(i)"
   ]
  },
  {
   "cell_type": "code",
   "execution_count": 9,
   "metadata": {},
   "outputs": [
    {
     "name": "stdout",
     "output_type": "stream",
     "text": [
      "1\n",
      "2\n",
      "3\n",
      "4\n",
      "5\n"
     ]
    }
   ],
   "source": [
    "# java c++ 程序员写的python代码是这样的\n",
    "for i in range(0,len(a)):\n",
    "    print(a[i])\n",
    "    i += 1"
   ]
  },
  {
   "cell_type": "code",
   "execution_count": 2,
   "metadata": {},
   "outputs": [
    {
     "name": "stdout",
     "output_type": "stream",
     "text": [
      "i love china\n"
     ]
    }
   ],
   "source": [
    "b = [\"i love china\"]\n",
    "for i in b:\n",
    "    print(i)"
   ]
  },
  {
   "cell_type": "code",
   "execution_count": 10,
   "metadata": {
    "scrolled": true
   },
   "outputs": [
    {
     "name": "stdout",
     "output_type": "stream",
     "text": [
      "1\n",
      "2\n",
      "3\n",
      "4\n",
      "5\n",
      "6\n",
      "7\n",
      "8\n",
      "9\n",
      "<class 'range'>\n"
     ]
    }
   ],
   "source": [
    "# range\n",
    "# in 后面的内容是可以迭代的内容\n",
    "\n",
    "for i in range(1,10):\n",
    "    print(i)\n",
    "    \n",
    "print(type(range(1,10)))"
   ]
  },
  {
   "cell_type": "code",
   "execution_count": 13,
   "metadata": {
    "scrolled": true
   },
   "outputs": [
    {
     "name": "stdout",
     "output_type": "stream",
     "text": [
      "1\n",
      "2\n",
      "4\n",
      "4\n",
      "7\n",
      "6\n"
     ]
    }
   ],
   "source": [
    "# while循环访问list\n",
    "# 一般不用while遍历list\n",
    "\n",
    "a = [1,2,4,4,7,6]\n",
    "\n",
    "lengh = len(a)\n",
    "# index 表示的事list的下表\n",
    "\n",
    "index = 0\n",
    "while index < lengh:\n",
    "    print(a[index])  # 打印下标为index的列表a对应的值\n",
    "    index += 1"
   ]
  },
  {
   "cell_type": "code",
   "execution_count": 14,
   "metadata": {},
   "outputs": [
    {
     "name": "stdout",
     "output_type": "stream",
     "text": [
      "one .... 1\n",
      "two .... 2\n",
      "three .... 3\n"
     ]
    }
   ],
   "source": [
    "# 双城列表循环\n",
    "\n",
    "# a为嵌套列表，或者叫双城列\n",
    "a = [[\"one\",1],[\"two\",2],[\"three\",3]]\n",
    "\n",
    "for x,y in a:\n",
    "    print(x,\"....\",y)"
   ]
  },
  {
   "cell_type": "code",
   "execution_count": 16,
   "metadata": {},
   "outputs": [
    {
     "ename": "SyntaxError",
     "evalue": "invalid character in identifier (<ipython-input-16-63561048f834>, line 6)",
     "output_type": "error",
     "traceback": [
      "\u001b[1;36m  File \u001b[1;32m\"<ipython-input-16-63561048f834>\"\u001b[1;36m, line \u001b[1;32m6\u001b[0m\n\u001b[1;33m    print (k,\"···\"，y)\u001b[0m\n\u001b[1;37m                   ^\u001b[0m\n\u001b[1;31mSyntaxError\u001b[0m\u001b[1;31m:\u001b[0m invalid character in identifier\n"
     ]
    }
   ],
   "source": [
    "# 双城列表循环遍历\n",
    "\n",
    "# a为嵌套列表，或者叫双城列表\n",
    "a = [[\"one\", 1, \"eins\"], [\"two\", 2], [\"three\", 3,4,5,6,8] ]\n",
    "for x,y in a:\n",
    "    print (k,\"···\"，y)"
   ]
  },
  {
   "cell_type": "code",
   "execution_count": 20,
   "metadata": {},
   "outputs": [
    {
     "name": "stdout",
     "output_type": "stream",
     "text": [
      "one 。。。 1 ··· eins\n",
      "two 。。。 2 ··· zwei\n",
      "three 。。。 3 ··· drei\n"
     ]
    }
   ],
   "source": [
    "a = [[\"one\", 1, \"eins\"], [\"two\", 2,\"zwei\"], [\"three\", 3,\"drei\"] ]\n",
    "for k,w,x in a:\n",
    "    print(k,\"。。。\",w,\"···\",x)"
   ]
  },
  {
   "cell_type": "markdown",
   "metadata": {},
   "source": [
    "# 列表内涵：列表内容\n",
    "\n",
    "- 通过简单方法创作列表"
   ]
  },
  {
   "cell_type": "code",
   "execution_count": 22,
   "metadata": {},
   "outputs": [
    {
     "name": "stdout",
     "output_type": "stream",
     "text": [
      "['a', 'b', 'c']\n"
     ]
    }
   ],
   "source": [
    "# for常见\n",
    "a = [\"a\",\"b\",\"c\"]\n",
    "# 用list 啊 创建意义 list b\n",
    "# 下面下面代码的含义是，对于所有a中的元素，追个放入新列表\n",
    "\n",
    "b = [i for i in a]\n",
    "print(b)"
   ]
  },
  {
   "cell_type": "code",
   "execution_count": 23,
   "metadata": {},
   "outputs": [
    {
     "name": "stdout",
     "output_type": "stream",
     "text": [
      "[10, 20, 30, 40, 50]\n"
     ]
    }
   ],
   "source": [
    "# 对啊中的所有元素乘以10，生成所有a中的元素，追个放入到列表b中\n",
    "a = [1,2,3,4,5]\n",
    "# # 用list a创建一个list b\n",
    "# 下面代码的含义是，对于所有a中的元素，逐个放入新列表\n",
    "\n",
    "b = [i*10 for i in a ]\n",
    "print(b)"
   ]
  },
  {
   "cell_type": "code",
   "execution_count": 24,
   "metadata": {},
   "outputs": [
    {
     "name": "stdout",
     "output_type": "stream",
     "text": [
      "[2, 4, 6, 8, 10, 12, 14, 16, 18, 20, 22, 24, 26, 28, 30, 32, 34]\n"
     ]
    }
   ],
   "source": [
    "# 还可以过滤原来list中的内容并放入新列表\n",
    "# 比如列表a，把所有的偶数放入列表b\n",
    "a = [x for x in range(1,35)]\n",
    "b = [i for i in a if i%2 == 0]\n",
    "print(b)"
   ]
  },
  {
   "cell_type": "code",
   "execution_count": 29,
   "metadata": {},
   "outputs": [
    {
     "name": "stdout",
     "output_type": "stream",
     "text": [
      "[1, 2, 3]\n",
      "[100, 200, 300]\n",
      "[100, 200, 300, 200, 400, 600, 300, 600, 900]\n",
      "100 200 300 200 400 600 300 600 900 \n",
      "[100, 200, 200]\n"
     ]
    }
   ],
   "source": [
    "# 列表生成式可以嵌套\n",
    "# 有两个列表a，b\n",
    "a = [i for i in range(1,4)]\n",
    "print(a)\n",
    "\n",
    "b = [i for i in  range(100,400) if i%100 ==0]\n",
    "print(b)\n",
    "\n",
    "# 列表生成式可以嵌套，此时等于两个for循环嵌套\n",
    "c = [m*n for m in a for n in b]\n",
    "print(c)\n",
    "\n",
    "# 等价于\n",
    "for m in a:\n",
    "    for n in b:\n",
    "        print(m*n,end=\" \")\n",
    "print()\n",
    "        \n",
    "# 嵌套的列表生成式也可用条件表达式\n",
    "c = [m*n for m in a for n in b if m*n < 250]\n",
    "print(c)"
   ]
  },
  {
   "cell_type": "markdown",
   "metadata": {},
   "source": [
    "# 关于列表的常用函数"
   ]
  },
  {
   "cell_type": "code",
   "execution_count": 30,
   "metadata": {},
   "outputs": [
    {
     "name": "stdout",
     "output_type": "stream",
     "text": [
      "99\n",
      "99 1\n",
      "user\n"
     ]
    }
   ],
   "source": [
    "# len 求列表的长度\n",
    "a = [i for i in range(1,100)]\n",
    "print(len(a))\n",
    "# max 求列表中的最大值\n",
    "# min 同理\n",
    "print(max(a),min(a))\n",
    "\n",
    "b = [\"name\",\"user\",\"python\"]\n",
    "print(max(b))"
   ]
  },
  {
   "cell_type": "code",
   "execution_count": 31,
   "metadata": {},
   "outputs": [
    {
     "name": "stdout",
     "output_type": "stream",
     "text": [
      "[1, 2, 3]\n"
     ]
    }
   ],
   "source": [
    "# 讲其他格式的数据转化为list\n",
    "a = (1,2,3)\n",
    "print(list(a))"
   ]
  },
  {
   "cell_type": "code",
   "execution_count": 32,
   "metadata": {},
   "outputs": [
    {
     "name": "stdout",
     "output_type": "stream",
     "text": [
      "['i', ' ', 'l', 'o', 'v', 'e', ' ', 'c', 'h', 'i', 'n', 'a']\n"
     ]
    }
   ],
   "source": [
    "s = \"i love china\"\n",
    "print(list(s))"
   ]
  },
  {
   "cell_type": "code",
   "execution_count": 33,
   "metadata": {},
   "outputs": [
    {
     "name": "stdout",
     "output_type": "stream",
     "text": [
      "[1, 2, 3, 4, 5, 6, 7, 8, 9]\n"
     ]
    }
   ],
   "source": [
    "print(list(range(1,10)))"
   ]
  },
  {
   "cell_type": "code",
   "execution_count": null,
   "metadata": {},
   "outputs": [],
   "source": []
  }
 ],
 "metadata": {
  "kernelspec": {
   "display_name": "Python 3",
   "language": "python",
   "name": "python3"
  },
  "language_info": {
   "codemirror_mode": {
    "name": "ipython",
    "version": 3
   },
   "file_extension": ".py",
   "mimetype": "text/x-python",
   "name": "python",
   "nbconvert_exporter": "python",
   "pygments_lexer": "ipython3",
   "version": "3.6.5"
  }
 },
 "nbformat": 4,
 "nbformat_minor": 2
}

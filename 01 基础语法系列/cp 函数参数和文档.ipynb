{
 "cells": [
  {
   "cell_type": "markdown",
   "metadata": {},
   "source": [
    "# 四类参数\n",
    "\n",
    "- 普通参数\n",
    "- 默认参数\n",
    "- 关键字参数\n",
    "- 搜集参数"
   ]
  },
  {
   "cell_type": "markdown",
   "metadata": {},
   "source": [
    "# 关键字参数开始\n",
    "\n",
    "- 语法\n",
    "\n",
    "        def fune(p1=v1,p2=v2)\n",
    "            fune_body\n",
    "        # 调用函数：\n",
    "        fune（p1-value1，p2=value2）\n",
    "- 比较麻烦，但也有好处\n",
    "    = 比容易混淆，一般实参和形参只是按照位置一一对应即可，容易出错\n",
    "    - 使用关键字参数，可以不考虑参数位置"
   ]
  },
  {
   "cell_type": "code",
   "execution_count": 8,
   "metadata": {},
   "outputs": [
    {
     "name": "stdout",
     "output_type": "stream",
     "text": [
      "i an a shtdent\n",
      "我叫 chenpeng， 我今年 26岁了， 我住shanxi\n"
     ]
    }
   ],
   "source": [
    "\n",
    "\n",
    "# 普通参数，只是对位置的传递，容易出错\n",
    "\n",
    "def stu_key(name = \"no name\", age = 0, addr = \"no addr\"):\n",
    "    print(\"i an a shtdent\")\n",
    "    print(\"我叫 {0}， 我今年 {1}岁了， 我住{2}\".format(name, age, addr))\n",
    "        \n",
    "   \n",
    "n = \"chenpeng\"\n",
    "a = 26\n",
    "addr = \"shanxi\"\n",
    "\n",
    "stu_key(age = a, name = n, addr = addr)\n",
    "\n",
    "\n",
    "    "
   ]
  },
  {
   "cell_type": "code",
   "execution_count": null,
   "metadata": {},
   "outputs": [],
   "source": [
    "# 关键字参数案例\n",
    "\n",
    "def stu(name, age, addr):\n",
    "    print(\"I am a student\")\n",
    "    print(\"我叫 {0}， 我今年 {1}岁了， 我住{2}\".format(name, age, addr))\n",
    "    \n",
    "    \n",
    "n = \"jingjing\"\n",
    "a = 18\n",
    "addr = \"我家\""
   ]
  },
  {
   "cell_type": "markdown",
   "metadata": {},
   "source": [
    "# 搜集参数\n",
    "\n",
    "- 把没有位置，不能和定义时的参数位置相对应的参数放入一个特定的数据结构中\n",
    "- 语法\n",
    "\n",
    "        def fune（*args）\n",
    "            fune_body\n",
    "            按照list的方式 方位args得到传入的参数\n",
    "        \n",
    "        调用\n",
    "        \n",
    "        fune（p1,p2,p3）\n",
    "- 参数名args不是必须这么写，但是，我们推荐直接用args，约定俗成\n",
    "- 参数名args前需要星号\n",
    "- 搜集参数可以喝其他参数共存"
   ]
  },
  {
   "cell_type": "code",
   "execution_count": 10,
   "metadata": {},
   "outputs": [
    {
     "name": "stdout",
     "output_type": "stream",
     "text": [
      "hello，大家好，我自我介绍一下，简单说两句\n",
      "<class 'tuple'>\n",
      "陈鹏\n",
      "18岁\n",
      "shanxijincheng\n",
      "nan\n",
      "love nv\n"
     ]
    }
   ],
   "source": [
    "# 搜集参数示例\n",
    "# 函数模拟一个学生进行自我介绍，具体内容不清楚\n",
    "# args看成一个list\n",
    "\n",
    "def student(*args):\n",
    "    print(\"hello，大家好，我自我介绍一下，简单说两句\")\n",
    "    # type函数的作用是检测变量的类型\n",
    "    print(type(args))\n",
    "    for item in args:\n",
    "        print(item)\n",
    "    \n",
    "student(\"陈鹏\",\"18岁\",\"shanxijincheng\",\"nan\",\"love nv\")"
   ]
  },
  {
   "cell_type": "code",
   "execution_count": 11,
   "metadata": {},
   "outputs": [
    {
     "name": "stdout",
     "output_type": "stream",
     "text": [
      "hello，大家好，我自我介绍一下，简单说两句\n",
      "<class 'tuple'>\n"
     ]
    }
   ],
   "source": [
    "# 搜集参数案例\n",
    "\n",
    "student()"
   ]
  },
  {
   "cell_type": "markdown",
   "metadata": {},
   "source": [
    "# 搜集参数值关键字搜集参数\n",
    "\n",
    "- 把关键字参数按字典格式放入收集参数\n",
    "- 语法：\n",
    "\n",
    "        def fune（**kwargs）：\n",
    "            fune_body\n",
    "            \n",
    "        # 调用\n",
    "        fune（p1=v1，p2=v2，p3=v3）\n",
    "        \n",
    "    - kwargs一般约定俗成\n",
    "    - 调用的时候，把多余的关键字参数放入kwargs\n",
    "    - 访问kwargs需要字典格式访问"
   ]
  },
  {
   "cell_type": "code",
   "execution_count": 12,
   "metadata": {},
   "outputs": [
    {
     "name": "stdout",
     "output_type": "stream",
     "text": [
      "hello，大家好，我先自我介绍一下\n",
      "<class 'dict'>\n",
      "name ... chenpeng\n",
      "age ... 18\n",
      "addr ... shanxi\n",
      "love ... nv\n"
     ]
    }
   ],
   "source": [
    "# 收集参数案例\n",
    "# 自我介绍\n",
    "# 调用的时候需要使用关键字参数调用\n",
    "\n",
    "def student(**kwargs):\n",
    "    # 函数体内kwargs的使用不需要星号\n",
    "    print(\"hello，大家好，我先自我介绍一下\")\n",
    "    print(type(kwargs))\n",
    "         \n",
    "    for k,v in kwargs.items():\n",
    "        print(k,\"...\",v)\n",
    "        \n",
    "student (name=\"chenpeng\",age=18,addr=\"shanxi\",love=\"nv\")\n",
    "    "
   ]
  },
  {
   "cell_type": "code",
   "execution_count": 13,
   "metadata": {},
   "outputs": [
    {
     "name": "stdout",
     "output_type": "stream",
     "text": [
      "hello，大家好，我先自我介绍一下\n",
      "<class 'dict'>\n"
     ]
    }
   ],
   "source": [
    "# 搜集参数为空的案例\n",
    "\n",
    "student()"
   ]
  },
  {
   "cell_type": "markdown",
   "metadata": {},
   "source": [
    "# 搜集参数混合调用的顺序问题\n",
    "\n",
    "- 收集参数，关键字参数，普通参数可以混合使用\n",
    "- 使用郭泽是，普通参数和关键字参数优先\n",
    "- 定义的时候一般是找普通参数，关键字参数，搜集参数tuple，搜集参数dict"
   ]
  },
  {
   "cell_type": "code",
   "execution_count": 21,
   "metadata": {},
   "outputs": [
    {
     "name": "stdout",
     "output_type": "stream",
     "text": [
      "hello！大家好\n",
      "我叫 陈鹏，今年 18岁了，\n",
      "我没有爱好，so，sorry\n",
      "********************\n",
      "####################\n",
      "hello！大家好\n",
      "我叫 陈鹏，今年 18岁了，\n",
      "我的爱好是(0)\n",
      "********************\n",
      "####################\n",
      "hello！大家好\n",
      "我叫 陈鹏，今年 18岁了，\n",
      "我没有爱好，so，sorry\n",
      "********************\n",
      "china\n",
      "meinu\n",
      "####################\n",
      "hoddy1 ... shaonv\n",
      "hoddy2 ... game\n",
      "hoddy3 ... 和美女谈人生\n"
     ]
    }
   ],
   "source": [
    "# 搜集参数混合使用案例\n",
    "# 模拟一个学生的自我介绍\n",
    "def student(name,age,*args,hoddy=\"没有\",**kwargs):\n",
    "    print(\"hello！大家好\")\n",
    "    print(\"我叫 {0}，今年 {1}岁了，\".format(name,age))\n",
    "    if hoddy == \"没有\":\n",
    "        print(\"我没有爱好，so，sorry\")\n",
    "    else:\n",
    "        print(\"我的爱好是(0)\".format(hoddy))\n",
    "    print(\"*\" * 20)\n",
    "    \n",
    "    for i in args:\n",
    "        print(i)\n",
    "        \n",
    "    print(\"#\" *20)\n",
    "    \n",
    "    for k,v in kwargs.items():\n",
    "        print(k,\"...\",v)\n",
    "        \n",
    "        \n",
    "# 开始调用函数\n",
    "\n",
    "name = \"陈鹏\"\n",
    "age = 18\n",
    "\n",
    "# 调用的不同格式\n",
    "\n",
    "student(name, age)\n",
    "\n",
    "student(name,age,hoddy=\"玩游戏\")\n",
    "\n",
    "\n",
    "student(name,age,\"china\",\"meinu\", hoddy1=\"shaonv\",hoddy2=\"game\",hoddy3=\"和美女谈人生\")\n"
   ]
  },
  {
   "cell_type": "markdown",
   "metadata": {},
   "source": [
    "# 搜集参数的解包问题\n",
    "\n",
    "- 把参数放入list或者dict中，直接把list/dict中的值放入搜集参数中\n",
    "- 语法，"
   ]
  },
  {
   "cell_type": "code",
   "execution_count": 27,
   "metadata": {},
   "outputs": [
    {
     "name": "stdout",
     "output_type": "stream",
     "text": [
      "哈哈哈哈哈\n",
      "<class 'list'>\n",
      "0\n",
      "['liuying', 19, 23, 'wangxiaojing']\n",
      "哈哈哈哈哈\n",
      "<class 'str'>\n",
      "0\n",
      "liuying\n",
      "<class 'int'>\n",
      "1\n",
      "19\n",
      "<class 'int'>\n",
      "2\n",
      "23\n",
      "<class 'str'>\n",
      "3\n",
      "wangxiaojing\n"
     ]
    }
   ],
   "source": [
    "def stu(*args):\n",
    "    print(\"哈哈哈哈哈\")\n",
    "    # n用来表示循环次数，主要用来调试\n",
    "    n = 0\n",
    "    for i in args:\n",
    "        print(type(i))\n",
    "        print(n)\n",
    "        n +=1\n",
    "        print(i)\n",
    "\n",
    "a = [\"liuying\", 19, 23, \"wangxiaojing\"]\n",
    "stu(a)\n",
    "\n",
    "# 此时，args表示形式是字典内的一个list类型的元素\n",
    "# 此时的调用，我们需要用到解包符号\n",
    "\n",
    "stu(*a)"
   ]
  },
  {
   "cell_type": "code",
   "execution_count": null,
   "metadata": {},
   "outputs": [],
   "source": []
  },
  {
   "cell_type": "code",
   "execution_count": null,
   "metadata": {},
   "outputs": [],
   "source": []
  },
  {
   "cell_type": "code",
   "execution_count": null,
   "metadata": {},
   "outputs": [],
   "source": []
  },
  {
   "cell_type": "code",
   "execution_count": 29,
   "metadata": {},
   "outputs": [
    {
     "name": "stdout",
     "output_type": "stream",
     "text": [
      "哈哈哈哈哈\n",
      "<class 'str'>\n",
      "0\n",
      "liuying\n",
      "<class 'str'>\n",
      "1\n",
      "liuxiaoyhing\n",
      "<class 'int'>\n",
      "2\n",
      "19\n",
      "<class 'int'>\n",
      "3\n",
      "200\n",
      "这是返回值\n"
     ]
    }
   ],
   "source": [
    "#收集参数的解包问题\n",
    "\n",
    "def stu(*args):\n",
    "    print(\"哈哈哈哈哈\")\n",
    "    # n用来表示循环次数，主要用来调试\n",
    "    n = 0\n",
    "    for i in args:\n",
    "        print(type(i))\n",
    "        print(n)\n",
    "        n +=1\n",
    "        print(i)\n",
    "    return \"这是返回值\"\n",
    "#stu()\n",
    "student = stu(\"liuying\", \"liuxiaoyhing\", 19, 200)\n",
    "print(student)\n"
   ]
  },
  {
   "cell_type": "code",
   "execution_count": null,
   "metadata": {},
   "outputs": [],
   "source": []
  },
  {
   "cell_type": "code",
   "execution_count": null,
   "metadata": {},
   "outputs": [],
   "source": []
  },
  {
   "cell_type": "markdown",
   "metadata": {},
   "source": [
    "# 同理，dict类型收集参数一样可以解包，但是\n",
    "\n",
    "- 对dict类型的解包\n",
    "- 西药用到两个星号进行解包"
   ]
  },
  {
   "cell_type": "code",
   "execution_count": null,
   "metadata": {},
   "outputs": [],
   "source": []
  },
  {
   "cell_type": "markdown",
   "metadata": {},
   "source": [
    "# 返回值\n",
    "\n",
    "- 函数和过程的区别\n",
    "    -有误返回值\n",
    "- 需要用return显示返回值内容\n",
    "- 如果没有返回，则默认返回None\n",
    "- 推荐写法，无论有无返回值，最后要以return 结束"
   ]
  },
  {
   "cell_type": "code",
   "execution_count": 31,
   "metadata": {},
   "outputs": [
    {
     "name": "stdout",
     "output_type": "stream",
     "text": [
      "有返回值呀\n",
      "1\n",
      "没有返回值呀\n",
      "None\n"
     ]
    }
   ],
   "source": [
    "# 返回值示例\n",
    "\n",
    "def func_1():\n",
    "    print(\"有返回值呀\")\n",
    "    return 1\n",
    "\n",
    "def func_2():\n",
    "    print(\"没有返回值呀\")\n",
    "    \n",
    "    \n",
    "f1 = func_1()\n",
    "print(f1)\n",
    "\n",
    "f2 = func_2()\n",
    "print(f2)\n",
    "\n"
   ]
  },
  {
   "cell_type": "markdown",
   "metadata": {},
   "source": [
    "# 函数文档\n",
    "\n",
    "- 函数的文档的作用是对当前函数提供使用相关的参数信息\n",
    "- 文档的写法\n",
    "    - 在函数内部开始第一行使用三个引号字符串邓毅符\n",
    "    - 一般具有特定格式\n",
    "    - 参数案例\n",
    "- 文档查看\n",
    "    - 使用help函数，刑辱help(func)\n",
    "    - 使用doc.\n",
    "    "
   ]
  },
  {
   "cell_type": "code",
   "execution_count": 32,
   "metadata": {},
   "outputs": [],
   "source": [
    "# 文档案例\n",
    "#函数stu是模拟一个学生的自我介绍内容\n",
    "\n",
    "def stu(name,age,*args):\n",
    "    '''\n",
    "    这是第一行\n",
    "    这是第二行\n",
    "    这是第三行\n",
    "    '''\n",
    "    print(\"This is hanshu sht\")\n",
    "    "
   ]
  },
  {
   "cell_type": "code",
   "execution_count": 34,
   "metadata": {},
   "outputs": [
    {
     "name": "stdout",
     "output_type": "stream",
     "text": [
      "Help on function stu in module __main__:\n",
      "\n",
      "stu(name, age, *args)\n",
      "    这是第一行\n",
      "    这是第二行\n",
      "    这是第三行\n",
      "\n"
     ]
    },
    {
     "data": {
      "text/plain": [
       "'\\n    这是第一行\\n    这是第二行\\n    这是第三行\\n    '"
      ]
     },
     "execution_count": 34,
     "metadata": {},
     "output_type": "execute_result"
    }
   ],
   "source": [
    "# 查看函数文档\n",
    "help(stu)\n",
    "\n",
    "stu.__doc__\n",
    "\n",
    "\n"
   ]
  },
  {
   "cell_type": "code",
   "execution_count": 35,
   "metadata": {
    "scrolled": true
   },
   "outputs": [
    {
     "data": {
      "text/plain": [
       "\"print(value, ..., sep=' ', end='\\\\n', file=sys.stdout, flush=False)\\n\\nPrints the values to a stream, or to sys.stdout by default.\\nOptional keyword arguments:\\nfile:  a file-like object (stream); defaults to the current sys.stdout.\\nsep:   string inserted between values, default a space.\\nend:   string appended after the last value, default a newline.\\nflush: whether to forcibly flush the stream.\""
      ]
     },
     "execution_count": 35,
     "metadata": {},
     "output_type": "execute_result"
    }
   ],
   "source": [
    "print.__doc__"
   ]
  },
  {
   "cell_type": "code",
   "execution_count": 36,
   "metadata": {},
   "outputs": [],
   "source": [
    "def student(name,age):\n",
    "    '''\n",
    "    这是函数的文档内容\n",
    "    :parm name :表示学生的姓名\n",
    "    :parm sge :表示学生的年龄\n",
    "    \n",
    "    '''\n",
    "    pass\n"
   ]
  },
  {
   "cell_type": "code",
   "execution_count": 38,
   "metadata": {},
   "outputs": [
    {
     "name": "stdout",
     "output_type": "stream",
     "text": [
      "Help on function student in module __main__:\n",
      "\n",
      "student(name, age)\n",
      "    这是函数的文档内容\n",
      "    :parm name :表示学生的姓名\n",
      "    :parm sge :表示学生的年龄\n",
      "\n",
      "None\n",
      "******************************\n",
      "\n",
      "    这是函数的文档内容\n",
      "    :parm name :表示学生的姓名\n",
      "    :parm sge :表示学生的年龄\n",
      "    \n",
      "    \n"
     ]
    }
   ],
   "source": [
    "print(help(student))\n",
    "\n",
    "print(\"*\"*30)\n",
    "\n",
    "print(student.__doc__)"
   ]
  },
  {
   "cell_type": "code",
   "execution_count": null,
   "metadata": {},
   "outputs": [],
   "source": []
  },
  {
   "cell_type": "code",
   "execution_count": null,
   "metadata": {},
   "outputs": [],
   "source": []
  },
  {
   "cell_type": "code",
   "execution_count": null,
   "metadata": {},
   "outputs": [],
   "source": []
  },
  {
   "cell_type": "code",
   "execution_count": null,
   "metadata": {},
   "outputs": [],
   "source": []
  },
  {
   "cell_type": "code",
   "execution_count": null,
   "metadata": {},
   "outputs": [],
   "source": []
  },
  {
   "cell_type": "code",
   "execution_count": null,
   "metadata": {},
   "outputs": [],
   "source": []
  },
  {
   "cell_type": "code",
   "execution_count": null,
   "metadata": {},
   "outputs": [],
   "source": []
  },
  {
   "cell_type": "code",
   "execution_count": null,
   "metadata": {},
   "outputs": [],
   "source": []
  },
  {
   "cell_type": "code",
   "execution_count": null,
   "metadata": {},
   "outputs": [],
   "source": []
  },
  {
   "cell_type": "code",
   "execution_count": null,
   "metadata": {},
   "outputs": [],
   "source": []
  },
  {
   "cell_type": "code",
   "execution_count": null,
   "metadata": {},
   "outputs": [],
   "source": []
  },
  {
   "cell_type": "code",
   "execution_count": null,
   "metadata": {},
   "outputs": [],
   "source": []
  },
  {
   "cell_type": "code",
   "execution_count": null,
   "metadata": {},
   "outputs": [],
   "source": []
  },
  {
   "cell_type": "code",
   "execution_count": null,
   "metadata": {},
   "outputs": [],
   "source": []
  },
  {
   "cell_type": "code",
   "execution_count": null,
   "metadata": {},
   "outputs": [],
   "source": []
  },
  {
   "cell_type": "code",
   "execution_count": null,
   "metadata": {},
   "outputs": [],
   "source": []
  },
  {
   "cell_type": "code",
   "execution_count": null,
   "metadata": {},
   "outputs": [],
   "source": []
  },
  {
   "cell_type": "code",
   "execution_count": null,
   "metadata": {},
   "outputs": [],
   "source": []
  },
  {
   "cell_type": "code",
   "execution_count": null,
   "metadata": {},
   "outputs": [],
   "source": []
  }
 ],
 "metadata": {
  "kernelspec": {
   "display_name": "Python 3",
   "language": "python",
   "name": "python3"
  },
  "language_info": {
   "codemirror_mode": {
    "name": "ipython",
    "version": 3
   },
   "file_extension": ".py",
   "mimetype": "text/x-python",
   "name": "python",
   "nbconvert_exporter": "python",
   "pygments_lexer": "ipython3",
   "version": "3.6.5"
  }
 },
 "nbformat": 4,
 "nbformat_minor": 2
}

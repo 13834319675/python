{
 "cells": [
  {
   "cell_type": "code",
   "execution_count": 4,
   "metadata": {
    "scrolled": true
   },
   "outputs": [
    {
     "name": "stdout",
     "output_type": "stream",
     "text": [
      "{'__module__': '__main__', 'name': 'name', 'age': '18', '__dict__': <attribute '__dict__' of 'Student' objects>, '__weakref__': <attribute '__weakref__' of 'Student' objects>, '__doc__': None}\n",
      "{}\n",
      "name\n"
     ]
    }
   ],
   "source": [
    "class Student():\n",
    "    name = \"name\"\n",
    "    age = \"18\"\n",
    "    \n",
    "print(Student.__dict__)\n",
    "\n",
    "# 实例化\n",
    "yueyue = Student()\n",
    "y = yueyue.__dict__\n",
    "print(y)\n",
    "print(yueyue.name)"
   ]
  },
  {
   "cell_type": "code",
   "execution_count": 17,
   "metadata": {},
   "outputs": [
    {
     "name": "stdout",
     "output_type": "stream",
     "text": [
      "chenpeng\n",
      "18\n",
      "********************\n",
      "2859634574320\n",
      "2859634571168\n",
      "********************\n",
      "chenpeng\n",
      "18\n",
      "2859634574320\n",
      "2859634571168\n"
     ]
    },
    {
     "ename": "TypeError",
     "evalue": "say() missing 1 required positional argument: 'self'",
     "output_type": "error",
     "traceback": [
      "\u001b[1;31m---------------------------------------------------------------------------\u001b[0m",
      "\u001b[1;31mTypeError\u001b[0m                                 Traceback (most recent call last)",
      "\u001b[1;32m<ipython-input-17-098d61eabf57>\u001b[0m in \u001b[0;36m<module>\u001b[1;34m()\u001b[0m\n\u001b[0;32m     32\u001b[0m \u001b[1;33m\u001b[0m\u001b[0m\n\u001b[0;32m     33\u001b[0m \u001b[1;33m\u001b[0m\u001b[0m\n\u001b[1;32m---> 34\u001b[1;33m \u001b[0mA\u001b[0m\u001b[1;33m.\u001b[0m\u001b[0msay\u001b[0m\u001b[1;33m(\u001b[0m\u001b[1;33m)\u001b[0m\u001b[1;33m\u001b[0m\u001b[0m\n\u001b[0m\u001b[0;32m     35\u001b[0m \u001b[0mprint\u001b[0m\u001b[1;33m(\u001b[0m\u001b[0ma\u001b[0m\u001b[1;33m.\u001b[0m\u001b[0m__dict__\u001b[0m\u001b[1;33m)\u001b[0m\u001b[1;33m\u001b[0m\u001b[0m\n",
      "\u001b[1;31mTypeError\u001b[0m: say() missing 1 required positional argument: 'self'"
     ]
    }
   ],
   "source": [
    "class A():\n",
    "    name = \"chenpeng\"\n",
    "    age = \"18\"\n",
    "    \n",
    "    # 注意say的写法，参数由一个self\n",
    "    def say(self):\n",
    "        self.name = \"laowang\"\n",
    "        self.age = 18\n",
    "        print(\"{0} is gae {1}\".format(self.name,self.age))\n",
    "# 此案例说明\n",
    "# 类示例的属性和其他对象的实例 的属性在不对对象的实例属性赋值的前提下\n",
    "# 指同一个变量\n",
    "\n",
    "# 此时，A称为类实例\n",
    "print(A.name)\n",
    "print(A.age)\n",
    "\n",
    "print(\"*\"*20)\n",
    "\n",
    "# id 可以鉴别一个变量是否和另一个变量是同一变量\n",
    "print(id((A.name)))\n",
    "print(id(A.age))\n",
    "\n",
    "print(\"*\"*20)\n",
    "\n",
    "a = A()\n",
    "print(a.name)\n",
    "print(a.age)\n",
    "print(id(a.name))\n",
    "print(id(a.age))\n",
    "\n",
    "\n",
    "\n",
    "\n",
    "print(a.__dict__)"
   ]
  },
  {
   "cell_type": "code",
   "execution_count": 21,
   "metadata": {},
   "outputs": [
    {
     "name": "stdout",
     "output_type": "stream",
     "text": [
      "aaaa\n",
      "name\n",
      "18\n",
      "name\n",
      "18\n",
      "aaaa\n"
     ]
    }
   ],
   "source": [
    "class Student():\n",
    "    name = \"name\"\n",
    "    age = \"18\"\n",
    "    \n",
    "    def say(self):\n",
    "        self.name = \"aaaa\"\n",
    "        self.age = 200\n",
    "\n",
    "        return\n",
    "say(a)\n",
    "print(a.name)\n",
    "\n",
    "print(Student.name)\n",
    "print(Student.age)\n",
    "s = Student()\n",
    "print(s.name)\n",
    "print(s.age)\n",
    "say(a)\n",
    "print(a.name)\n"
   ]
  },
  {
   "cell_type": "code",
   "execution_count": 25,
   "metadata": {},
   "outputs": [
    {
     "name": "stdout",
     "output_type": "stream",
     "text": [
      "chenpeng\n",
      "18\n",
      "********************\n",
      "2221372009968\n",
      "2221371991632\n",
      "********************\n",
      "chenpeng\n",
      "18\n",
      "2221372009968\n",
      "2221371991632\n",
      "aaaa\n",
      "2221372637512\n",
      "200\n",
      "200\n",
      "##############################\n",
      "{'__module__': '__main__', 'name': 'chenpeng', 'age': '18', 'say': <function A.say at 0x00000205341F8AE8>, '__dict__': <attribute '__dict__' of 'A' objects>, '__weakref__': <attribute '__weakref__' of 'A' objects>, '__doc__': None}\n",
      "{'name': 'gebilaowang', 'age': '28'}\n",
      "gebilaowang\n",
      "28\n",
      "2221372751728\n",
      "2221372704280\n"
     ]
    }
   ],
   "source": [
    "class A():\n",
    "    name = \"chenpeng\"\n",
    "    age = \"18\"\n",
    "    \n",
    "    # 注意say的写法，参数由一个self\n",
    "    def say(self):\n",
    "        self.name = \"laowang\"\n",
    "        self.age = 18\n",
    "        \n",
    "# 此案例说明\n",
    "# 类示例的属性和其他对象的实例 的属性在不对对象的实例属性赋值的前提下\n",
    "# 指同一个变量\n",
    "\n",
    "# 此时，A称为类实例\n",
    "print(A.name)\n",
    "print(A.age)\n",
    "\n",
    "print(\"*\"*20)\n",
    "\n",
    "# id 可以鉴别一个变量是否和另一个变量是同一变量\n",
    "print(id((A.name)))\n",
    "print(id(A.age))\n",
    "\n",
    "print(\"*\"*20)\n",
    "\n",
    "a = A()\n",
    "print(a.name)\n",
    "print(a.age)\n",
    "print(id(a.name))\n",
    "print(id(a.age))\n",
    "\n",
    "say(a)\n",
    "print(a.name)\n",
    "print(id((a.name)))\n",
    "print(a.age)\n",
    "print(a.age)\n",
    "\n",
    "print(\"#\"*30)\n",
    "\n",
    "a.name = \"gebilaowang\"\n",
    "a.age = \"28\"\n",
    "print(A.__dict__)\n",
    "print(a.__dict__)\n",
    "\n",
    "print(a.name)\n",
    "print(a.age)\n",
    "print(id(a.name))\n",
    "print(id(a.age))"
   ]
  },
  {
   "cell_type": "code",
   "execution_count": 32,
   "metadata": {},
   "outputs": [
    {
     "name": "stdout",
     "output_type": "stream",
     "text": [
      "My name is peng\n",
      "gebilaowang age is 18\n",
      "18\n",
      "chen\n",
      "Hello,nice to see you again\n"
     ]
    }
   ],
   "source": [
    "class Teacher():\n",
    "    name = \"chen\"\n",
    "    age = 18\n",
    "    \n",
    "    \n",
    "    def say(self):\n",
    "        classmethod\n",
    "        self.name = \"peng\"\n",
    "        self.age = 20\n",
    "        print (\"My name is {0}\".format(self.name))\n",
    "        \n",
    "        # 调用类的成员变量需要使用__class__\n",
    "        print(\"gebilaowang age is {0}\".format(__class__.age))\n",
    "        \n",
    "    def sayAgain(self):\n",
    "        print(__class__.age)\n",
    "        print(__class__.name)\n",
    "        print(\"Hello,nice to see you again\")\n",
    "        \n",
    "t = Teacher()\n",
    "t.say()\n",
    "t.sayAgain()\n",
    "# 调用绑定类函数使用类名\n",
    "# Teacher.sayAgain()\n",
    "#1.凡是类中的方法和函数，都是绑定给对象使用的；\n",
    "#2.绑定方法都有自动传值的功能。传递进去的值，就是对象本身。\n",
    "#3.如果类想调用绑定方法，就必须遵循函数的参数规则，有几个参数，就必须传递几个参数。\n",
    "\n",
    "\n"
   ]
  },
  {
   "cell_type": "markdown",
   "metadata": {},
   "source": [
    "#  类的绑定方法和非绑定方法\n",
    "\n",
    "- 当对象来调用类的绑定方法时，也是自动将类传递进去，并不需遵循函数参数传递的规则。\n",
    "\n",
    "- 对于类中的绑定方法，也基本上就这两种，不管怎么变化，只要记住以下规则，遇到这种情况，都不会再错。\n",
    "\n",
    "- 类中方法默认都是绑定给对象使用，当对象调用绑定方法时，会自动将对象作为第一个参数传递进去；而类来调用，则必须遵循函数参数一一对应的规则，有几个参数，就必须传递几个参数。如果一个方法是用了@classmethod装饰器，那么這个方法绑定到类身上，不管是对象来调用还是类调用，都会将类作为第一个参数传递进去。\n",
    "\n",
    "# 全面解析python类的绑定方法与非绑定方法\n",
    "\n",
    "- [https://www.cnblogs.com/vipchenwei/p/7126772.html]\n",
    "\n",
    "-"
   ]
  },
  {
   "cell_type": "code",
   "execution_count": 39,
   "metadata": {},
   "outputs": [
    {
     "name": "stdout",
     "output_type": "stream",
     "text": [
      "Mu name is laowang\n",
      "My age is 19\n",
      "My name is laowang\n",
      "My age is 19\n"
     ]
    }
   ],
   "source": [
    "class Student():\n",
    "    name = \"chenpeng\"\n",
    "    age = 18\n",
    "    \n",
    "    # 注意say的写法，参数由一个self\n",
    "    def say(self):\n",
    "        self.name = \"laowang\"\n",
    "        self.age = 19\n",
    "        print(\"Mu name is {0}\".format(self.name))\n",
    "        print(\"My age is {0}\".format(self.age))\n",
    "        \n",
    "    def asyAgain(s):\n",
    "        print(\"My name is {0}\".format(s.name))\n",
    "        print(\"My age is {0}\".format(s.age))\n",
    "        \n",
    "gebilaowang = Student()\n",
    "gebilaowang.say()\n",
    "gebilaowang.asyAgain()\n"
   ]
  },
  {
   "cell_type": "code",
   "execution_count": 3,
   "metadata": {},
   "outputs": [
    {
     "ename": "AttributeError",
     "evalue": "'NoneType' object has no attribute 'say'",
     "output_type": "error",
     "traceback": [
      "\u001b[1;31m---------------------------------------------------------------------------\u001b[0m",
      "\u001b[1;31mAttributeError\u001b[0m                            Traceback (most recent call last)",
      "\u001b[1;32m<ipython-input-3-3f1e9955cf86>\u001b[0m in \u001b[0;36m<module>\u001b[1;34m()\u001b[0m\n\u001b[0;32m     16\u001b[0m \u001b[1;33m\u001b[0m\u001b[0m\n\u001b[0;32m     17\u001b[0m \u001b[0mt\u001b[0m \u001b[1;33m=\u001b[0m \u001b[0mTeacher\u001b[0m\u001b[1;33m(\u001b[0m\u001b[1;33m)\u001b[0m\u001b[1;33m\u001b[0m\u001b[0m\n\u001b[1;32m---> 18\u001b[1;33m \u001b[0mt\u001b[0m\u001b[1;33m.\u001b[0m\u001b[0msay\u001b[0m\u001b[1;33m(\u001b[0m\u001b[1;33m)\u001b[0m\u001b[1;33m\u001b[0m\u001b[0m\n\u001b[0m\u001b[0;32m     19\u001b[0m \u001b[1;31m# 调用绑定类函数使用类名\u001b[0m\u001b[1;33m\u001b[0m\u001b[1;33m\u001b[0m\u001b[0m\n\u001b[0;32m     20\u001b[0m \u001b[0mTeacher\u001b[0m\u001b[1;33m.\u001b[0m\u001b[0msayAgain\u001b[0m\u001b[1;33m(\u001b[0m\u001b[1;33m)\u001b[0m\u001b[1;33m\u001b[0m\u001b[0m\n",
      "\u001b[1;31mAttributeError\u001b[0m: 'NoneType' object has no attribute 'say'"
     ]
    }
   ],
   "source": [
    "def Teacher():\n",
    "    name = \"cp\"\n",
    "    age = 20\n",
    "    \n",
    "    def say(self):\n",
    "        self.name = \"cp\"\n",
    "        self.age = 28\n",
    "        print(\"My name ia {0}\".format(self.name))\n",
    "        # 调用类的成员变量需要用__class__\n",
    "        print(\"My age is {0}\".format(__class__.age))\n",
    "        \n",
    "    def sayAgain():\n",
    "        print(__class__.name)\n",
    "        print(__class__.age)\n",
    "        print(\"Hello, nice to see you again\")\n",
    "            \n",
    "t = Teacher()\n",
    "t.say()\n",
    "# 调用绑定类函数使用类名\n",
    "Teacher.sayAgain()\n",
    "# 阿西吧 无名未知出错"
   ]
  },
  {
   "cell_type": "code",
   "execution_count": 5,
   "metadata": {
    "scrolled": true
   },
   "outputs": [
    {
     "ename": "AttributeError",
     "evalue": "'function' object has no attribute 'say'",
     "output_type": "error",
     "traceback": [
      "\u001b[1;31m---------------------------------------------------------------------------\u001b[0m",
      "\u001b[1;31mAttributeError\u001b[0m                            Traceback (most recent call last)",
      "\u001b[1;32m<ipython-input-5-b969016ad32c>\u001b[0m in \u001b[0;36m<module>\u001b[1;34m()\u001b[0m\n\u001b[0;32m     21\u001b[0m \u001b[1;33m\u001b[0m\u001b[0m\n\u001b[0;32m     22\u001b[0m \u001b[1;31m# 此时 self被a替换\u001b[0m\u001b[1;33m\u001b[0m\u001b[1;33m\u001b[0m\u001b[0m\n\u001b[1;32m---> 23\u001b[1;33m \u001b[0mA\u001b[0m\u001b[1;33m.\u001b[0m\u001b[0msay\u001b[0m\u001b[1;33m(\u001b[0m\u001b[0ma\u001b[0m\u001b[1;33m)\u001b[0m\u001b[1;33m\u001b[0m\u001b[0m\n\u001b[0m\u001b[0;32m     24\u001b[0m \u001b[1;31m# 同样可以把A作为参数传入\u001b[0m\u001b[1;33m\u001b[0m\u001b[1;33m\u001b[0m\u001b[0m\n\u001b[0;32m     25\u001b[0m \u001b[0mA\u001b[0m\u001b[1;33m.\u001b[0m\u001b[0msay\u001b[0m\u001b[1;33m(\u001b[0m\u001b[0ma\u001b[0m\u001b[1;33m)\u001b[0m\u001b[1;33m\u001b[0m\u001b[0m\n",
      "\u001b[1;31mAttributeError\u001b[0m: 'function' object has no attribute 'say'"
     ]
    }
   ],
   "source": [
    "# 古谚语self的案例\n",
    "def A():\n",
    "    name = \"chen\"\n",
    "    age = 16\n",
    "    \n",
    "    def __init__():\n",
    "        self.name = \"peng\"\n",
    "        self.age = 17\n",
    "        \n",
    "    def say():\n",
    "        print(self.name)\n",
    "        print(self.age)\n",
    "        \n",
    "class B():\n",
    "    name = \"BBB\"\n",
    "    age = 15\n",
    "    \n",
    "    \n",
    "a = A()\n",
    "# 此时，系统会默认把a传作第一个参数传入函数\n",
    "a.say()\n",
    "# 此时 self被a替换\n",
    "A.say(a)\n",
    "# 同样可以把A作为参数传入\n",
    "A.say(a)\n",
    "\n",
    "# 此时传入的是类实例，因为b具有name，和age 所以不会报错\n",
    "A.say(B)\n",
    "\n",
    "# 以上大妈利用了鸭子模型"
   ]
  },
  {
   "cell_type": "code",
   "execution_count": 6,
   "metadata": {},
   "outputs": [
    {
     "name": "stdout",
     "output_type": "stream",
     "text": [
      "aaaa\n",
      "200\n",
      "aaaa\n",
      "200\n",
      " liuying\n",
      "18\n",
      "bbbb\n",
      "90\n"
     ]
    }
   ],
   "source": [
    "# 关于self的案例\n",
    "\n",
    "class A():\n",
    "    name = \" liuying\"\n",
    "    age = 18\n",
    "    \n",
    "    def __init__(self):\n",
    "        self.name = \"aaaa\"\n",
    "        self.age = 200\n",
    "        \n",
    "    def say(self):\n",
    "        print(self.name)\n",
    "        print(self.age)\n",
    "        \n",
    "class B():\n",
    "    name = \"bbbb\"\n",
    "    age = 90\n",
    "    \n",
    "a = A()\n",
    "# 此时，系统会默认把a作为第一个参数传入函数\n",
    "a.say()\n",
    "   \n",
    "# 此时，self被a替换\n",
    "A.say(a)\n",
    "# 同样可以把A作为参数传入\n",
    "A.say(A)\n",
    "\n",
    "# 此时，传入的是类实例B，因为B具有name和age属性，所以不会报错\n",
    "A.say(B)\n",
    "\n",
    "# 以上代码，利用了鸭子模型"
   ]
  },
  {
   "cell_type": "code",
   "execution_count": 11,
   "metadata": {
    "scrolled": true
   },
   "outputs": [
    {
     "name": "stdout",
     "output_type": "stream",
     "text": [
      "cp\n"
     ]
    },
    {
     "ename": "AttributeError",
     "evalue": "type object 'person' has no attribute '__age'",
     "output_type": "error",
     "traceback": [
      "\u001b[1;31m---------------------------------------------------------------------------\u001b[0m",
      "\u001b[1;31mAttributeError\u001b[0m                            Traceback (most recent call last)",
      "\u001b[1;32m<ipython-input-11-2da1aa94f8ab>\u001b[0m in \u001b[0;36m<module>\u001b[1;34m()\u001b[0m\n\u001b[0;32m     11\u001b[0m \u001b[0mprint\u001b[0m\u001b[1;33m(\u001b[0m\u001b[0mp\u001b[0m\u001b[1;33m.\u001b[0m\u001b[0mname\u001b[0m\u001b[1;33m)\u001b[0m\u001b[1;33m\u001b[0m\u001b[0m\n\u001b[0;32m     12\u001b[0m \u001b[1;31m# __age是私有变量\u001b[0m\u001b[1;33m\u001b[0m\u001b[1;33m\u001b[0m\u001b[0m\n\u001b[1;32m---> 13\u001b[1;33m \u001b[0mprint\u001b[0m\u001b[1;33m(\u001b[0m\u001b[0mperson\u001b[0m\u001b[1;33m.\u001b[0m\u001b[0m__age\u001b[0m\u001b[1;33m)\u001b[0m\u001b[1;33m\u001b[0m\u001b[0m\n\u001b[0m\u001b[0;32m     14\u001b[0m \u001b[0mprint\u001b[0m\u001b[1;33m(\u001b[0m\u001b[0mperson\u001b[0m\u001b[1;33m.\u001b[0m\u001b[0mname\u001b[0m\u001b[1;33m)\u001b[0m\u001b[1;33m\u001b[0m\u001b[0m\n\u001b[0;32m     15\u001b[0m \u001b[0mprint\u001b[0m\u001b[1;33m(\u001b[0m\u001b[0mp\u001b[0m\u001b[1;33m.\u001b[0m\u001b[0m__age\u001b[0m\u001b[1;33m)\u001b[0m\u001b[1;33m\u001b[0m\u001b[0m\n",
      "\u001b[1;31mAttributeError\u001b[0m: type object 'person' has no attribute '__age'"
     ]
    }
   ],
   "source": [
    "# 私有变量案例\n",
    "\n",
    "class person():\n",
    "    # name 是共同的成员\n",
    "    name=\"cp\"\n",
    "    # __age是私有成员\n",
    "    __age = 18\n",
    "    \n",
    "p = person()\n",
    "#name 是公共变量\n",
    "print(p.name)\n",
    "# __age是私有变量\n",
    "print(person.__age)\n",
    "print(person.name)\n",
    "print(p.__age)"
   ]
  },
  {
   "cell_type": "code",
   "execution_count": 16,
   "metadata": {},
   "outputs": [
    {
     "name": "stdout",
     "output_type": "stream",
     "text": [
      "{'__module__': '__main__', 'name': 'cp', '_person__age': 18, '__dict__': <attribute '__dict__' of 'person' objects>, '__weakref__': <attribute '__weakref__' of 'person' objects>, '__doc__': None}\n",
      "20\n"
     ]
    }
   ],
   "source": [
    "# name mangling技术\n",
    "print(person.__dict__)\n",
    "\n",
    "print(p._Person__age)"
   ]
  },
  {
   "cell_type": "code",
   "execution_count": null,
   "metadata": {},
   "outputs": [],
   "source": []
  },
  {
   "cell_type": "code",
   "execution_count": null,
   "metadata": {},
   "outputs": [],
   "source": []
  },
  {
   "cell_type": "code",
   "execution_count": null,
   "metadata": {},
   "outputs": [],
   "source": []
  }
 ],
 "metadata": {
  "kernelspec": {
   "display_name": "Python 3",
   "language": "python",
   "name": "python3"
  },
  "language_info": {
   "codemirror_mode": {
    "name": "ipython",
    "version": 3
   },
   "file_extension": ".py",
   "mimetype": "text/x-python",
   "name": "python",
   "nbconvert_exporter": "python",
   "pygments_lexer": "ipython3",
   "version": "3.6.5"
  }
 },
 "nbformat": 4,
 "nbformat_minor": 2
}

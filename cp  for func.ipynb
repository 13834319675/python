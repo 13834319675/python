{
 "cells": [
  {
   "cell_type": "code",
   "execution_count": 13,
   "metadata": {},
   "outputs": [
    {
     "name": "stdout",
     "output_type": "stream",
     "text": [
      "* * * * * \n",
      "* * * * * \n",
      "* * * * * \n",
      "* * * * * \n",
      "* * * * * \n",
      "********************\n",
      "* * * * * \n",
      "*       * \n",
      "*       * \n",
      "*       * \n",
      "* * * * * \n"
     ]
    }
   ],
   "source": [
    "# 打印一个长方形\n",
    "# 用for循环\n",
    "# i 控制行\n",
    "for i in range (1,6):\n",
    "    # j控制列\n",
    "    for j in range(1,6):\n",
    "        print(\"*\",end=\" \")\n",
    "    print()\n",
    "print(\"*\"*20)\n",
    "# 打印空心矩形\n",
    "for i in range(1,6):\n",
    "    for j in range(1,6):\n",
    "        if i == 1 or i==5 or j == 1 or j == 5:\n",
    "            print(\"*\",end=\" \")\n",
    "        else:\n",
    "            print(\" \",end = \" \")\n",
    "            \n",
    "    print()"
   ]
  },
  {
   "cell_type": "code",
   "execution_count": 23,
   "metadata": {},
   "outputs": [
    {
     "name": "stdout",
     "output_type": "stream",
     "text": [
      "* \n",
      "* * \n",
      "* * * \n",
      "* * * * \n",
      "* * * * * \n",
      "********************\n",
      "* \n",
      "* * \n",
      "*   * \n",
      "*     * \n",
      "* * * * * \n"
     ]
    }
   ],
   "source": [
    "# 打印直角三角形\n",
    "# 控制行\n",
    "for i in range(1,6):\n",
    "    # 控制列，第一行是一列，第二行是两列\n",
    "    for k in range(6-i,6):\n",
    "        print(\"*\",end=\" \")\n",
    "    print()\n",
    "\n",
    "print(\"*\"*20)\n",
    "\n",
    "for i in range(1,6):\n",
    "    for k in range(6-i,6):\n",
    "        if i == 1 or i == 5 or k == 6-i or k==5:\n",
    "            print(\"*\",end=\" \")\n",
    "        else:\n",
    "            print(\" \",end=\" \")\n",
    "            \n",
    "    print()\n",
    "                \n",
    "         "
   ]
  },
  {
   "cell_type": "code",
   "execution_count": 32,
   "metadata": {},
   "outputs": [
    {
     "name": "stdout",
     "output_type": "stream",
     "text": [
      "* * * * * \n",
      "* * * * \n",
      "* * * \n",
      "* * \n",
      "* \n",
      "********************\n",
      "* * * * * \n",
      "*     * \n",
      "*   * \n",
      "* * \n",
      "* \n"
     ]
    }
   ],
   "source": [
    "# 倒三角\n",
    "for i in range (1,6):\n",
    "    for j in range(1,7-i):\n",
    "        # 控制咧 第一行五列，第二行四列\n",
    "        print(\"*\",end = \" \")\n",
    "    print()\n",
    "print(\"*\"*20)\n",
    "# 倒空三角\n",
    "for i in range(1,6):\n",
    "    for j in range (1,7-i):\n",
    "        if i ==1 or i ==5 or j ==1 or j==7-i-1:\n",
    "                                # 等于6-i\n",
    "            print(\"*\",end=\" \")\n",
    "        else:\n",
    "            print(\" \",end=\" \")\n",
    "    print()"
   ]
  },
  {
   "cell_type": "code",
   "execution_count": 137,
   "metadata": {},
   "outputs": [
    {
     "name": "stdout",
     "output_type": "stream",
     "text": [
      "       \n",
      "      * \n",
      "     * * \n",
      "    * * * \n",
      "   * * * * \n",
      "  * * * * * \n",
      " * * * * * * \n",
      "********************\n",
      "       \n",
      "      * \n",
      "     * * \n",
      "    *   * \n",
      "   *     * \n",
      "  *       * \n",
      " * * * * * * \n"
     ]
    }
   ],
   "source": [
    "# 等边三角形\n",
    "# 控制行\n",
    "for i in range(7):\n",
    "    for j in range(7-i):\n",
    "        print(end=\" \")\n",
    "    for k in range(7-i,7):\n",
    "        print(\"*\",end=\" \")\n",
    "    print()\n",
    "    \n",
    "\n",
    "print(\"*\"*20)\n",
    "# d打印空心等腰三角形\n",
    "for i in range(7):\n",
    "    for k in range(7-i):\n",
    "        print(\"\", end=\" \")\n",
    "    for j in range(7-i,7):\n",
    "        if i==0 or i==6 or j==7-i or j==6:\n",
    "            print(\"*\",end = \" \")\n",
    "        else:\n",
    "            print(\" \",end = \" \")\n",
    "            \n",
    "    print()\n",
    "        \n",
    "\n",
    "    # 修改一下行i可以打印出字母A"
   ]
  },
  {
   "cell_type": "code",
   "execution_count": 90,
   "metadata": {},
   "outputs": [
    {
     "name": "stdout",
     "output_type": "stream",
     "text": [
      "       \n",
      "      * \n",
      "     * * \n",
      "    *   * \n",
      "   *     * \n",
      "  *       * \n",
      " *         * \n",
      "*           * \n",
      " *         * \n",
      "  *       * \n",
      "   *     * \n",
      "    *   * \n",
      "     * * \n",
      "      * \n"
     ]
    }
   ],
   "source": [
    "# 打印菱形\n",
    "for i in range(7):\n",
    "    for k in range(7-i):\n",
    "        print(\"\",end=\" \")\n",
    "    for j in range(7-i,7):\n",
    "        if i==1  or j==7-i or j==6:\n",
    "            print(\"*\",end = \" \")\n",
    "        else:\n",
    "            print(\" \",end = \" \")\n",
    "        \n",
    "    print()\n",
    "for i in range(7):\n",
    "    for k in range(i):\n",
    "        print(\"\",end=\" \")\n",
    "    for j in range(7-i):\n",
    "        if i==6 or j==0 or j==6-i:\n",
    "            print(\"*\",end = \" \")\n",
    "        else:\n",
    "            print(\" \",end = \" \")\n",
    "        \n",
    "    print()"
   ]
  },
  {
   "cell_type": "code",
   "execution_count": 3,
   "metadata": {},
   "outputs": [
    {
     "name": "stdout",
     "output_type": "stream",
     "text": [
      "* * * * * * * \n",
      " *         * \n",
      "  *       * \n",
      "   *     * \n",
      "    *   * \n",
      "     * * \n",
      "      * \n"
     ]
    }
   ],
   "source": [
    "# 倒等腰梯形\n",
    "for i in range(7):\n",
    "    for k in range(i):\n",
    "        print(\" \",end=\"\")\n",
    "    for j in range (7-i):\n",
    "        if i==0 or i==6 or j==0 or j==7-i-1:\n",
    "            print(\"*\",end=\" \")\n",
    "        else:\n",
    "            print(\" \",end= \" \")\n",
    "    print()\n",
    "       \n"
   ]
  },
  {
   "cell_type": "code",
   "execution_count": 5,
   "metadata": {},
   "outputs": [
    {
     "name": "stdout",
     "output_type": "stream",
     "text": [
      "0\n",
      "1\n",
      "2\n",
      "3\n"
     ]
    }
   ],
   "source": [
    "for i in range(4):\n",
    "    print(i)"
   ]
  }
 ],
 "metadata": {
  "kernelspec": {
   "display_name": "Python 3",
   "language": "python",
   "name": "python3"
  },
  "language_info": {
   "codemirror_mode": {
    "name": "ipython",
    "version": 3
   },
   "file_extension": ".py",
   "mimetype": "text/x-python",
   "name": "python",
   "nbconvert_exporter": "python",
   "pygments_lexer": "ipython3",
   "version": "3.6.5"
  }
 },
 "nbformat": 4,
 "nbformat_minor": 2
}

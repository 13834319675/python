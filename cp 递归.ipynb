{
 "cells": [
  {
   "cell_type": "code",
   "execution_count": 7,
   "metadata": {},
   "outputs": [
    {
     "name": "stdout",
     "output_type": "stream",
     "text": [
      "$5\n",
      "$4\n",
      "$3\n",
      "$2\n",
      "$1\n",
      "$0\n",
      "********************\n",
      "0\n",
      "1\n",
      "2\n",
      "3\n",
      "4\n",
      "5\n"
     ]
    }
   ],
   "source": [
    "def digui(num):\n",
    "    print(\"$\"+str(num))\n",
    "    if num>0:\n",
    "        digui(num-1)\n",
    "    else:\n",
    "        print(\"*\"*20)\n",
    "    print(num)\n",
    "digui(5)"
   ]
  },
  {
   "cell_type": "code",
   "execution_count": 33,
   "metadata": {},
   "outputs": [
    {
     "name": "stdout",
     "output_type": "stream",
     "text": [
      "0\n",
      "0\n",
      "移动第1次的结果为 a --> c\n",
      "移动第2次的结果为 a --> b\n",
      "移动第3次的结果为 c --> b\n",
      "移动第4次的结果为 a --> c\n",
      "0\n",
      "移动第5次的结果为 b --> a\n",
      "移动第6次的结果为 b --> c\n",
      "移动第7次的结果为 a --> c\n"
     ]
    }
   ],
   "source": [
    "i = 0\n",
    "def hann(n,a,b,c):\n",
    "    global i\n",
    "    if n==1:\n",
    "        i += 1\n",
    "        print (\"移动第{}次的结果为\".format(i),a,\"-->\",c)\n",
    "        \n",
    "    else:\n",
    "        print(0)\n",
    "        hann(n-1,a,c,b)\n",
    "        hann(1,a,b,c)\n",
    "        hann(n-1,b,a,c)   \n",
    "    \n",
    "hann(3,\"a\",\"b\",\"c\")"
   ]
  },
  {
   "cell_type": "code",
   "execution_count": null,
   "metadata": {},
   "outputs": [],
   "source": []
  }
 ],
 "metadata": {
  "kernelspec": {
   "display_name": "Python 3",
   "language": "python",
   "name": "python3"
  },
  "language_info": {
   "codemirror_mode": {
    "name": "ipython",
    "version": 3
   },
   "file_extension": ".py",
   "mimetype": "text/x-python",
   "name": "python",
   "nbconvert_exporter": "python",
   "pygments_lexer": "ipython3",
   "version": "3.6.5"
  }
 },
 "nbformat": 4,
 "nbformat_minor": 2
}

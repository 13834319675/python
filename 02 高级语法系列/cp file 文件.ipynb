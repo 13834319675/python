{
 "cells": [
  {
   "cell_type": "markdown",
   "metadata": {},
   "source": [
    "# 文件\n",
    "- 长久保存信息的一种数据信息集合\n",
    "- 常用操作\n",
    "    - 打开关闭，文件一旦打开，需要关闭操作\n",
    "    - 读写内容\n",
    "    - 查找\n",
    "## open函数\n",
    "- open函数负责打开文件，带有很多参数\n",
    "- 第一个参数必须有，文件的路径和名称\n",
    "- mode: 表明文件用什么方式打开\n",
    "    - r 以只读方式打开\n",
    "    - w 写的方式打开。会覆盖以前的内容\n",
    "    - x 创建方式打开，如果文件已存在，报错\n",
    "    - a append方式，以追加的方式对文件内容进行写入\n",
    "    - b binary方式，二进制方式写入\n",
    "    - t 文本方式打开\n",
    "    - + 可读写"
   ]
  },
  {
   "cell_type": "code",
   "execution_count": 3,
   "metadata": {},
   "outputs": [],
   "source": [
    "# 打开文件，用写的方式\n",
    "# r 表示湖面的字符串不需要转义\n",
    "# f陈文文件句柄\n",
    "f = open(r\"test01.txt\",\"w\")\n",
    "# 文件打开必须关闭\n",
    "f.close()\n",
    "# 以写入的方式打开文件，如果没有，则默认创建文件"
   ]
  },
  {
   "cell_type": "markdown",
   "metadata": {},
   "source": [
    "## with 语句\n",
    "- with语句使用的技术是一种称为上细纹管理协议的技术(ContextManagementProtocal)\n",
    "- 自动判断文件的作用域，自动关闭不在打开的文件句柄"
   ]
  },
  {
   "cell_type": "code",
   "execution_count": 4,
   "metadata": {},
   "outputs": [],
   "source": [
    "# with语句案例\n",
    "\n",
    "with open(r\"test01.txt\",\"r\") as f:\n",
    "    pass\n",
    "    # 下面的一句快开始对文件f进行操作\n",
    "    # 不在需要用colse模块关闭文件f"
   ]
  },
  {
   "cell_type": "code",
   "execution_count": 7,
   "metadata": {},
   "outputs": [
    {
     "name": "stdout",
     "output_type": "stream",
     "text": [
      "    人生不相见，动如参与商。\n",
      "\n",
      "　　今夕复何夕，共此灯烛光。\n",
      "\n",
      "　　少壮能几时，鬓发各已苍。\n",
      "\n",
      "　　访旧半为鬼，惊呼热中肠。\n",
      "\n",
      "　　焉知二十载，重上君子堂。\n",
      "\n",
      "　　昔别君未婚，儿女忽成行。\n",
      "\n",
      "　　怡然敬父执，问我来何方。\n",
      "\n",
      "　　问答乃未已，儿女罗酒浆。\n",
      "\n",
      "　　夜雨剪春韭，新炊间黄粱。\n",
      "\n",
      "　　主称会面难，一举累十觞。\n",
      "\n",
      "　　十觞亦不醉，感子故意长。\n",
      "\n",
      "　　明日隔山岳，世事两茫茫。\n"
     ]
    }
   ],
   "source": [
    "# with语句案例\n",
    "with open(r\"test01.txt\",\"r\") as f:\n",
    "    # 按行读取内容\n",
    "    strline = f.readline()\n",
    "    # 次结构能够完整保证读取文件的内容\n",
    "    while strline:\n",
    "        print(strline)\n",
    "        strline = f.readline()\n",
    "        "
   ]
  },
  {
   "cell_type": "code",
   "execution_count": 12,
   "metadata": {},
   "outputs": [
    {
     "name": "stdout",
     "output_type": "stream",
     "text": [
      "    人生不相见，动如参与商。\n",
      "\n",
      "　　今夕复何夕，共此灯烛光。\n",
      "\n",
      "　　少壮能几时，鬓发各已苍。\n",
      "\n",
      "　　访旧半为鬼，惊呼热中肠。\n",
      "\n",
      "　　焉知二十载，重上君子堂。\n",
      "\n",
      "　　昔别君未婚，儿女忽成行。\n",
      "\n",
      "　　怡然敬父执，问我来何方。\n",
      "\n",
      "　　问答乃未已，儿女罗酒浆。\n",
      "\n",
      "　　夜雨剪春韭，新炊间黄粱。\n",
      "\n",
      "　　主称会面难，一举累十觞。\n",
      "\n",
      "　　十觞亦不醉，感子故意长。\n",
      "\n",
      "　　明日隔山岳，世事两茫茫。\n"
     ]
    }
   ],
   "source": [
    "# list能用打开的文件作为参数把文件一行内容作为一个元素\n",
    "with open(r\"test01.txt\",\"r\") as f:\n",
    "    n = 1\n",
    "    l = list(f)\n",
    "    for i in l:\n",
    "        print(i)"
   ]
  },
  {
   "cell_type": "code",
   "execution_count": 19,
   "metadata": {},
   "outputs": [
    {
     "name": "stdout",
     "output_type": "stream",
     "text": [
      "16\n",
      "    人生不相见，动如参与商。\n"
     ]
    }
   ],
   "source": [
    "# read是按字符读取文件内容\n",
    "# 允许输入参数决定读取几个字符，如果没有指定\n",
    "# 从当前位置开始\n",
    "with open(r\"test01.txt\",\"r\") as f:\n",
    "    strchar = f.read(16)\n",
    "    print(len(strchar))\n",
    "    print(strchar)\n",
    "    \n",
    "# 以read读取元素每次读取一个，使用循环读完\n",
    "# 精良保持格式"
   ]
  },
  {
   "cell_type": "code",
   "execution_count": null,
   "metadata": {},
   "outputs": [],
   "source": [
    "import time\n",
    "with open(r\"test01.txt\",\"r\") as f:\n",
    "    strchar = f.read(1)\n",
    "    while strchar:\n",
    "        strchar = f.read(1)\n",
    "        time.sleep(0.5)\n",
    "        print(strchar,end=\" \")"
   ]
  },
  {
   "cell_type": "markdown",
   "metadata": {},
   "source": [
    "# seek (offset,from)\n",
    "- 移动文件的读取文章，也叫读取指针\n",
    "- form叫做取值范围\n",
    "    - 0：从文件开头开始偏移\n",
    "    - 1：从文件当前位置开始偏移\n",
    "    - 2: 从文件末尾开始偏移\n",
    "- 移动的安慰是基于（byte）\n",
    "- 一个汉字由若干个字节组成\n",
    "- 返回文件只针对当前位置"
   ]
  },
  {
   "cell_type": "code",
   "execution_count": null,
   "metadata": {},
   "outputs": [],
   "source": [
    "# seek案例\n",
    "# 打开文件夹后，从第五个字节开始读取\n",
    "\n",
    "# 打开读写指针在零处，即文件夹揩油\n",
    "with open (r\"test01.txt\",\"r\") as f:\n",
    "    # seek的移动单位是字节\n",
    "    f.seek(4,0)\n",
    "    strchar = f.read()\n",
    "    print(strchar)"
   ]
  },
  {
   "cell_type": "code",
   "execution_count": 8,
   "metadata": {},
   "outputs": [
    {
     "name": "stdout",
     "output_type": "stream",
     "text": [
      " 人生 不相见 ，动如 参与商 。\n",
      "　 　今夕 复何夕 ，共此 灯烛光 。\n",
      "　 　少壮 能几时 ，鬓发 各已苍 。\n",
      "　 　访旧 半为鬼 ，惊呼 热中肠 。\n",
      "　 　焉知 二十载 ，重上 君子堂 。\n",
      "　 　昔别 君未婚 ，儿女 忽成行 。\n",
      "　 　怡然 敬父执 ，问我 来何方 。\n",
      "　 　问答 乃未已 ，儿女 罗酒浆 。\n",
      "　 　夜雨 剪春韭 ，新炊 间黄粱 。\n",
      "　 　主称 会面难 ，一举 累十觞 。\n",
      "　 　十觞 亦不醉 ，感子 故意长 。\n",
      "　 　明日 隔山岳 ，世事 两茫茫 。  "
     ]
    }
   ],
   "source": [
    "# 关于读取文件的联系\n",
    "# 打开文件，三个字符一组读取出来，然后显示在屏幕上\n",
    "# 梅读一次休息一秒钟\n",
    "import time\n",
    "with open(r\"test01.txt\",\"r\") as f:\n",
    "    strchar = f.read(3)\n",
    "    while strchar:\n",
    "        strchar = f.read(3)\n",
    "        time.sleep(0.5)\n",
    "        print(strchar,end=\" \")"
   ]
  },
  {
   "cell_type": "code",
   "execution_count": 5,
   "metadata": {},
   "outputs": [
    {
     "name": "stdout",
     "output_type": "stream",
     "text": [
      "8\n",
      " 人生 14\n",
      "不相见 20\n",
      "，动如 26\n",
      "参与商 32\n",
      "。\n",
      "　 38\n",
      "　今夕 44\n",
      "复何夕 50\n",
      "，共此 56\n",
      "灯烛光 62\n",
      "。\n",
      "　 68\n",
      "　少壮 74\n",
      "能几时 80\n",
      "，鬓发 86\n",
      "各已苍 93\n",
      "。\n",
      "　 99\n",
      "　访旧 105\n",
      "半为鬼 111\n",
      "，惊呼 117\n",
      "热中肠 123\n",
      "。\n",
      "　 129\n",
      "　焉知 135\n",
      "二十载 141\n",
      "，重上 147\n",
      "君子堂 153\n",
      "。\n",
      "　 159\n",
      "　昔别 165\n",
      "君未婚 171\n",
      "，儿女 177\n",
      "忽成行 183\n",
      "。\n",
      "　 189\n",
      "　怡然 195\n",
      "敬父执 201\n",
      "，问我 207\n",
      "来何方 213\n",
      "。\n",
      "　 219\n",
      "　问答 225\n",
      "乃未已 231\n",
      "，儿女 237\n",
      "罗酒浆 243\n",
      "。\n",
      "　 249\n",
      "　夜雨 255\n",
      "剪春韭 261\n",
      "，新炊 267\n",
      "间黄粱 272\n",
      "。\n",
      "　 278\n",
      "　主称 284\n",
      "会面难 290\n",
      "，一举 296\n",
      "累十觞 302\n",
      "。\n",
      "　 308\n",
      "　十觞 314\n",
      "亦不醉 320\n",
      "，感子 326\n",
      "故意长 332\n",
      "。\n",
      "　 338\n",
      "　明日 344\n",
      "隔山岳 350\n",
      "，世事 356\n",
      "两茫茫 358\n",
      "。 358\n",
      " "
     ]
    }
   ],
   "source": [
    "# tell函数 用来显示文件读写指针的当前函数\n",
    "import time\n",
    "with open(r'test01.txt', 'r') as f:\n",
    "    strChar = f.read(3)\n",
    "    pos = f.tell()\n",
    "    \n",
    "    while strChar:\n",
    "        strChar = f.read(3)\n",
    "        pos = f.tell()\n",
    "        time.sleep(0.5)\n",
    "        print(pos)\n",
    "        print(strChar,end = \" \")\n",
    "# 以下结果说明：\n",
    "# tell的返回数字的单位是byte\n",
    "# read是以字符为单位"
   ]
  },
  {
   "cell_type": "markdown",
   "metadata": {},
   "source": [
    "# 文件的写操作\n",
    "- write(str),把字符串写入文件\n",
    "- writeline(str),把字符串按行写入文件\n",
    "- 区别\n",
    "    - write函数参数智能是字符串\n",
    "    - writeline的参数可以使字符串，也可以是字符序列"
   ]
  },
  {
   "cell_type": "code",
   "execution_count": null,
   "metadata": {},
   "outputs": [],
   "source": []
  }
 ],
 "metadata": {
  "kernelspec": {
   "display_name": "Python 3",
   "language": "python",
   "name": "python3"
  }
 },
 "nbformat": 4,
 "nbformat_minor": 2
}

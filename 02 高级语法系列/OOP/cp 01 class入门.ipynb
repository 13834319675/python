{
 "cells": [
  {
   "cell_type": "code",
   "execution_count": 14,
   "metadata": {},
   "outputs": [
    {
     "name": "stdout",
     "output_type": "stream",
     "text": [
      "None\n",
      "18\n",
      "i 在做作业\n"
     ]
    }
   ],
   "source": [
    "'''\n",
    "定义一个学生类，用来形容学生\n",
    "\n",
    "'''\n",
    "# 定义一个空的类\n",
    "class Student():\n",
    "    # 一个空类 pass代表直接路过\n",
    "    # 此处pass必须有\n",
    "    pass\n",
    "# 定义一个对象\n",
    "xiaowang = Student\n",
    "# 再来定义一个类，用来描述雪python的学生\n",
    "class PythonStdent():\n",
    "    # None 给不确定的值赋值\n",
    "    name = None\n",
    "    age = 18\n",
    "    course = \"Python\"\n",
    "    \n",
    "    # 需要注意\n",
    "    # 1、 def doHomework的缩进层级\n",
    "    # 2、 系统默认出一个self函数\n",
    "    def doHomework(self):\n",
    "        print(\"i 在做作业\")\n",
    "        \n",
    "        # 推介在函数末尾加return语句\n",
    "        return None\n",
    "    \n",
    "# 实例化一个叫yueyue的学生，是一个具体的人\n",
    "yueyue = PythonStdent()\n",
    "print(yueyue.name)\n",
    "print(yueyue.age)\n",
    "# 注意成员函数的调用没有传递进入参数\n",
    "yueyue.doHomework()\n",
    "\n",
    "        "
   ]
  }
 ],
 "metadata": {
  "kernelspec": {
   "display_name": "Python 3",
   "language": "python",
   "name": "python3"
  },
  "language_info": {
   "codemirror_mode": {
    "name": "ipython",
    "version": 3
   },
   "file_extension": ".py",
   "mimetype": "text/x-python",
   "name": "python",
   "nbconvert_exporter": "python",
   "pygments_lexer": "ipython3",
   "version": "3.6.5"
  }
 },
 "nbformat": 4,
 "nbformat_minor": 2
}

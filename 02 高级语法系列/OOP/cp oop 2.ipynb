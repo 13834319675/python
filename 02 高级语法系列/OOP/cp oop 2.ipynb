{
 "cells": [
  {
   "cell_type": "code",
   "execution_count": 27,
   "metadata": {
    "scrolled": true
   },
   "outputs": [
    {
     "name": "stdout",
     "output_type": "stream",
     "text": [
      "laowang\n",
      "20\n",
      "small\n",
      "i an sleep\n",
      "9527\n",
      "attention\n",
      "{'Teacher_id': '9527'}\n",
      "{'__module__': '__main__', 'teacher_id': '6666', 'make_test': <function Teacher.make_test at 0x000001B7941D32F0>, '__doc__': None}\n"
     ]
    }
   ],
   "source": [
    "# 继承的语法\n",
    "# 在python中，任何类都有一个共同的父类objec\n",
    "\n",
    "class Person():\n",
    "    name = \"laowang\"\n",
    "    age = 20\n",
    "    __score = 0 #考试成绩是秘密这有自己知道\n",
    "    _petname = \"small\" #x小名。保护的子类可以用，但不能共用\n",
    "    def sleep(self):\n",
    "        print(\"i an sleep\")\n",
    "        \n",
    "# 父类写在括号内\n",
    "class Tecaher(Person):\n",
    "    Teacher_id = \"9527\"\n",
    "    def make_test(self):\n",
    "        print(\"attention\")\n",
    "        \n",
    "t= Tecaher()\n",
    "\n",
    "print(t.name)\n",
    "print(t.age)\n",
    "# 受保护的不能外部访问？为啥这里可以\n",
    "print(t._petname)\n",
    "\n",
    "# 私有访问问题\n",
    "# 公开访问私有变量，报错\n",
    "# print(\"t.__score\")\n",
    "\n",
    "t.sleep()\n",
    "print(t.Teacher_id)\n",
    "t.make_test()\n",
    "t.Teacher_id = \"9527\"\n",
    "print(t.__dict__)\n",
    "print(Teacher.__dict__)"
   ]
  },
  {
   "cell_type": "code",
   "execution_count": 30,
   "metadata": {},
   "outputs": [
    {
     "name": "stdout",
     "output_type": "stream",
     "text": [
      "laowang\n"
     ]
    }
   ],
   "source": [
    "# 子类父类同一个名称变量，则优先使用子类本身\n",
    "class Person():\n",
    "    name = \"meinv\"\n",
    "    age = 18\n",
    "    __score = 0\n",
    "    _petname = \"see\"\n",
    "    def  sleep(self):\n",
    "        print(\"i an sleeping\")\n",
    "        \n",
    "class Tracher():\n",
    "    Teacher_id = \"9588\"\n",
    "    name = \"wangwang\"\n",
    "    def make_test(self):\n",
    "        print(\"attertion\")\n",
    "t = Teacher()\n",
    "print(t.name)"
   ]
  },
  {
   "cell_type": "code",
   "execution_count": 37,
   "metadata": {},
   "outputs": [
    {
     "name": "stdout",
     "output_type": "stream",
     "text": [
      "make sone money\n",
      "attention\n"
     ]
    }
   ],
   "source": [
    "# 子类扩充父类功能的案例\n",
    "class Person():\n",
    "    name = \"meili\"\n",
    "    age = 50\n",
    "    __score = 0\n",
    "    _petname = \"small\"\n",
    "    \n",
    "    def sleep(self):\n",
    "        print(\"sleeping\")\n",
    "    def work(self):\n",
    "        print(\"make sone money\")\n",
    "        \n",
    "class Teacher(Person):\n",
    "    teacher_id = \"9527\"\n",
    "    name = \"cp\"\n",
    "    def make_test(self):\n",
    "        print(\"attention\")\n",
    "    \n",
    "    def work(self):\n",
    "        # 扩充父类的功能只需要调用父类相应的函数\n",
    "        # Person.work(self)\n",
    "        # 扩充父类的另一种方法\n",
    "        # supper代表得到父类\n",
    "        super().work()\n",
    "        self.make_test()\n",
    "        \n",
    "t = Teacher()\n",
    "t.work()"
   ]
  },
  {
   "cell_type": "code",
   "execution_count": 38,
   "metadata": {},
   "outputs": [
    {
     "name": "stdout",
     "output_type": "stream",
     "text": [
      "i an init is dag\n"
     ]
    }
   ],
   "source": [
    "# 构造函数的概念\n",
    "\n",
    "class Dog():\n",
    "    # __init__、就是构造函数\n",
    "    #每次实例化的时候，第一个被自动调用\n",
    "    #因为主要工作是进行初始化，所以得名\n",
    "    def __init__(self):\n",
    "        print(\"i an init is dag\")\n",
    "        \n",
    "# 实例化的时候，括号内的参数需要跟构造函数参数匹配\n",
    "xiaom = Dog()\n"
   ]
  },
  {
   "cell_type": "code",
   "execution_count": 40,
   "metadata": {},
   "outputs": [
    {
     "name": "stdout",
     "output_type": "stream",
     "text": [
      "i an init is dog\n"
     ]
    }
   ],
   "source": [
    "# 继承中的构造函数\n",
    "\n",
    "class Animel():\n",
    "    pass\n",
    "class PaxingAni(Animel):\n",
    "    pass\n",
    "class Dog(PaxingAni):\n",
    "    # __init__就是构造函数\n",
    "    # 每次实例化的时候，第一个被自动调用\n",
    "    # 因为主要工作是初始化，所以得名\n",
    "    def __init__(self):\n",
    "        print(\"i an init is dog\")\n",
    "        \n",
    "yueyue = Dog()\n"
   ]
  },
  {
   "cell_type": "code",
   "execution_count": 42,
   "metadata": {},
   "outputs": [
    {
     "name": "stdout",
     "output_type": "stream",
     "text": [
      "i an init is dog\n",
      "B\n"
     ]
    }
   ],
   "source": [
    "# 继承中的构造函数 2\n",
    "class A():\n",
    "    def __init__():\n",
    "        print(\"A\")\n",
    "        \n",
    "class B(A):\n",
    "    def __init__(self):\n",
    "        print(\"B\")\n",
    "\n",
    "class Dog(B):\n",
    "    def __init__(self):\n",
    "        print(\"i an init is dog\")\n",
    "        \n",
    "# 实例化的时候，自动调用了D欧冠的构造函数\n",
    "# 因为找到了构造函数，则不再查找父类的构造函数\n",
    "laowang = Dog()\n",
    "\n",
    "# 没有写构造函数\n",
    "class C(B):\n",
    "    pass\n",
    "# 此时婴孩自动调用构造函数，因为C没有构造函数，所以查找父类的够着函数\n",
    "# 在B中找到父类函数，则停止查找\n",
    "c = C()\n",
    "        \n",
    "        "
   ]
  },
  {
   "cell_type": "code",
   "execution_count": 46,
   "metadata": {},
   "outputs": [
    {
     "name": "stdout",
     "output_type": "stream",
     "text": [
      "i an init is dog\n",
      "我是B的构造函数bbbb\n"
     ]
    }
   ],
   "source": [
    "# 继承中的构造函数 3\n",
    "\n",
    "class A():\n",
    "    def __init__(self):\n",
    "        print(\"A\")\n",
    "        \n",
    "class B(A):\n",
    "    def __init__(self,name):\n",
    "        print(\"我是B的构造函数{0}\".format(name))\n",
    "        \n",
    "class Dog(B):\n",
    "    def __init__(self):\n",
    "        print(\"i an init is dog\")\n",
    "        \n",
    "# 、实例化dog，查找dog的构造函数，参数撇配，不报错\n",
    "d = Dog()\n",
    "class C(B):\n",
    "    pass\n",
    "c = C(\"bbbb\")\n"
   ]
  },
  {
   "cell_type": "code",
   "execution_count": 48,
   "metadata": {},
   "outputs": [
    {
     "name": "stdout",
     "output_type": "stream",
     "text": [
      "不定义，则找父类，显示的是我\n"
     ]
    }
   ],
   "source": [
    "# 继承中的构造函数 4\n",
    "class A():\n",
    "    def __init__(self):\n",
    "        print(\"不定义，则找父类，显示的是我\")\n",
    "class B(A):\n",
    "    pass\n",
    "class C(B):\n",
    "    pass\n",
    "\n",
    "c = C()"
   ]
  },
  {
   "cell_type": "code",
   "execution_count": 50,
   "metadata": {
    "scrolled": true
   },
   "outputs": [
    {
     "name": "stdout",
     "output_type": "stream",
     "text": [
      "<class 'type'>\n",
      "Help on class super in module builtins:\n",
      "\n",
      "class super(object)\n",
      " |  super() -> same as super(__class__, <first argument>)\n",
      " |  super(type) -> unbound super object\n",
      " |  super(type, obj) -> bound super object; requires isinstance(obj, type)\n",
      " |  super(type, type2) -> bound super object; requires issubclass(type2, type)\n",
      " |  Typical use to call a cooperative superclass method:\n",
      " |  class C(B):\n",
      " |      def meth(self, arg):\n",
      " |          super().meth(arg)\n",
      " |  This works for class methods too:\n",
      " |  class C(B):\n",
      " |      @classmethod\n",
      " |      def cmeth(cls, arg):\n",
      " |          super().cmeth(arg)\n",
      " |  \n",
      " |  Methods defined here:\n",
      " |  \n",
      " |  __get__(self, instance, owner, /)\n",
      " |      Return an attribute of instance, which is of type owner.\n",
      " |  \n",
      " |  __getattribute__(self, name, /)\n",
      " |      Return getattr(self, name).\n",
      " |  \n",
      " |  __init__(self, /, *args, **kwargs)\n",
      " |      Initialize self.  See help(type(self)) for accurate signature.\n",
      " |  \n",
      " |  __new__(*args, **kwargs) from builtins.type\n",
      " |      Create and return a new object.  See help(type) for accurate signature.\n",
      " |  \n",
      " |  __repr__(self, /)\n",
      " |      Return repr(self).\n",
      " |  \n",
      " |  ----------------------------------------------------------------------\n",
      " |  Data descriptors defined here:\n",
      " |  \n",
      " |  __self__\n",
      " |      the instance invoking super(); may be None\n",
      " |  \n",
      " |  __self_class__\n",
      " |      the type of the instance invoking super(); may be None\n",
      " |  \n",
      " |  __thisclass__\n",
      " |      the class invoking super()\n",
      "\n"
     ]
    }
   ],
   "source": [
    "print(type(super))\n",
    "help(super)"
   ]
  },
  {
   "cell_type": "code",
   "execution_count": null,
   "metadata": {},
   "outputs": [],
   "source": []
  }
 ],
 "metadata": {
  "kernelspec": {
   "display_name": "Python 3",
   "language": "python",
   "name": "python3"
  },
  "language_info": {
   "codemirror_mode": {
    "name": "ipython",
    "version": 3
   },
   "file_extension": ".py",
   "mimetype": "text/x-python",
   "name": "python",
   "nbconvert_exporter": "python",
   "pygments_lexer": "ipython3",
   "version": "3.6.5"
  }
 },
 "nbformat": 4,
 "nbformat_minor": 2
}

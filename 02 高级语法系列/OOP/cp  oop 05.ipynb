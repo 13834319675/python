{
 "cells": [
  {
   "cell_type": "code",
   "execution_count": null,
   "metadata": {},
   "outputs": [],
   "source": []
  },
  {
   "cell_type": "code",
   "execution_count": 10,
   "metadata": {},
   "outputs": [
    {
     "name": "stdout",
     "output_type": "stream",
     "text": [
      "chenpeng\n",
      "25\n"
     ]
    }
   ],
   "source": [
    "# 变量的三种用法\n",
    "class A():\n",
    "    def __init__(self):\n",
    "        self.name=\"xiaoming\"\n",
    "        self.age=18\n",
    "a = A()\n",
    "# 属性的三种用用法\n",
    "# 1、赋值\n",
    "# 2、读取\n",
    "# 3、删除\n",
    "a.name= \"chenpeng\"\n",
    "print(a.name)\n",
    "a.age = 25\n",
    "print(a.age)\n",
    "del a.name\n",
    "#print(a.name)\n"
   ]
  },
  {
   "cell_type": "code",
   "execution_count": 43,
   "metadata": {},
   "outputs": [
    {
     "name": "stdout",
     "output_type": "stream",
     "text": [
      "haha\n",
      "我被读取了\n",
      "haha\n"
     ]
    }
   ],
   "source": [
    "# 类属性property\n",
    "# 应用场景\n",
    "# 对变量除了普通操作，还想增加哪一些附加操作\n",
    "class A():\n",
    "    def __init__(self):\n",
    "        self.name = \"haha\"\n",
    "        self.age = 26\n",
    "        \n",
    "    # 此功能是对类变量进行读取操作时候执行的\n",
    "    def fget(self):\n",
    "        print(\"我被读取了\")\n",
    "        return self.name\n",
    "    # 此功能是对变量进行写操作的时候执行的功能\n",
    "    def fset(self,name):\n",
    "        print(\"我被写入了，但是还可以做汗多事情\")\n",
    "        self.name = name +\"少年你好\"\n",
    "    # 此功能是删除变量的时候执行\n",
    "    def fdel(self):\n",
    "        pass\n",
    "    name1 = property(fget,fset,fdel,\"这是一个property的例子\")\n",
    "    \n",
    "a = A()\n",
    "a.neme=\"laowang\"\n",
    "print(a.name)\n",
    "print(a.name1)"
   ]
  },
  {
   "cell_type": "code",
   "execution_count": 12,
   "metadata": {},
   "outputs": [
    {
     "data": {
      "text/plain": [
       "5"
      ]
     },
     "execution_count": 12,
     "metadata": {},
     "output_type": "execute_result"
    }
   ],
   "source": [
    "3+2"
   ]
  },
  {
   "cell_type": "code",
   "execution_count": 36,
   "metadata": {},
   "outputs": [
    {
     "name": "stdout",
     "output_type": "stream",
     "text": [
      "问一下对方\n",
      "kiss me\n"
     ]
    }
   ],
   "source": [
    "# 抽象\n",
    "\n",
    "class Animel():\n",
    "    def sayhello(self):\n",
    "        print(\"问一下对方\")\n",
    "    \n",
    "class Dog(Animel):\n",
    "    pass\n",
    "\n",
    "class Person(Animel):\n",
    "    def sayhello(self):\n",
    "        print(\"kiss me\")\n",
    "        \n",
    "d = Dog()\n",
    "d.sayhello()\n",
    "p = Person()\n",
    "p.sayhello()"
   ]
  },
  {
   "cell_type": "code",
   "execution_count": 46,
   "metadata": {},
   "outputs": [],
   "source": [
    "# 抽象类的实现\n",
    "import abc\n",
    "\n",
    "# 声明一个类并指定当前类的元素\n",
    "class Human(metaclass=abc.ABCMeta):\n",
    "    # 定义一个抽象类的方法\n",
    "    @abc.abstractmethod\n",
    "    def smiking(self):\n",
    "        pass\n",
    "    \n",
    "    # 定义类的抽象方法\n",
    "    @abc.abstractclassmethod\n",
    "    def drink():\n",
    "        pass\n",
    "    # 定义静态抽象方法\n",
    "    @abc.abstractstaticmethod\n",
    "    def play():\n",
    "        pass\n",
    "    def sleep(self):\n",
    "        print(\"sleeping,,,\")\n",
    "        \n"
   ]
  },
  {
   "cell_type": "code",
   "execution_count": 47,
   "metadata": {},
   "outputs": [
    {
     "name": "stdout",
     "output_type": "stream",
     "text": [
      "yueyue你好\n",
      "laowang你好\n"
     ]
    }
   ],
   "source": [
    "# 函数名可以当变量使用\n",
    "\n",
    "def sayhello(name):\n",
    "    print(\"{0}你好\".format(name))\n",
    "    \n",
    "sayhello(\"yueyue\")\n",
    "chenpeng = sayhello\n",
    "chenpeng(\"laowang\")\n"
   ]
  },
  {
   "cell_type": "code",
   "execution_count": 57,
   "metadata": {},
   "outputs": [
    {
     "name": "stdout",
     "output_type": "stream",
     "text": [
      "say,,,\n",
      "say,,,\n",
      "saying,,,\n"
     ]
    }
   ],
   "source": [
    "# 自己组装一个类\n",
    "class A():\n",
    "    pass\n",
    "    \n",
    "def say(self):\n",
    "    print(\"say,,,\")\n",
    "    \n",
    "class B():\n",
    "    def say(self):\n",
    "        print(\"saying,,,\")\n",
    "        \n",
    "say(9)\n",
    "A.say=say\n",
    "\n",
    "a = A()\n",
    "a.say()\n",
    "b = B()\n",
    "b.say()"
   ]
  },
  {
   "cell_type": "code",
   "execution_count": 60,
   "metadata": {},
   "outputs": [
    {
     "name": "stdout",
     "output_type": "stream",
     "text": [
      "saying\n"
     ]
    }
   ],
   "source": [
    "# 组装例子\n",
    "from types import MethodType\n",
    "\n",
    "class A():\n",
    "    pass\n",
    "def say(self):\n",
    "    \n",
    "    print(\"saying\")\n",
    "    \n",
    "a = A()\n",
    "a.say = MethodType(say,A)\n",
    "a.say()"
   ]
  },
  {
   "cell_type": "code",
   "execution_count": 62,
   "metadata": {},
   "outputs": [
    {
     "data": {
      "text/plain": [
       "int"
      ]
     },
     "execution_count": 62,
     "metadata": {},
     "output_type": "execute_result"
    }
   ],
   "source": [
    "type(5)"
   ]
  },
  {
   "cell_type": "code",
   "execution_count": 71,
   "metadata": {},
   "outputs": [
    {
     "name": "stdout",
     "output_type": "stream",
     "text": [
      "sating,,,\n",
      "talking,,,\n",
      "Aname\n",
      "{'class_say': <function say at 0x000001A26AB5F620>, 'class_talk': <function talk at 0x000001A26AB5F840>, '__module__': '__main__', '__dict__': <attribute '__dict__' of 'Aname' objects>, '__weakref__': <attribute '__weakref__' of 'Aname' objects>, '__doc__': None}\n",
      "{'class_say': ' love say'}\n"
     ]
    }
   ],
   "source": [
    "# 利用type造一个类\n",
    "# 先定义类应该具有的成员函数\n",
    "def say(self):\n",
    "    print(\"sating,,,\")\n",
    "\n",
    "def talk(self):\n",
    "    print(\"talking,,,\")\n",
    "A = type(\"Aname\",(object,),{\"class_say\":say,\"class_talk\":talk})\n",
    "a = A() \n",
    "a.class_say()\n",
    "a.class_talk()\n",
    "a.class_say = \" love say\"\n",
    "print(A.__name__)\n",
    "print(A.__dict__)\n",
    "print(a.__dict__)"
   ]
  },
  {
   "cell_type": "code",
   "execution_count": 79,
   "metadata": {},
   "outputs": [
    {
     "name": "stdout",
     "output_type": "stream",
     "text": [
      "哈哈，我是元类呀\n"
     ]
    },
    {
     "data": {
      "text/plain": [
       "'000000'"
      ]
     },
     "execution_count": 79,
     "metadata": {},
     "output_type": "execute_result"
    }
   ],
   "source": [
    "# 元类演示\n",
    "# 元类写法是固定的必须要继承type\n",
    "class MyNameclass(type):\n",
    "    def __new__(cls,name,bases,attrs):\n",
    "        print(\"哈哈，我是元类呀\")\n",
    "        attrs['id'] = '000000'\n",
    "        attrs['addr'] = \"山西晋城\"\n",
    "        return type.__new__(cls, name, bases, attrs)\n",
    "# 元类定义完成，可以使用\n",
    "class Teacher(object, metaclass=TulingMetaClass):\n",
    "    pass\n",
    "\n",
    "t = Teacher()\n",
    "t.id\n",
    "\n",
    "\n",
    "    "
   ]
  },
  {
   "cell_type": "code",
   "execution_count": null,
   "metadata": {},
   "outputs": [],
   "source": []
  },
  {
   "cell_type": "code",
   "execution_count": null,
   "metadata": {},
   "outputs": [],
   "source": []
  }
 ],
 "metadata": {
  "kernelspec": {
   "display_name": "Python 3",
   "language": "python",
   "name": "python3"
  },
  "language_info": {
   "codemirror_mode": {
    "name": "ipython",
    "version": 3
   },
   "file_extension": ".py",
   "mimetype": "text/x-python",
   "name": "python",
   "nbconvert_exporter": "python",
   "pygments_lexer": "ipython3",
   "version": "3.6.5"
  }
 },
 "nbformat": 4,
 "nbformat_minor": 2
}

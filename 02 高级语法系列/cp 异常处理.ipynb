{
 "cells": [
  {
   "cell_type": "markdown",
   "metadata": {},
   "source": [
    "# 异常\n",
    "- 广义上的错误分为错误和异常\n",
    "- 错误值得是可以人为避免\n",
    "- 异常指的是语法逻辑正确的情况下，出现的问题\n",
    "- 在python中，异常是一个类，可以处理和使用"
   ]
  },
  {
   "cell_type": "markdown",
   "metadata": {},
   "source": [
    "# 异常的分类\n",
    "    \n",
    "    AssertError 断言语句（assert）失败\n",
    "    AttributeError 尝试访问未知的对象属性\n",
    "    EOFError 用户输入文件末尾标志EOF（Ctrl+d）\n",
    "    FloatingPointError 浮点计算错误\n",
    "    GeneratorExit generator.close()方法被调用的时候\n",
    "    ImportError 导入模块失败的时候\n",
    "    IndexError 索引超出序列的范围\n",
    "    KeyError 字典中查找一个不存在的关键字\n",
    "    KeyboardInterrupt 用户输入中断键（Ctrl+c）\n",
    "    MemoryError 内存溢出（可通过删除对象释放内存）\n",
    "    NameError 尝试访问一个不存在的变量\n",
    "    NotImplementedError 尚未实现的方法\n",
    "    OSError 操作系统产生的异常（例如打开一个不存在的文件）\n",
    "    OverflowError 数值运算超出最大限制\n",
    "    ReferenceError 弱引用（weak reference）试图访问一个已经被垃圾回收机制回收了的对象\n",
    "    RuntimeError 一般的运行时错误\n",
    "    StopIteration 迭代器没有更多的值\n",
    "    SyntaxError Python的语法错误\n",
    "    IndentationError 缩进错误\n",
    "    TabError Tab和空格混合使用\n",
    "    SystemError Python编译器系统错误\n",
    "    SystemExit Python编译器进程被关闭\n",
    "    TypeError 不同类型间的无效操作\n",
    "    UnboundLocalError 访问一个未初始化的本地变量（NameError的子类）\n",
    "    UnicodeError Unicode相关的错误（ValueError的子类）\n",
    "    UnicodeEncodeError Unicode编码时的错误（UnicodeError的子类）\n",
    "    UnicodeDecodeError Unicode解码时的错误（UnicodeError的子类）\n",
    "    UnicodeTranslateError Unicode转换时的错误（UnicodeError的子类）\n",
    "    ValueError 传入无效的参数\n",
    "    ZeroDivisionError 除数为零"
   ]
  },
  {
   "cell_type": "code",
   "execution_count": null,
   "metadata": {},
   "outputs": [],
   "source": [
    "l = [1,2,34,5,6,7,8,9,10]\n",
    "num = int(input('请输入一个非零的数字：'))\n",
    "print(100/num)\n"
   ]
  },
  {
   "cell_type": "markdown",
   "metadata": {},
   "source": [
    "# 异常处理\n",
    "- 不能保证程序永远正常\n",
    "- 但是，必须保证程序在最坏的情况下问题得到妥善的处理\n",
    "- python的异常处理模块全部的语法为\n",
    "\n",
    "      try:\n",
    "          尝试实现某个操作，\n",
    "          如果没出现异常，任务就可以完成\n",
    "          如果出现异常，将异常从当前代码块扔出去尝试解决异常\n",
    "\n",
    "      except 异常类型1:\n",
    "          解决方案1：用于尝试在此处处理异常解决问题\n",
    "\n",
    "      except 异常类型2：\n",
    "          解决方案2：用于尝试在此处处理异常解决问题\n",
    "\n",
    "      except (异常类型1,异常类型2...)\n",
    "          解决方案：针对多个异常使用相同的处理方式\n",
    "\n",
    "      excpet:\n",
    "          解决方案：所有异常的解决方案\n",
    "\n",
    "      else:\n",
    "          如果没有出现任何异常，将会执行此处代码\n",
    "\n",
    "      finally:\n",
    "          管你有没有异常都要执行的代码\n",
    "          \n",
    "- 流程\n",
    "    - 1、执行try下面的语句\n",
    "    - 如果出现异常，则except语句里面寻找异常进行处理\n",
    "    - 如果没有出现异常，则执行else语句模块\n",
    "    - 最后不管是否出现异常，都执行finally语句   \n",
    "- 除except语句除外，else和finally可选\n"
   ]
  },
  {
   "cell_type": "code",
   "execution_count": 2,
   "metadata": {},
   "outputs": [
    {
     "name": "stdout",
     "output_type": "stream",
     "text": [
      "Plz input your number:0\n",
      "你特娘的输入的啥玩意儿\n"
     ]
    }
   ],
   "source": [
    "try:\n",
    "    num = int(input(\"Plz input your number:\"))\n",
    "    rst = 100/num\n",
    "    print(\"计算结果是： {0}\".format(rst))\n",
    "except:\n",
    "    print(\"你特娘的输入的啥玩意儿\")\n",
    "    # exit是退出程序的意思\n",
    "    exit()  "
   ]
  },
  {
   "cell_type": "code",
   "execution_count": 1,
   "metadata": {},
   "outputs": [
    {
     "name": "stdout",
     "output_type": "stream",
     "text": [
      "Plz input your number:0\n",
      "你特娘的输入的啥玩意儿\n",
      "division by zero\n"
     ]
    }
   ],
   "source": [
    "# 简单异常案例\n",
    "# 给出提示信息\n",
    "try:\n",
    "    num = int(input(\"Plz input your number:\"))\n",
    "    rst = 100/num\n",
    "    print(\"计算结果是： {0}\".format(rst))\n",
    "except ZeroDivisionError as e:\n",
    "    print(\"你特娘的输入的啥玩意儿\")\n",
    "    print(e)\n",
    "    # exit是退出程序的意思\n",
    "    exit()\n",
    "    "
   ]
  },
  {
   "cell_type": "code",
   "execution_count": 17,
   "metadata": {},
   "outputs": [
    {
     "name": "stdout",
     "output_type": "stream",
     "text": [
      "Plz input your number:e\n",
      "我也不知道就出错了\n",
      "invalid literal for int() with base 10: 'e'\n",
      "hahahhaahh\n"
     ]
    }
   ],
   "source": [
    "# 简单异常案例\n",
    "# 给出提示信息\n",
    "try:\n",
    "    num = int(input('Plz input your number:'))\n",
    "    rst = 100/num\n",
    "    print('计算结果是：{0}'.format(rst))\n",
    "    \n",
    "    # 如果是多种erro的情况\n",
    "    # 需要把越具体的错误，越往前放\n",
    "    # 在异常类的继承院系中，越是子类异常，越往前方\n",
    "    # 越是父类异常，越往后方\n",
    "    \n",
    "    # 在处理异常的时候，一旦拦截到某个异常，则不再执行后续异常\n",
    "    # 代码 即有finally则执行finally邮局，否则就执行下一个大的一句快\n",
    "except ZeroDivisionError as e:\n",
    "    print(\"你特娘的输入的啥玩意儿\")\n",
    "    print(e)\n",
    "    # exit是退出程序的意思\n",
    "    exit()\n",
    "except NameError as e:\n",
    "    print(\"名字起错了\")\n",
    "    print(e)\n",
    "\n",
    "except AttributeError as e:\n",
    "    print(\"好像属性有问题\")\n",
    "    print(e)\n",
    "    exit()\n",
    "    \n",
    "# 所有异常都是继承自Exception\n",
    "# 如果写上下面这句话，任何异常都会拦截住\n",
    "# 而且，下面这句话一定是最后一个exception\n",
    "except Exception as e:\n",
    "    print(\"我也不知道就出错了\")\n",
    "    print(e)\n",
    "    \n",
    "except ValueError as e:\n",
    "    print(\"NO>>>>>>>>>>>>>>>>>>\")\n",
    "    \n",
    "    \n",
    "print(\"hahahhaahh\")"
   ]
  },
  {
   "cell_type": "markdown",
   "metadata": {},
   "source": [
    "# 用户手动引发异常\n",
    "- 档某些情况，用户希望手动引发一些异常，可以使用\n",
    "- raise 关键字引发异常"
   ]
  },
  {
   "cell_type": "code",
   "execution_count": 1,
   "metadata": {},
   "outputs": [
    {
     "name": "stdout",
     "output_type": "stream",
     "text": [
      "i love china\n",
      "3.141592653\n",
      "ValueError\n",
      "我肯定会被执行的\n"
     ]
    }
   ],
   "source": [
    "# raise 案例1\n",
    "try:\n",
    "    print('i love china')\n",
    "    print(3.141592653)\n",
    "    # 手动引发一个异常\n",
    "    raise ValueError\n",
    "    print('还没完呀')\n",
    "    \n",
    "except NameError as e:\n",
    "    print('NameError')\n",
    "except ValueError as e:\n",
    "    print(\"ValueError\")\n",
    "except Exception as e:\n",
    "    print(\"有异常\")\n",
    "finally:\n",
    "    print(\"我肯定会被执行的\")"
   ]
  },
  {
   "cell_type": "code",
   "execution_count": 3,
   "metadata": {},
   "outputs": [
    {
     "name": "stdout",
     "output_type": "stream",
     "text": [
      "i love china\n",
      "3.141592653\n",
      "ValueError\n",
      "我肯定会被执行的\n"
     ]
    }
   ],
   "source": [
    "# raise案例2\n",
    "# 自己当以异常\n",
    "class DawaValueError(ValueError):\n",
    "    pass\n",
    "try:\n",
    "    print('i love china')\n",
    "    print(3.141592653)\n",
    "    # 手动引发一个异常\n",
    "    raise DawaValueError\n",
    "    print('还没完呀')\n",
    "except NameError as e:\n",
    "    print(\"NameError\")\n",
    "except ValueError as e:\n",
    "    print(\"ValueError\")\n",
    "except Exception as e:\n",
    "    print(\"有异常\")\n",
    "finally:\n",
    "    print(\"我肯定会被执行的\")"
   ]
  },
  {
   "cell_type": "code",
   "execution_count": null,
   "metadata": {},
   "outputs": [],
   "source": [
    "# else 案例\n",
    "try:\n",
    "    num = int(input('Plz input your number:'))\n",
    "    rst = 100/num\n",
    "    print('计算结果是：{0}'.format(rst))\n",
    "except Exception as e:\n",
    "    print('Exception')    \n",
    "else:\n",
    "    print('No Exception')\n",
    "finally:\n",
    "    print('反正我会柸执行')\n",
    "    "
   ]
  },
  {
   "cell_type": "markdown",
   "metadata": {},
   "source": [
    "# 关于自定义异常\n",
    "\n",
    "- 只要是raise异常，则推介自定义异常\n",
    "- 在自定义异常的时候，一般包含以下内容\n",
    "    - 自定义发生异常的错误代码\n",
    "    - 自定义繁盛异常后的问题提示\n",
    "    - 自定义发生异常的行数\n",
    "- 最终的目的是，一旦发生异常，方便定位异常现场"
   ]
  },
  {
   "cell_type": "code",
   "execution_count": 16,
   "metadata": {},
   "outputs": [
    {
     "name": "stdout",
     "output_type": "stream",
     "text": [
      "Help on class Exception in module builtins:\n",
      "\n",
      "class Exception(BaseException)\n",
      " |  Common base class for all non-exit exceptions.\n",
      " |  \n",
      " |  Method resolution order:\n",
      " |      Exception\n",
      " |      BaseException\n",
      " |      object\n",
      " |  \n",
      " |  Methods defined here:\n",
      " |  \n",
      " |  __init__(self, /, *args, **kwargs)\n",
      " |      Initialize self.  See help(type(self)) for accurate signature.\n",
      " |  \n",
      " |  __new__(*args, **kwargs) from builtins.type\n",
      " |      Create and return a new object.  See help(type) for accurate signature.\n",
      " |  \n",
      " |  ----------------------------------------------------------------------\n",
      " |  Methods inherited from BaseException:\n",
      " |  \n",
      " |  __delattr__(self, name, /)\n",
      " |      Implement delattr(self, name).\n",
      " |  \n",
      " |  __getattribute__(self, name, /)\n",
      " |      Return getattr(self, name).\n",
      " |  \n",
      " |  __reduce__(...)\n",
      " |      helper for pickle\n",
      " |  \n",
      " |  __repr__(self, /)\n",
      " |      Return repr(self).\n",
      " |  \n",
      " |  __setattr__(self, name, value, /)\n",
      " |      Implement setattr(self, name, value).\n",
      " |  \n",
      " |  __setstate__(...)\n",
      " |  \n",
      " |  __str__(self, /)\n",
      " |      Return str(self).\n",
      " |  \n",
      " |  with_traceback(...)\n",
      " |      Exception.with_traceback(tb) --\n",
      " |      set self.__traceback__ to tb and return self.\n",
      " |  \n",
      " |  ----------------------------------------------------------------------\n",
      " |  Data descriptors inherited from BaseException:\n",
      " |  \n",
      " |  __cause__\n",
      " |      exception cause\n",
      " |  \n",
      " |  __context__\n",
      " |      exception context\n",
      " |  \n",
      " |  __dict__\n",
      " |  \n",
      " |  __suppress_context__\n",
      " |  \n",
      " |  __traceback__\n",
      " |  \n",
      " |  args\n",
      "\n"
     ]
    }
   ],
   "source": [
    "help(Exception)"
   ]
  },
  {
   "cell_type": "code",
   "execution_count": null,
   "metadata": {},
   "outputs": [],
   "source": []
  }
 ],
 "metadata": {
  "kernelspec": {
   "display_name": "Python 3",
   "language": "python",
   "name": "python3"
  },
  "language_info": {
   "codemirror_mode": {
    "name": "ipython",
    "version": 3
   },
   "file_extension": ".py",
   "mimetype": "text/x-python",
   "name": "python",
   "nbconvert_exporter": "python",
   "pygments_lexer": "ipython3",
   "version": "3.6.5"
  }
 },
 "nbformat": 4,
 "nbformat_minor": 2
}

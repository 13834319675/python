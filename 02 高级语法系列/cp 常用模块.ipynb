{
 "cells": [
  {
   "cell_type": "markdown",
   "metadata": {},
   "source": [
    "# 常用模块\n",
    "\n",
    "- calendar\n",
    "- time\n",
    "- datetime\n",
    "- timeit\n",
    "- os\n",
    "- zip\n",
    "- math\n",
    "- string\n",
    "- 上述所有模块的使用理论上都应该先导入，string模块除外\n",
    "- calendar time datetime 区别参考中文意思\n"
   ]
  },
  {
   "cell_type": "markdown",
   "metadata": {},
   "source": [
    "# calendar\n",
    "- 和日立相关的模块\n"
   ]
  },
  {
   "cell_type": "code",
   "execution_count": 4,
   "metadata": {},
   "outputs": [
    {
     "name": "stdout",
     "output_type": "stream",
     "text": [
      "<class 'str'>\n",
      "                                  2019\n",
      "\n",
      "      January                   February                   March\n",
      "Mo Tu We Th Fr Sa Su      Mo Tu We Th Fr Sa Su      Mo Tu We Th Fr Sa Su\n",
      "    1  2  3  4  5  6                   1  2  3                   1  2  3\n",
      " 7  8  9 10 11 12 13       4  5  6  7  8  9 10       4  5  6  7  8  9 10\n",
      "14 15 16 17 18 19 20      11 12 13 14 15 16 17      11 12 13 14 15 16 17\n",
      "21 22 23 24 25 26 27      18 19 20 21 22 23 24      18 19 20 21 22 23 24\n",
      "28 29 30 31               25 26 27 28               25 26 27 28 29 30 31\n",
      "\n",
      "       April                      May                       June\n",
      "Mo Tu We Th Fr Sa Su      Mo Tu We Th Fr Sa Su      Mo Tu We Th Fr Sa Su\n",
      " 1  2  3  4  5  6  7             1  2  3  4  5                      1  2\n",
      " 8  9 10 11 12 13 14       6  7  8  9 10 11 12       3  4  5  6  7  8  9\n",
      "15 16 17 18 19 20 21      13 14 15 16 17 18 19      10 11 12 13 14 15 16\n",
      "22 23 24 25 26 27 28      20 21 22 23 24 25 26      17 18 19 20 21 22 23\n",
      "29 30                     27 28 29 30 31            24 25 26 27 28 29 30\n",
      "\n",
      "        July                     August                  September\n",
      "Mo Tu We Th Fr Sa Su      Mo Tu We Th Fr Sa Su      Mo Tu We Th Fr Sa Su\n",
      " 1  2  3  4  5  6  7                1  2  3  4                         1\n",
      " 8  9 10 11 12 13 14       5  6  7  8  9 10 11       2  3  4  5  6  7  8\n",
      "15 16 17 18 19 20 21      12 13 14 15 16 17 18       9 10 11 12 13 14 15\n",
      "22 23 24 25 26 27 28      19 20 21 22 23 24 25      16 17 18 19 20 21 22\n",
      "29 30 31                  26 27 28 29 30 31         23 24 25 26 27 28 29\n",
      "                                                    30\n",
      "\n",
      "      October                   November                  December\n",
      "Mo Tu We Th Fr Sa Su      Mo Tu We Th Fr Sa Su      Mo Tu We Th Fr Sa Su\n",
      "    1  2  3  4  5  6                   1  2  3                         1\n",
      " 7  8  9 10 11 12 13       4  5  6  7  8  9 10       2  3  4  5  6  7  8\n",
      "14 15 16 17 18 19 20      11 12 13 14 15 16 17       9 10 11 12 13 14 15\n",
      "21 22 23 24 25 26 27      18 19 20 21 22 23 24      16 17 18 19 20 21 22\n",
      "28 29 30 31               25 26 27 28 29 30         23 24 25 26 27 28 29\n",
      "                                                    30 31\n",
      "\n"
     ]
    }
   ],
   "source": [
    "import calendar\n",
    "# calendar 获取一年的日立字符串\n",
    "# 参数 \n",
    "# w = 每个日期之间的间隔字符数\n",
    "# l = 每周所 占的行数\n",
    "# c = 每个月之间间隔的字符串\n",
    "cal = calendar.calendar(2019)\n",
    "print(type(cal))\n",
    "print(cal)"
   ]
  },
  {
   "cell_type": "code",
   "execution_count": 3,
   "metadata": {},
   "outputs": [
    {
     "name": "stdout",
     "output_type": "stream",
     "text": [
      "                              2020\n",
      "\n",
      "      January               February               March\n",
      "Mo Tu We Th Fr Sa Su  Mo Tu We Th Fr Sa Su  Mo Tu We Th Fr Sa Su\n",
      "       1  2  3  4  5                  1  2                     1\n",
      " 6  7  8  9 10 11 12   3  4  5  6  7  8  9   2  3  4  5  6  7  8\n",
      "13 14 15 16 17 18 19  10 11 12 13 14 15 16   9 10 11 12 13 14 15\n",
      "20 21 22 23 24 25 26  17 18 19 20 21 22 23  16 17 18 19 20 21 22\n",
      "27 28 29 30 31        24 25 26 27 28 29     23 24 25 26 27 28 29\n",
      "                                            30 31\n",
      "\n",
      "       April                  May                   June\n",
      "Mo Tu We Th Fr Sa Su  Mo Tu We Th Fr Sa Su  Mo Tu We Th Fr Sa Su\n",
      "       1  2  3  4  5               1  2  3   1  2  3  4  5  6  7\n",
      " 6  7  8  9 10 11 12   4  5  6  7  8  9 10   8  9 10 11 12 13 14\n",
      "13 14 15 16 17 18 19  11 12 13 14 15 16 17  15 16 17 18 19 20 21\n",
      "20 21 22 23 24 25 26  18 19 20 21 22 23 24  22 23 24 25 26 27 28\n",
      "27 28 29 30           25 26 27 28 29 30 31  29 30\n",
      "\n",
      "        July                 August              September\n",
      "Mo Tu We Th Fr Sa Su  Mo Tu We Th Fr Sa Su  Mo Tu We Th Fr Sa Su\n",
      "       1  2  3  4  5                  1  2      1  2  3  4  5  6\n",
      " 6  7  8  9 10 11 12   3  4  5  6  7  8  9   7  8  9 10 11 12 13\n",
      "13 14 15 16 17 18 19  10 11 12 13 14 15 16  14 15 16 17 18 19 20\n",
      "20 21 22 23 24 25 26  17 18 19 20 21 22 23  21 22 23 24 25 26 27\n",
      "27 28 29 30 31        24 25 26 27 28 29 30  28 29 30\n",
      "                      31\n",
      "\n",
      "      October               November              December\n",
      "Mo Tu We Th Fr Sa Su  Mo Tu We Th Fr Sa Su  Mo Tu We Th Fr Sa Su\n",
      "          1  2  3  4                     1      1  2  3  4  5  6\n",
      " 5  6  7  8  9 10 11   2  3  4  5  6  7  8   7  8  9 10 11 12 13\n",
      "12 13 14 15 16 17 18   9 10 11 12 13 14 15  14 15 16 17 18 19 20\n",
      "19 20 21 22 23 24 25  16 17 18 19 20 21 22  21 22 23 24 25 26 27\n",
      "26 27 28 29 30 31     23 24 25 26 27 28 29  28 29 30 31\n",
      "                      30\n",
      "\n"
     ]
    }
   ],
   "source": [
    "cal = calendar.calendar(2020,w=0,l=0,c=0)\n",
    "print(cal)"
   ]
  },
  {
   "cell_type": "code",
   "execution_count": 5,
   "metadata": {},
   "outputs": [
    {
     "data": {
      "text/plain": [
       "False"
      ]
     },
     "execution_count": 5,
     "metadata": {},
     "output_type": "execute_result"
    }
   ],
   "source": [
    "# isleao() 判断一年是否是闰年\n",
    "calendar.isleap(2017)"
   ]
  },
  {
   "cell_type": "code",
   "execution_count": 7,
   "metadata": {},
   "outputs": [
    {
     "data": {
      "text/plain": [
       "242"
      ]
     },
     "execution_count": 7,
     "metadata": {},
     "output_type": "execute_result"
    }
   ],
   "source": [
    "# leapdays() 获取指定年份之间的闰年数\n",
    "calendar.leapdays(1000,2000)"
   ]
  },
  {
   "cell_type": "code",
   "execution_count": 9,
   "metadata": {},
   "outputs": [
    {
     "name": "stdout",
     "output_type": "stream",
     "text": [
      "Help on function leapdays in module calendar:\n",
      "\n",
      "leapdays(y1, y2)\n",
      "    Return number of leap years in range [y1, y2).\n",
      "    Assume y1 <= y2.\n",
      "\n"
     ]
    }
   ],
   "source": [
    "help(calendar.leapdays)"
   ]
  },
  {
   "cell_type": "code",
   "execution_count": 12,
   "metadata": {},
   "outputs": [
    {
     "name": "stdout",
     "output_type": "stream",
     "text": [
      "   February 2020\n",
      "Mo Tu We Th Fr Sa Su\n",
      "                1  2\n",
      " 3  4  5  6  7  8  9\n",
      "10 11 12 13 14 15 16\n",
      "17 18 19 20 21 22 23\n",
      "24 25 26 27 28 29\n",
      "\n"
     ]
    }
   ],
   "source": [
    " #  month 获取摸个月份日历的字符串\n",
    "# 格式calendar（年，月）\n",
    "#返回月日历的字符串\n",
    "m = calendar.month(2020,2)\n",
    "print(m)"
   ]
  },
  {
   "cell_type": "code",
   "execution_count": 15,
   "metadata": {},
   "outputs": [
    {
     "name": "stdout",
     "output_type": "stream",
     "text": [
      "5 29\n"
     ]
    }
   ],
   "source": [
    "# monthrange（） 获取一个月周几开始的集合天数\n",
    "# 核实 calendar.monthrange（年，月）\n",
    "# 返回值 元祖（周几开始，总天数）\n",
    "# 注意 周默认0-6，表示周一到周日\n",
    "w,l = calendar.monthrange(2020,2)\n",
    "print(w,l)"
   ]
  },
  {
   "cell_type": "code",
   "execution_count": 19,
   "metadata": {},
   "outputs": [
    {
     "name": "stdout",
     "output_type": "stream",
     "text": [
      "<class 'list'>\n",
      "[[0, 0, 0, 0, 0, 1, 2], [3, 4, 5, 6, 7, 8, 9], [10, 11, 12, 13, 14, 15, 16], [17, 18, 19, 20, 21, 22, 23], [24, 25, 26, 27, 28, 29, 0]]\n",
      "[0, 0, 0, 0, 0, 1, 2]\n",
      "[3, 4, 5, 6, 7, 8, 9]\n",
      "[10, 11, 12, 13, 14, 15, 16]\n",
      "[17, 18, 19, 20, 21, 22, 23]\n",
      "[24, 25, 26, 27, 28, 29, 0]\n"
     ]
    }
   ],
   "source": [
    "# monthcalendar() 返回一个月的矩阵列表\n",
    "# 格式 calendar.monthcalendar(年，月)\n",
    "# 返回值，二级列表\n",
    "# 注意，矩阵中没有的天数用0表示\n",
    "m = calendar.monthcalendar(2020,2)\n",
    "print(type(m))\n",
    "print(m)\n",
    "for i in m:\n",
    "    print(i)"
   ]
  },
  {
   "cell_type": "code",
   "execution_count": 21,
   "metadata": {},
   "outputs": [
    {
     "name": "stdout",
     "output_type": "stream",
     "text": [
      "                                  2020\n",
      "\n",
      "      January                   February                   March\n",
      "Mo Tu We Th Fr Sa Su      Mo Tu We Th Fr Sa Su      Mo Tu We Th Fr Sa Su\n",
      "       1  2  3  4  5                      1  2                         1\n",
      " 6  7  8  9 10 11 12       3  4  5  6  7  8  9       2  3  4  5  6  7  8\n",
      "13 14 15 16 17 18 19      10 11 12 13 14 15 16       9 10 11 12 13 14 15\n",
      "20 21 22 23 24 25 26      17 18 19 20 21 22 23      16 17 18 19 20 21 22\n",
      "27 28 29 30 31            24 25 26 27 28 29         23 24 25 26 27 28 29\n",
      "                                                    30 31\n",
      "\n",
      "       April                      May                       June\n",
      "Mo Tu We Th Fr Sa Su      Mo Tu We Th Fr Sa Su      Mo Tu We Th Fr Sa Su\n",
      "       1  2  3  4  5                   1  2  3       1  2  3  4  5  6  7\n",
      " 6  7  8  9 10 11 12       4  5  6  7  8  9 10       8  9 10 11 12 13 14\n",
      "13 14 15 16 17 18 19      11 12 13 14 15 16 17      15 16 17 18 19 20 21\n",
      "20 21 22 23 24 25 26      18 19 20 21 22 23 24      22 23 24 25 26 27 28\n",
      "27 28 29 30               25 26 27 28 29 30 31      29 30\n",
      "\n",
      "        July                     August                  September\n",
      "Mo Tu We Th Fr Sa Su      Mo Tu We Th Fr Sa Su      Mo Tu We Th Fr Sa Su\n",
      "       1  2  3  4  5                      1  2          1  2  3  4  5  6\n",
      " 6  7  8  9 10 11 12       3  4  5  6  7  8  9       7  8  9 10 11 12 13\n",
      "13 14 15 16 17 18 19      10 11 12 13 14 15 16      14 15 16 17 18 19 20\n",
      "20 21 22 23 24 25 26      17 18 19 20 21 22 23      21 22 23 24 25 26 27\n",
      "27 28 29 30 31            24 25 26 27 28 29 30      28 29 30\n",
      "                          31\n",
      "\n",
      "      October                   November                  December\n",
      "Mo Tu We Th Fr Sa Su      Mo Tu We Th Fr Sa Su      Mo Tu We Th Fr Sa Su\n",
      "          1  2  3  4                         1          1  2  3  4  5  6\n",
      " 5  6  7  8  9 10 11       2  3  4  5  6  7  8       7  8  9 10 11 12 13\n",
      "12 13 14 15 16 17 18       9 10 11 12 13 14 15      14 15 16 17 18 19 20\n",
      "19 20 21 22 23 24 25      16 17 18 19 20 21 22      21 22 23 24 25 26 27\n",
      "26 27 28 29 30 31         23 24 25 26 27 28 29      28 29 30 31\n",
      "                          30\n",
      "\n"
     ]
    }
   ],
   "source": [
    "# prcal  等于 print calendar 直接打印日历\n",
    "calendar.prcal(2020)"
   ]
  },
  {
   "cell_type": "code",
   "execution_count": null,
   "metadata": {},
   "outputs": [],
   "source": []
  },
  {
   "cell_type": "code",
   "execution_count": 23,
   "metadata": {},
   "outputs": [
    {
     "name": "stdout",
     "output_type": "stream",
     "text": [
      "Help on method pryear in module calendar:\n",
      "\n",
      "pryear(theyear, w=0, l=0, c=6, m=3) method of calendar.TextCalendar instance\n",
      "    Print a year's calendar.\n",
      "\n"
     ]
    }
   ],
   "source": [
    "help(calendar.prcal)"
   ]
  },
  {
   "cell_type": "code",
   "execution_count": 24,
   "metadata": {},
   "outputs": [
    {
     "name": "stdout",
     "output_type": "stream",
     "text": [
      "   February 2020\n",
      "Mo Tu We Th Fr Sa Su\n",
      "                1  2\n",
      " 3  4  5  6  7  8  9\n",
      "10 11 12 13 14 15 16\n",
      "17 18 19 20 21 22 23\n",
      "24 25 26 27 28 29\n"
     ]
    }
   ],
   "source": [
    "# prmonth（） 直接打印整个月的日立\n",
    "# 格式 calendar.prmonth(年，月)\n",
    "# 返回值无\n",
    "calendar.prmonth(2020,2)"
   ]
  },
  {
   "cell_type": "code",
   "execution_count": 7,
   "metadata": {},
   "outputs": [
    {
     "data": {
      "text/plain": [
       "4"
      ]
     },
     "execution_count": 7,
     "metadata": {},
     "output_type": "execute_result"
    }
   ],
   "source": [
    "# weekday 获取周几\n",
    "# 格式calendar.weekdays(年，月，日)\n",
    "# 返回值，周几对应的数字\n",
    "calendar.weekday(2020,2,28)"
   ]
  },
  {
   "cell_type": "markdown",
   "metadata": {},
   "source": [
    "# time模块\n",
    "\n",
    "## 时间戳\n",
    "- 一个时间表示格式，根据不同的语言，可以是整数或者浮点数\n",
    "- 是从1970年一月一日0时0分0秒到现在经过的秒数\n",
    "- 如果表示的时间是1970年以前或者距离现在太远则可能有异常\n",
    "- 32位操作系统支持到2038年"
   ]
  },
  {
   "cell_type": "markdown",
   "metadata": {},
   "source": [
    "## UTC时间\n",
    "\n",
    "- UTC又称为时间协调时间，以英国格林尼治天文台所在时间作为参考的时间，也叫作世界标准时间\n",
    "\n",
    "## 夏令时\n",
    "\n",
    "- 夏令时就是在夏天的时候将时间调快一小时，本意是督促大家早睡早起节省蜡烛！ 每天变成25个小时，本质没变还是24小时\n"
   ]
  },
  {
   "cell_type": "markdown",
   "metadata": {},
   "source": [
    "## 时间元祖\n",
    " 一个包含时间内容的普通元组\n",
    "\n",
    "\n",
    "    索引      内容    属性            值\n",
    "\n",
    "    0       年       tm_year     2015\n",
    "    1       月       tm_mon      1～12\n",
    "    2       日       tm_mday     1～31\n",
    "    3       时       tm_hour     0～23\n",
    "    4       分       tm_min      0～59\n",
    "    5       秒       tm_sec      0～61  60表示闰秒  61保留值\n",
    "    6       周几     tm_wday     0～6\n",
    "    7       第几天    tm_yday     1～366\n",
    "    8       夏令时    tm_isdst    0，1，-1（表示夏令时）"
   ]
  },
  {
   "cell_type": "code",
   "execution_count": 2,
   "metadata": {},
   "outputs": [],
   "source": [
    "import time"
   ]
  },
  {
   "cell_type": "code",
   "execution_count": 33,
   "metadata": {},
   "outputs": [
    {
     "name": "stdout",
     "output_type": "stream",
     "text": [
      "0\n",
      "-28800\n",
      "-32400\n"
     ]
    }
   ],
   "source": [
    "# 时间模块的属性\n",
    "# timezone：当前时区到UTC时区相差的秒数，在没有夏令时表示时的时间，东八区得失 -288\n",
    "# altzone： 获取当前时区与UTC时间相差的秒数，在有夏令时的秒数\n",
    "# daylight 测当前是否是夏令时的状态 0表示是\n",
    "print(time.daylight)\n",
    "print(time.timezone)\n",
    "print(time.altzone)"
   ]
  },
  {
   "cell_type": "code",
   "execution_count": 35,
   "metadata": {},
   "outputs": [
    {
     "data": {
      "text/plain": [
       "1550479497.1396072"
      ]
     },
     "execution_count": 35,
     "metadata": {},
     "output_type": "execute_result"
    }
   ],
   "source": [
    "# 得到时间戳\n",
    "time.time()"
   ]
  },
  {
   "cell_type": "code",
   "execution_count": 41,
   "metadata": {},
   "outputs": [
    {
     "name": "stdout",
     "output_type": "stream",
     "text": [
      "time.struct_time(tm_year=2019, tm_mon=2, tm_mday=18, tm_hour=16, tm_min=56, tm_sec=41, tm_wday=0, tm_yday=49, tm_isdst=0)\n",
      "<built-in method count of time.struct_time object at 0x0000020765FA2488>\n",
      "<built-in method index of time.struct_time object at 0x0000020765FA2488>\n",
      "9\n",
      "49\n",
      "0\n"
     ]
    }
   ],
   "source": [
    "# localtime  ,获取当前时间的市价结构\n",
    "# 可以通过点号操作符获取相应属性元素的内容\n",
    "t = time.localtime()\n",
    "print(t)\n",
    "print(t.count)\n",
    "print(t.index)\n",
    "print(t.n_sequence_fields)\n",
    "print(t.tm_yday)\n",
    "print(t.tm_wday)"
   ]
  },
  {
   "cell_type": "code",
   "execution_count": 43,
   "metadata": {},
   "outputs": [
    {
     "name": "stdout",
     "output_type": "stream",
     "text": [
      "<class 'str'>\n",
      "Mon Feb 18 17:00:29 2019\n"
     ]
    }
   ],
   "source": [
    "# asctime() 返回元祖的正常字符串化后的时间格式\n",
    "# 格式，time.asctime（）\n",
    "# 返回值字符串 Tue Jun  6 11:11:00 2017\n",
    "t = time.localtime()\n",
    "tt = time.asctime(t)\n",
    "print(type(tt))\n",
    "print(tt)"
   ]
  },
  {
   "cell_type": "code",
   "execution_count": 4,
   "metadata": {},
   "outputs": [
    {
     "name": "stdout",
     "output_type": "stream",
     "text": [
      "<class 'str'>\n",
      "Tue Feb 19 09:45:46 2019\n"
     ]
    }
   ],
   "source": [
    "\n",
    "# citime() 获取字符串化的当前时间\n",
    "t = time.ctime()\n",
    "print(type(t))\n",
    "print(t)"
   ]
  },
  {
   "cell_type": "code",
   "execution_count": 8,
   "metadata": {},
   "outputs": [
    {
     "name": "stdout",
     "output_type": "stream",
     "text": [
      "1550540983.0\n",
      "<class 'float'>\n"
     ]
    },
    {
     "data": {
      "text/plain": [
       "1550540983.8052316"
      ]
     },
     "execution_count": 8,
     "metadata": {},
     "output_type": "execute_result"
    }
   ],
   "source": [
    "# mktime() 使用时间元祖获取相应的时间戳\n",
    "# 格式，time.mktime(时间元祖)\n",
    "# 返回值，浮点数书剑戳\n",
    "\n",
    "t = time.localtime()\n",
    "ts = time.mktime(t)\n",
    "print(ts)\n",
    "print(type(ts))\n",
    "time.time()"
   ]
  },
  {
   "cell_type": "code",
   "execution_count": 10,
   "metadata": {},
   "outputs": [],
   "source": [
    "# clock: 获取cpu时间，3.0-3.3 版本直接使用\n"
   ]
  },
  {
   "cell_type": "code",
   "execution_count": 13,
   "metadata": {},
   "outputs": [
    {
     "name": "stdout",
     "output_type": "stream",
     "text": [
      "0 1 2 3 4 5 6 7 8 9 "
     ]
    }
   ],
   "source": [
    "# sleep 是程序进入睡眠，n秒后释放\n",
    "\n",
    "for i  in range(10):\n",
    "    time.sleep(1)\n",
    "    print(i,end=\" \")"
   ]
  },
  {
   "cell_type": "code",
   "execution_count": 16,
   "metadata": {},
   "outputs": [
    {
     "name": "stdout",
     "output_type": "stream",
     "text": [
      "1.9998687180684058\n"
     ]
    }
   ],
   "source": [
    "def p():\n",
    "    time.sleep(2)\n",
    "    \n",
    "t1 = time.clock()\n",
    "p()\n",
    "t2 = time.clock()\n",
    "print(t2-t1)"
   ]
  },
  {
   "cell_type": "code",
   "execution_count": 44,
   "metadata": {},
   "outputs": [
    {
     "name": "stdout",
     "output_type": "stream",
     "text": [
      "2019-02-19 11:43:46\n"
     ]
    }
   ],
   "source": [
    "# strftime\n",
    "# strftime:将时间元组转化为自定义的字符串格式\n",
    "'''\n",
    "格式  含义  备注\n",
    "%a  本地（locale）简化星期名称    \n",
    "%A  本地完整星期名称    \n",
    "%b  本地简化月份名称    \n",
    "%B  本地完整月份名称    \n",
    "%c  本地相应的日期和时间表示    \n",
    "%d  一个月中的第几天（01 - 31）   \n",
    "%H  一天中的第几个小时（24 小时制，00 - 23）   \n",
    "%I  一天中的第几个小时（12 小时制，01 - 12）   \n",
    "%j  一年中的第几天（001 - 366）  \n",
    "%m  月份（01 - 12） \n",
    "%M  分钟数（00 - 59）    \n",
    "%p  本地 am 或者 pm 的相应符    注1\n",
    "%S  秒（01 - 61）  注2\n",
    "%U  一年中的星期数（00 - 53 星期天是一个星期的开始）第一个星期天之前的所有天数都放在第 0 周   注3\n",
    "%w  一个星期中的第几天（0 - 6，0 是星期天） 注3\n",
    "%W  和 %U 基本相同，不同的是 %W 以星期一为一个星期的开始  \n",
    "%x  本地相应日期  \n",
    "%X  本地相应时间  \n",
    "%y  去掉世纪的年份（00 - 99）    \n",
    "%Y  完整的年份   \n",
    "%z  用 +HHMM 或 -HHMM 表示距离格林威治的时区偏移（H 代表十进制的小时数，M 代表十进制的分钟数）      \n",
    "%%  %号本身\n",
    "'''\n",
    "t = time.localtime()\n",
    "ft = time.strftime(\"%Y-%m-%d %H:%M:%S\",t)\n",
    "print(ft)"
   ]
  },
  {
   "cell_type": "markdown",
   "metadata": {},
   "source": [
    "# datetime模块\n",
    "- 提供日期和时间的计算表示\n"
   ]
  },
  {
   "cell_type": "code",
   "execution_count": 24,
   "metadata": {},
   "outputs": [],
   "source": [
    "import datetime"
   ]
  },
  {
   "cell_type": "code",
   "execution_count": 29,
   "metadata": {},
   "outputs": [
    {
     "name": "stdout",
     "output_type": "stream",
     "text": [
      "2018-02-28\n",
      "28\n",
      "0001-01-01\n",
      "<built-in method today of type object at 0x00000000542132E0>\n"
     ]
    }
   ],
   "source": [
    "# datetime的常见属性\n",
    "# datetime.date 一个理想的日期\n",
    "dt = datetime.date(2018,2,28)\n",
    "print(dt)\n",
    "print(dt.day)\n",
    "print(dt.min)\n",
    "print(dt.today)\n"
   ]
  },
  {
   "cell_type": "code",
   "execution_count": 30,
   "metadata": {},
   "outputs": [],
   "source": [
    "# datetime.time() 提供一个理想的时间\n",
    "# datetime.datetime 提供日期时间的组合\n",
    "# datetime.timedelta 提供一个时间差\n"
   ]
  },
  {
   "cell_type": "code",
   "execution_count": 2,
   "metadata": {},
   "outputs": [
    {
     "name": "stdout",
     "output_type": "stream",
     "text": [
      "2019-02-22 11:00:09.953209\n",
      "2019-02-22 11:00:09.953209\n"
     ]
    },
    {
     "ename": "NameError",
     "evalue": "name 'time' is not defined",
     "traceback": [
      "\u001b[1;31m---------------------------------------------------------------------------\u001b[0m",
      "\u001b[1;31mNameError\u001b[0m                                 Traceback (most recent call last)",
      "\u001b[1;32m<ipython-input-2-056b68f5b932>\u001b[0m in \u001b[0;36m<module>\u001b[1;34m()\u001b[0m\n\u001b[0;32m      9\u001b[0m \u001b[0mprint\u001b[0m\u001b[1;33m(\u001b[0m\u001b[0mdt\u001b[0m\u001b[1;33m.\u001b[0m\u001b[0mtoday\u001b[0m\u001b[1;33m(\u001b[0m\u001b[1;33m)\u001b[0m\u001b[1;33m)\u001b[0m\u001b[1;33m\u001b[0m\u001b[0m\n\u001b[0;32m     10\u001b[0m \u001b[0mprint\u001b[0m\u001b[1;33m(\u001b[0m\u001b[0mdt\u001b[0m\u001b[1;33m.\u001b[0m\u001b[0mnow\u001b[0m\u001b[1;33m(\u001b[0m\u001b[1;33m)\u001b[0m\u001b[1;33m)\u001b[0m\u001b[1;33m\u001b[0m\u001b[0m\n\u001b[1;32m---> 11\u001b[1;33m \u001b[0mprint\u001b[0m\u001b[1;33m(\u001b[0m\u001b[0mdt\u001b[0m\u001b[1;33m.\u001b[0m\u001b[0mfromtimestamp\u001b[0m\u001b[1;33m(\u001b[0m\u001b[0mtime\u001b[0m\u001b[1;33m.\u001b[0m\u001b[0mtime\u001b[0m\u001b[1;33m(\u001b[0m\u001b[1;33m)\u001b[0m\u001b[1;33m)\u001b[0m\u001b[1;33m)\u001b[0m\u001b[1;33m\u001b[0m\u001b[0m\n\u001b[0m\u001b[0;32m     12\u001b[0m \u001b[0mprint\u001b[0m\u001b[1;33m(\u001b[0m\u001b[0mdatetime\u001b[0m\u001b[1;33m.\u001b[0m\u001b[0mtime\u001b[0m\u001b[1;33m(\u001b[0m\u001b[1;33m)\u001b[0m\u001b[1;33m)\u001b[0m\u001b[1;33m\u001b[0m\u001b[0m\n",
      "\u001b[1;31mNameError\u001b[0m: name 'time' is not defined"
     ],
     "output_type": "error"
    }
   ],
   "source": [
    "# datetime.datedime\n",
    "from datetime import datetime\n",
    "# 常用类方法\n",
    "# today\n",
    "# now\n",
    "# utcnow\n",
    "# fromtimestamp 从时间戳中返回本地时间\n",
    "dt = datetime(2018,5,20)\n",
    "print(dt.today())\n",
    "print(dt.now())\n",
    "print(dt.fromtimestamp(time.time()))\n",
    "print(datetime.time)"
   ]
  },
  {
   "cell_type": "code",
   "execution_count": 47,
   "metadata": {},
   "outputs": [
    {
     "name": "stdout",
     "output_type": "stream",
     "text": [
      "2019-02-19 11:50:05\n",
      "2019-02-19  12:50:05\n"
     ]
    }
   ],
   "source": [
    "# datetime.timedella\n",
    "# 表示一个时间间隔\n",
    "from datetime import datetime, timedelta\n",
    "t1 = datetime.now()\n",
    "print(t1.strftime('%Y-%m-%d %H:%M:%S'))\n",
    "# 增加一小时的时间长度\n",
    "td = timedelta(hours=1)\n",
    "print((t1+td).strftime('%Y-%m-%d  %H:%M:%S'))"
   ]
  },
  {
   "cell_type": "markdown",
   "metadata": {},
   "source": [
    "# timeit 模块\n",
    "- timeit时间测量工具"
   ]
  },
  {
   "cell_type": "code",
   "execution_count": 51,
   "metadata": {},
   "outputs": [
    {
     "name": "stdout",
     "output_type": "stream",
     "text": [
      "3.0010223388671875\n"
     ]
    }
   ],
   "source": [
    "# 测量程序运行时间的实验\n",
    "def p():\n",
    "    time.sleep(3)\n",
    "    \n",
    "t = time.time()\n",
    "p()\n",
    "print(time.time()-t)"
   ]
  },
  {
   "cell_type": "code",
   "execution_count": 57,
   "metadata": {},
   "outputs": [
    {
     "name": "stdout",
     "output_type": "stream",
     "text": [
      "4.466608076027114\n",
      "10.160592446183728\n"
     ]
    }
   ],
   "source": [
    "import timeit\n",
    "# 生成列表两种方法的比较\n",
    "# 如果单纯比价生成一种列表的时间，可能很难实现\n",
    "c ='''\n",
    "sum = []\n",
    "for i in range(1000):\n",
    "    sum.append(i)\n",
    "'''\n",
    "b = [i for i in range(1000)]\n",
    "# 利用timeit调试代码，执行100000次，查看运行时间\n",
    "t1= timeit.timeit(stmt=\"[i for i in range(1000)]\", number=100000 )\n",
    "# 测量代码c执行100000次运行结果\n",
    "t2 = timeit.timeit(stmt=c, number=100000)\n",
    "print(t1)\n",
    "print(t2)"
   ]
  },
  {
   "cell_type": "code",
   "execution_count": 62,
   "metadata": {},
   "outputs": [
    {
     "name": "stdout",
     "output_type": "stream",
     "text": [
      "我被执行第0次\n",
      "我被执行第1次\n",
      "我被执行第2次\n",
      "我被执行第0次\n",
      "我被执行第1次\n",
      "我被执行第2次\n",
      "我被执行第0次\n",
      "我被执行第1次\n",
      "我被执行第2次\n",
      "我被执行第0次\n",
      "我被执行第1次\n",
      "我被执行第2次\n",
      "我被执行第0次\n",
      "我被执行第1次\n",
      "我被执行第2次\n",
      "我被执行第0次\n",
      "我被执行第1次\n",
      "我被执行第2次\n",
      "我被执行第0次\n",
      "我被执行第1次\n",
      "我被执行第2次\n",
      "我被执行第0次\n",
      "我被执行第1次\n",
      "我被执行第2次\n",
      "我被执行第0次\n",
      "我被执行第1次\n",
      "我被执行第2次\n",
      "我被执行第0次\n",
      "我被执行第1次\n",
      "我被执行第2次\n",
      "0.00043979447036690544\n"
     ]
    }
   ],
   "source": [
    "# timeit () 介意测量一个函数的执行时间\n",
    "def dt():\n",
    "    sum = 3\n",
    "    for i in range (sum):\n",
    "        print('我被执行第{0}次'.format(i))\n",
    "        \n",
    "t = timeit.timeit(stmt = dt, number= 10)\n",
    "print(t)\n",
    "    "
   ]
  },
  {
   "cell_type": "code",
   "execution_count": 69,
   "metadata": {},
   "outputs": [
    {
     "name": "stdout",
     "output_type": "stream",
     "text": [
      "我被执行第0次\n",
      "我被执行第1次\n",
      "我被执行第2次\n",
      "我被执行第3次\n",
      "我被执行第0次\n",
      "我被执行第1次\n",
      "我被执行第2次\n",
      "我被执行第3次\n",
      "我被执行第0次\n",
      "我被执行第1次\n",
      "我被执行第2次\n",
      "我被执行第3次\n",
      "我被执行第0次\n",
      "我被执行第1次\n",
      "我被执行第2次\n",
      "我被执行第3次\n",
      "我被执行第0次\n",
      "我被执行第1次\n",
      "我被执行第2次\n",
      "我被执行第3次\n",
      "我被执行第0次\n",
      "我被执行第1次\n",
      "我被执行第2次\n",
      "我被执行第3次\n",
      "我被执行第0次\n",
      "我被执行第1次\n",
      "我被执行第2次\n",
      "我被执行第3次\n",
      "我被执行第0次\n",
      "我被执行第1次\n",
      "我被执行第2次\n",
      "我被执行第3次\n",
      "我被执行第0次\n",
      "我被执行第1次\n",
      "我被执行第2次\n",
      "我被执行第3次\n",
      "我被执行第0次\n",
      "我被执行第1次\n",
      "我被执行第2次\n",
      "我被执行第3次\n",
      "0.0006932415344635956\n"
     ]
    }
   ],
   "source": [
    "s ='''\n",
    "def dt(num):\n",
    "    sum = num\n",
    "    for i in range (sum):\n",
    "        print('我被执行第{0}次'.format(i))\n",
    "'''\n",
    "# 执行dt（num）\n",
    "# steup负责把环境变量准备好\n",
    "# 实际相当于timeit创建了一个小环境\n",
    "# 在创建的小环境中，代码执行的顺序是\n",
    "'''\n",
    "def dt(num):\n",
    "    .....\n",
    "    \n",
    "num = 3\n",
    "\n",
    "dt(num)\n",
    "'''\n",
    "\n",
    "dt = timeit.timeit('dt(num)', setup=s+\"num=4\",number= 10)\n",
    "print(dt)"
   ]
  },
  {
   "cell_type": "markdown",
   "metadata": {},
   "source": [
    "# datetime.datetime\n",
    "- 提供比较好用的时间\n",
    "            \n",
    "            \n",
    "            class datetime.datetime(year, month, day[, hour\n",
    "          [, minute\n",
    "          [, second\n",
    "          [, microsecond\n",
    "          [, tzinfo]]]]])\n",
    "        # The year, month and day arguments are required.\n",
    "        MINYEAR <= year <= MAXYEAR\n",
    "        1 <= month <= 12\n",
    "        1 <= day <= n\n",
    "        0 <= hour < 24\n",
    "        0 <= minute < 60\n",
    "        0 <= second < 60\n",
    "        0 <= microsecond < 10**\n",
    "        \n",
    "类方法\n",
    "\n",
    "datetime.today(): 返回当前本地datetime.随着 tzinfo None. datetime.fromtimestamp(time.time()). datetime.now([tz]): 返回当前本地日期和时间, 如果可选参数tz为None或没有详细说明,这个方法会像today(). datetime.utcnow(): 返回当前的UTC日期和时间, 如果tzinfo None ,那么与now()类似. datetime.fromtimestamp(timestamp[, tz]): 根据时间戳返回本地的日期和时间.tz指定时区. datetime.utcfromtimestamp(timestamp): 根据时间戳返回 UTC datetime. datetime.fromordinal(ordinal): 根据Gregorian ordinal 返回datetime. datetime.combine(date, time): 根据date和time返回一个新的datetime. datetime.strptime(date_string, format): 根据date_string和format返回一个datetime.\n",
    "\n",
    "实例方法\n",
    "\n",
    "datetime.date(): 返回相同年月日的date对象. datetime.time(): 返回相同时分秒微秒的time对象. datetime.replace(kw): kw in [year, month, day, hour, minute, second, microsecond, tzinfo], 与date类似. 类属性\n",
    "\n",
    "datetime.min: datetime(MINYEAR, 1, 1). datetime.max: datetime(MAXYEAR, 12, 31, 23, 59, 59, 999999).\n",
    "\n",
    "实例属性(read-only)\n",
    "\n",
    "datetime.year: 1 至 9999 datetime.month: 1 至 12 datetime.day: 1 至 n datetime.hour: In range(24). 0 至 23 datetime.minute: In range(60). datetime.second: In range(60). datetime.microsecond: In range(1000000). `"
   ]
  },
  {
   "cell_type": "code",
   "execution_count": 71,
   "metadata": {},
   "outputs": [
    {
     "name": "stdout",
     "output_type": "stream",
     "text": [
      "2019-02-19 15:10:17.772587\n"
     ]
    }
   ],
   "source": [
    "from datetime import datetime as dt\n",
    "print(dt.now())"
   ]
  },
  {
   "cell_type": "markdown",
   "metadata": {},
   "source": [
    "# os 操作系统相关\n",
    "- 和操作系统相关，主要是文件操作\n",
    "- 与系统相关的操作，主要包含在三个模块里\n",
    "    - os，操作系统目录\n",
    "    - os.path，系统路径相关\n",
    "    - shutil 高级文件操作，目录树的操作，文件复制删除和移动\n",
    "- 路径\n",
    "    - 绝对路径，总是从根目录开始，\n",
    "    - 相对路径，以当前环境开始的一个相对地方\n",
    "    "
   ]
  },
  {
   "cell_type": "markdown",
   "metadata": {},
   "source": [
    "# os模块\n"
   ]
  },
  {
   "cell_type": "code",
   "execution_count": 2,
   "metadata": {},
   "outputs": [],
   "source": [
    "import os"
   ]
  },
  {
   "cell_type": "code",
   "execution_count": 74,
   "metadata": {},
   "outputs": [
    {
     "name": "stdout",
     "output_type": "stream",
     "text": [
      "C:\\Users\\Administrator\\Desktop\\python\n"
     ]
    }
   ],
   "source": [
    "# getcwd（）获取当前工作的目录\n",
    "# 格式 os.getcwd()\n",
    "# 返回值，当前工作目录的字符串\n",
    "# 当前工作目录就是程序在进行文件相关操作，默认查找文件的目录\n",
    "mydir = os.getcwd()\n",
    "print(mydir)\n"
   ]
  },
  {
   "cell_type": "code",
   "execution_count": 132,
   "metadata": {},
   "outputs": [
    {
     "name": "stdout",
     "output_type": "stream",
     "text": [
      "C:\\Users\\Administrator\\Desktop\\python\n"
     ]
    }
   ],
   "source": [
    "# chdir()改变当前环境的工作目录\n",
    "# change directory（）\n",
    "# 格式：os.chdir（路径）\n",
    "#  返回值：无\n",
    "os.chdir(r'C:\\Users\\Administrator\\Desktop\\python')\n",
    "mydir = os.getcwd()\n",
    "print(mydir)"
   ]
  },
  {
   "cell_type": "code",
   "execution_count": 10,
   "metadata": {},
   "outputs": [
    {
     "name": "stdout",
     "output_type": "stream",
     "text": [
      "['.ipynb_checkpoints', '01-python概述.ipynb', '123', '456', '789', 'Anaconda、jupyter 、pycharm使用教程', 'CookBook_and_code-master', 'cp  for func.ipynb', 'cp  oop 05.ipynb', 'cp  数据类型的内置函数.ipynb', 'cp 01 class入门.ipynb', 'cp 02 class(1).ipynb', 'cp 02 class.ipynb', 'cp oop 004.ipynb', 'cp oop 2.ipynb', 'cp oop 面向对象的编程.ipynb', 'cp OOP-3.ipynb', 'cp while-函数.ipynb', 'cp 内置数据结构.ipynb', 'cp 内置数据结构listdictset.ipynb', 'cp 内置结构listsetdicttuple .ipynb', 'cp 函数参数和文档.ipynb', 'cp 分支和循环.ipynb', 'cp 字符串和变量.ipynb', 'cp 常用模块.ipynb', 'cp 递归.ipynb', 'cp-函数作用域和集合列表字典元祖.ipynb', 'Python 基础语法.ipynb', 'pythonex-案例源码', 'pythonex-案例源码.zip', 'ZYF-习题课课件', '变量.ipynb', '自己瞎写']\n",
      "****************************************\n",
      ".ipynb_checkpoints\n",
      "01-python概述.ipynb\n",
      "123\n",
      "456\n",
      "789\n",
      "Anaconda、jupyter 、pycharm使用教程\n",
      "CookBook_and_code-master\n",
      "cp  for func.ipynb\n",
      "cp  oop 05.ipynb\n",
      "cp  数据类型的内置函数.ipynb\n",
      "cp 01 class入门.ipynb\n",
      "cp 02 class(1).ipynb\n",
      "cp 02 class.ipynb\n",
      "cp oop 004.ipynb\n",
      "cp oop 2.ipynb\n",
      "cp oop 面向对象的编程.ipynb\n",
      "cp OOP-3.ipynb\n",
      "cp while-函数.ipynb\n",
      "cp 内置数据结构.ipynb\n",
      "cp 内置数据结构listdictset.ipynb\n",
      "cp 内置结构listsetdicttuple .ipynb\n",
      "cp 函数参数和文档.ipynb\n",
      "cp 分支和循环.ipynb\n",
      "cp 字符串和变量.ipynb\n",
      "cp 常用模块.ipynb\n",
      "cp 递归.ipynb\n",
      "cp-函数作用域和集合列表字典元祖.ipynb\n",
      "Python 基础语法.ipynb\n",
      "pythonex-案例源码\n",
      "pythonex-案例源码.zip\n",
      "ZYF-习题课课件\n",
      "变量.ipynb\n",
      "自己瞎写\n"
     ]
    }
   ],
   "source": [
    "# listdir() 获取一个目录中所有子目录和文件的名称列表\n",
    "#  格式:os.listdir(路径)\n",
    "#  返回值：所有子目录和文件名称的列表\n",
    "\n",
    "ld = os.listdir()\n",
    "print(ld)# \n",
    "print('*'*40)\n",
    "for i in ld:\n",
    "    print(i)\n"
   ]
  },
  {
   "cell_type": "code",
   "execution_count": 98,
   "metadata": {},
   "outputs": [
    {
     "name": "stdout",
     "output_type": "stream",
     "text": [
      "None\n"
     ]
    }
   ],
   "source": [
    "# makedirs() 递归创建文件夹\n",
    "# 格式 os.mkdirs(递归路径)\n",
    "#  递归路径：多个文件夹层层包含的路径就是递归路径 例如 a\\b\\c\n",
    "rst= os.makedirs('789')\n",
    "print(rst)"
   ]
  },
  {
   "cell_type": "code",
   "execution_count": 104,
   "metadata": {},
   "outputs": [
    {
     "name": "stdout",
     "output_type": "stream",
     "text": [
      "1\n"
     ]
    }
   ],
   "source": [
    "# system() 运行系统命令\n",
    "# 格式 os.system（系统命令）\n",
    "# 返回值打开一个shell或者终端界面\n",
    "# 一般推介使用subprocess\n",
    "# ls是当前文件夹的系统命令\n",
    "rst = os.system('net start')\n",
    "print(rst)"
   ]
  },
  {
   "cell_type": "code",
   "execution_count": 108,
   "metadata": {},
   "outputs": [
    {
     "name": "stdout",
     "output_type": "stream",
     "text": [
      "1\n"
     ]
    }
   ],
   "source": [
    "# 在当前目录下创建一个dana.haha 的文集\n",
    "rst = os.system(\"md 123.txt\")\n",
    "print(rst)"
   ]
  },
  {
   "cell_type": "code",
   "execution_count": 116,
   "metadata": {},
   "outputs": [
    {
     "name": "stdout",
     "output_type": "stream",
     "text": [
      "d:\\programdata\\anaconda3\\Library\\bin\n",
      "d:\\ProgramData\\Anaconda3\n",
      "d:\\ProgramData\\Anaconda3\\Library\\mingw-w64\\bin\n",
      "d:\\ProgramData\\Anaconda3\\Library\\usr\\bin\n",
      "d:\\ProgramData\\Anaconda3\\Library\\bin\n",
      "d:\\ProgramData\\Anaconda3\\Scripts\n",
      "d:\\ProgramData\\Anaconda3\\bin\n",
      "C:\\windows\\system32\n",
      "C:\\windows\n",
      "C:\\windows\\System32\\Wbem\n",
      "C:\\windows\\System32\\WindowsPowerShell\\v1.0\\\n",
      "D:\\Users\\Administrator\\AppData\\Local\\Programs\\Python\\Python36\\Scripts\\\n",
      "D:\\Users\\Administrator\\AppData\\Local\\Programs\\Python\\Python36\\\n",
      "C:\\Users\\Administrator\\AppData\\Local\\Microsoft\\WindowsApps\n",
      "\n",
      "d:\\Program Files\\JetBrains\\PyCharm 2018.3.1\\bin\n",
      "\n"
     ]
    }
   ],
   "source": [
    "#getenv() 获取指定的系统环境变量值\n",
    "# 相应的还有putenv\n",
    "#  格式：os.getenv('环境变量名')\n",
    "#  返回值：指定环境变量名对应的值\n",
    "\n",
    "rst = os.getenv('path')\n",
    "rst1 = rst.split(\";\")\n",
    "\n",
    "for i in rst1:\n",
    "    print(i)"
   ]
  },
  {
   "cell_type": "code",
   "execution_count": 117,
   "metadata": {},
   "outputs": [],
   "source": [
    "# exit() 退出当前程序\n",
    "#  格式：exit()\n",
    "#  返回值:无"
   ]
  },
  {
   "cell_type": "markdown",
   "metadata": {},
   "source": [
    "# 值部分\n",
    "- os.curdir curretu dir, 当前目录\n",
    "- os.pardir parent dir 父类目录\n",
    "- os.sep 当前系统的路径分割符\n",
    "    - windows ‘’\n",
    "    - linux “/”\n",
    "- os.linesep 当前系统的环形分隔符\n",
    "    - windows '\\'\n",
    "    - linux '/'\n",
    "- os.name 当前系统名称\n",
    "    - windows nt\n",
    "    - linux，mac，unix  posix"
   ]
  },
  {
   "cell_type": "code",
   "execution_count": 123,
   "metadata": {},
   "outputs": [
    {
     "name": "stdout",
     "output_type": "stream",
     "text": [
      "..\n",
      ".\n",
      "\\\n",
      "\r\n",
      "\n",
      "nt\n"
     ]
    }
   ],
   "source": [
    "print(os.pardir)\n",
    "print(os.curdir)\n",
    "print(os.sep)\n",
    "print(os.linesep)\n",
    "print(os.name)"
   ]
  },
  {
   "cell_type": "code",
   "execution_count": 137,
   "metadata": {},
   "outputs": [
    {
     "name": "stdout",
     "output_type": "stream",
     "text": [
      "C:\\Users\\Administrator\\Desktop\\python\n"
     ]
    }
   ],
   "source": [
    "# 在路径相关的操作中，不要手动拼写地址，因为手动拼写的路径可能不具有移植性\n",
    "path =r'C:\\Users\\Administrator\\Desktop\\python'\n",
    "print(path)"
   ]
  },
  {
   "cell_type": "markdown",
   "metadata": {},
   "source": [
    "# os.path 模块， 跟路径相关的模块\n"
   ]
  },
  {
   "cell_type": "code",
   "execution_count": 138,
   "metadata": {},
   "outputs": [],
   "source": [
    "import os.path as op\n"
   ]
  },
  {
   "cell_type": "code",
   "execution_count": 142,
   "metadata": {},
   "outputs": [
    {
     "data": {
      "text/plain": [
       "'C:\\\\Users\\\\Administrator\\\\Desktop\\\\python'"
      ]
     },
     "execution_count": 142,
     "metadata": {},
     "output_type": "execute_result"
    }
   ],
   "source": [
    "# abspath() 将路径转化为绝对路径\n",
    "# abselute 绝对\n",
    "#  格式:os.path.abspath('路径')\n",
    "#  返回值：路径的绝对路径形式\n",
    "\n",
    "# linux中\n",
    "# . 点号，代表当前目录\n",
    "# .. 双点，代表父目录\n",
    "\n",
    "os.path.abspath('')"
   ]
  },
  {
   "cell_type": "code",
   "execution_count": 148,
   "metadata": {},
   "outputs": [
    {
     "name": "stdout",
     "output_type": "stream",
     "text": [
      "DrvDownLoad\n",
      "DrvBackup\n"
     ]
    }
   ],
   "source": [
    "# basename() 获取目录中的文件夹部分\n",
    "# 用法 os.path.basenma(路径)\n",
    "# 返回值 文件夹的字符串\n",
    "print(os.path.basename('F:\\SogouDownload\\DrvDownLoad'))\n",
    "print(os.path.basename('F:\\SogouDownload\\DrvBackup'))\n",
    "\n"
   ]
  },
  {
   "cell_type": "code",
   "execution_count": 150,
   "metadata": {},
   "outputs": [
    {
     "name": "stdout",
     "output_type": "stream",
     "text": [
      "\\pycharm\\python\\123.txt\n"
     ]
    }
   ],
   "source": [
    "# # join() 将多个路径拼合成一个路径\n",
    "#  格式：os.path.join(路径1，路径2....)\n",
    "#  返回值：组合之后的新路径字符串\n",
    "p1 = '\\pycharm\\python'\n",
    "p2 = '123.txt'\n",
    "p3 = os.path.join(p1,p2)\n",
    "print(p3)"
   ]
  },
  {
   "cell_type": "code",
   "execution_count": 158,
   "metadata": {},
   "outputs": [
    {
     "name": "stdout",
     "output_type": "stream",
     "text": [
      "('\\\\pycharm', 'python\\x07ge\\name.txt')\n",
      "pycharm python\u0007ge\n",
      "ame.txt\n"
     ]
    }
   ],
   "source": [
    "# split() 将路径切割为文件夹部分和当前文件部分\n",
    "#  格式:os.path.split（路径）\n",
    "#  返回值：路径和文件名组成的元组\n",
    "sp = op.split('\\pycharm\\python\\age\\name.txt')\n",
    "print(sp)\n",
    "s,p = op.split('pycharm\\python\\age\\name.txt')\n",
    "print(s,p)"
   ]
  },
  {
   "cell_type": "code",
   "execution_count": 160,
   "metadata": {},
   "outputs": [
    {
     "name": "stdout",
     "output_type": "stream",
     "text": [
      "True\n"
     ]
    }
   ],
   "source": [
    "# isdir（） 检测是否是目录\n",
    "#  格式：os.path.isdir(路径)\n",
    "#  返回值：布尔值\n",
    "print(op.isdir('F:\\SogouDownload\\DrvDownLoad'))\n"
   ]
  },
  {
   "cell_type": "code",
   "execution_count": 164,
   "metadata": {},
   "outputs": [
    {
     "name": "stdout",
     "output_type": "stream",
     "text": [
      "True\n",
      "True\n"
     ]
    }
   ],
   "source": [
    "# exists() 检测文件或者目录是否存在\n",
    "#  格式：os.path.exists(路径)\n",
    "#  返回值:布尔值\n",
    "print(op.exists('123'))\n",
    "print(os.path.exists('F:\\SogouDownload\\DrvDownLoad'))"
   ]
  },
  {
   "cell_type": "markdown",
   "metadata": {},
   "source": [
    "# shutil 模块\n"
   ]
  },
  {
   "cell_type": "code",
   "execution_count": 11,
   "metadata": {},
   "outputs": [],
   "source": [
    "import shutil"
   ]
  },
  {
   "cell_type": "code",
   "execution_count": 175,
   "metadata": {},
   "outputs": [
    {
     "name": "stdout",
     "output_type": "stream",
     "text": [
      "C:\\Users\\Administrator\\Desktop\\python\\456\\name.txt\n"
     ]
    }
   ],
   "source": [
    "# copy（） 赋值2文件\n",
    "# # copy() 复制文件\n",
    "#  格式：shutil.copy(来源路径，目标路径)\n",
    "#  返回值：返回目标路径\n",
    "# 拷贝的同时，可以给文件重命名\n",
    "print(shutil.copy('C:\\\\Users\\\\Administrator\\\\Desktop\\\\python\\\\123\\\\name.txt','C:\\\\Users\\\\Administrator\\\\Desktop\\\\python\\\\456'))"
   ]
  },
  {
   "cell_type": "code",
   "execution_count": 174,
   "metadata": {},
   "outputs": [],
   "source": [
    "# # copy2() 复制文件，保留元数据（文件信息）\n",
    "#  格式：shutil.copy2(来源路径，目标路径)\n",
    "#  返回值：返回目标路径\n",
    "#  注意：copy和copy2的唯一区别在于copy2复制文件时尽量保留元数据\n"
   ]
  },
  {
   "cell_type": "code",
   "execution_count": 178,
   "metadata": {},
   "outputs": [
    {
     "name": "stdout",
     "output_type": "stream",
     "text": [
      "C:\\Users\\Administrator\\Desktop\\python\\456\\age.txt\n"
     ]
    }
   ],
   "source": [
    "# copyfile()将一个文件中的内容复制到另外一个文件当中\n",
    "#  格式：shutil.copyfile（'源路径','目标路径')\n",
    "#  返回值：无\n",
    "print(shutil.copyfile('C:\\\\Users\\\\Administrator\\\\Desktop\\\\python\\\\123\\\\name.txt','C:\\\\Users\\\\Administrator\\\\Desktop\\\\python\\\\456\\\\age.txt'))"
   ]
  },
  {
   "cell_type": "code",
   "execution_count": 184,
   "metadata": {},
   "outputs": [
    {
     "name": "stdout",
     "output_type": "stream",
     "text": [
      "C:\\Users\\Administrator\\Desktop\\python\\789\\name.txt\n"
     ]
    }
   ],
   "source": [
    "# move() 移动文件/文件夹\n",
    "#  格式：shutil.move(源路径，目标路径)\n",
    "#  返回值：目标路径！\n",
    "print(shutil.move('C:\\\\Users\\\\Administrator\\\\Desktop\\\\python\\\\123\\\\name.txt','C:\\\\Users\\\\Administrator\\\\Desktop\\\\python\\\\789'))"
   ]
  },
  {
   "cell_type": "markdown",
   "metadata": {},
   "source": [
    "# 归档和压缩\n",
    "\n",
    "- 归档： 把多个文件或者文件夹合并到一个文件当中\n",
    "- 压缩： 用算法把多个文件或者文件夹无损或者有损合并到一个文件当中"
   ]
  },
  {
   "cell_type": "code",
   "execution_count": 13,
   "metadata": {},
   "outputs": [
    {
     "name": "stdout",
     "output_type": "stream",
     "text": [
      "Help on function make_archive in module shutil:\n",
      "\n",
      "make_archive(base_name, format, root_dir=None, base_dir=None, verbose=0, dry_run=0, owner=None, group=None, logger=None)\n",
      "    Create an archive file (eg. zip or tar).\n",
      "    \n",
      "    'base_name' is the name of the file to create, minus any format-specific\n",
      "    extension; 'format' is the archive format: one of \"zip\", \"tar\", \"gztar\",\n",
      "    \"bztar\", or \"xztar\".  Or any other registered format.\n",
      "    \n",
      "    'root_dir' is a directory that will be the root directory of the\n",
      "    archive; ie. we typically chdir into 'root_dir' before creating the\n",
      "    archive.  'base_dir' is the directory where we start archiving from;\n",
      "    ie. 'base_dir' will be the common prefix of all files and\n",
      "    directories in the archive.  'root_dir' and 'base_dir' both default\n",
      "    to the current directory.  Returns the name of the archive file.\n",
      "    \n",
      "    'owner' and 'group' are used when creating a tar archive. By default,\n",
      "    uses the current owner and group.\n",
      "\n"
     ]
    }
   ],
   "source": [
    "# make_archive() 归档操作\n",
    "#  格式:shutil.make_archive('归档之后的目录和文件名','后缀','需要归档的文件夹')\n",
    "#  返回值：归档之后的地址\n",
    "\n",
    "#help(shutil.make_archive\n",
    "help(shutil.make_archive)"
   ]
  },
  {
   "cell_type": "code",
   "execution_count": 17,
   "metadata": {},
   "outputs": [
    {
     "name": "stdout",
     "output_type": "stream",
     "text": [
      "C:\\Users\\Administrator\\Desktop\\python\\456.zip\n"
     ]
    }
   ],
   "source": [
    "rst = shutil.make_archive(r'C:\\Users\\Administrator\\Desktop\\python\\456','zip',r'C:\\Users\\Administrator\\Desktop\\python\\456')\n",
    "print(rst)"
   ]
  },
  {
   "cell_type": "code",
   "execution_count": 18,
   "metadata": {},
   "outputs": [],
   "source": [
    "# unpacl_archive() 解包操作\n",
    "# 格式 shutil.unpack_archive(文件地址，解压后的地址)\n",
    "# 返回值，解包后的地址\n"
   ]
  },
  {
   "cell_type": "markdown",
   "metadata": {},
   "source": [
    "# zip包\n",
    "- 本名叫做zipfile包"
   ]
  },
  {
   "cell_type": "code",
   "execution_count": 19,
   "metadata": {},
   "outputs": [],
   "source": [
    "import zipfile"
   ]
  },
  {
   "cell_type": "code",
   "execution_count": 29,
   "metadata": {},
   "outputs": [
    {
     "name": "stdout",
     "output_type": "stream",
     "text": [
      "<zipfile.ZipFile filename='C:\\\\Users\\\\Administrator\\\\Desktop\\\\python\\\\456.zip' mode='r'>\n"
     ]
    }
   ],
   "source": [
    "#zipfile.ZipFile(file[, mode[, compression[, allowZip64]]])\n",
    "# 创建一个ZipFile对象，表示一个zip文件。参数file表示文件的路径或类文件对象(file-like object)；参数mode指示打开zip文件的模式，默认值为’r’，表示读已经存在的zip文件，也可以为’w’或’a’，’w’表示新建一个zip文档或覆盖\n",
    "zf = zipfile.ZipFile(r'C:\\Users\\Administrator\\Desktop\\python\\456.zip')\n",
    "print(zf)\n"
   ]
  },
  {
   "cell_type": "code",
   "execution_count": 34,
   "metadata": {},
   "outputs": [
    {
     "name": "stdout",
     "output_type": "stream",
     "text": [
      "['age.txt', 'name.txt']\n"
     ]
    }
   ],
   "source": [
    "# zipfile.namelist() 获取压缩文件内容列表\n",
    "nl = zf.namelist()\n",
    "print(nl)\n"
   ]
  },
  {
   "cell_type": "code",
   "execution_count": 39,
   "metadata": {},
   "outputs": [
    {
     "name": "stdout",
     "output_type": "stream",
     "text": [
      "<ZipInfo filename='name.txt' compress_type=deflate filemode='-rw-rw-rw-' file_size=0 compress_size=2>\n"
     ]
    }
   ],
   "source": [
    "# zipfile.getinfo(name) 获取压缩文件内指定文件的信息\n",
    "# 获取zip文档内指定文件的信息。返回一个zipfile.ZipInfo对象，它包括文件的详细信息。将在下面 具体介绍该对象。\n",
    "gf = zf.getinfo('name.txt')\n",
    "print(gf)\n"
   ]
  },
  {
   "cell_type": "code",
   "execution_count": 45,
   "metadata": {},
   "outputs": [
    {
     "name": "stdout",
     "output_type": "stream",
     "text": [
      "None\n"
     ]
    }
   ],
   "source": [
    "# ZipFile.extractall([path[, members[, pwd]]])\n",
    "#  解压zip文档中的所有文件到当前目录。参数members的默认值为zip文档内的所有文件名称列表，也可以自己设置，选择要解压的文件名称。\n",
    "\n",
    "rst =zf.extractall(r'C:\\Users\\Administrator\\Desktop\\python\\456')\n",
    "print(rst)"
   ]
  },
  {
   "cell_type": "markdown",
   "metadata": {},
   "source": [
    "# random 模块\n",
    "- 随机数模块\n",
    "- 所有的随机都是伪随机"
   ]
  },
  {
   "cell_type": "code",
   "execution_count": 46,
   "metadata": {},
   "outputs": [],
   "source": [
    "import random"
   ]
  },
  {
   "cell_type": "code",
   "execution_count": 51,
   "metadata": {},
   "outputs": [
    {
     "name": "stdout",
     "output_type": "stream",
     "text": [
      "0.34967004510018773\n",
      "Help on built-in function random:\n",
      "\n",
      "random(...) method of random.Random instance\n",
      "    random() -> x in the interval [0, 1).\n",
      "\n"
     ]
    }
   ],
   "source": [
    "# random() 获取0-1之间的随机小数\n",
    "#  格式：random.random()\n",
    "#  返回值：随机0-1之间的小数\n",
    "print(random.random())\n",
    "help(random.random)"
   ]
  },
  {
   "cell_type": "code",
   "execution_count": 58,
   "metadata": {},
   "outputs": [
    {
     "name": "stdout",
     "output_type": "stream",
     "text": [
      "['0+haha', '1+haha', '2+haha', '3+haha', '4+haha', '5+haha', '6+haha', '7+haha', '8+haha', '9+haha']\n",
      "3+haha\n"
     ]
    }
   ],
   "source": [
    "# choice() 随机返回序列中的某个值\n",
    "#  格式：random.choice(序列)\n",
    "#  返回值：序列中的某个值\n",
    "l = [str(i)+ '+haha' for i in range(10)]\n",
    "rst = random.choice(l)\n",
    "print(l)\n",
    "print(rst)"
   ]
  },
  {
   "cell_type": "code",
   "execution_count": 134,
   "metadata": {},
   "outputs": [
    {
     "name": "stdout",
     "output_type": "stream",
     "text": [
      "[0, 1, 2, 3, 4, 5, 6, 7, 8, 9]\n",
      "********************\n",
      "[2, 6, 9, 8, 1, 5, 0, 7, 3, 4]\n",
      "********************\n",
      "['nishi02', 'nishi06', 'nishi09', 'nishi08', 'nishi01', 'nishi05', 'nishi00', 'nishi07', 'nishi03', 'nishi04']\n"
     ]
    }
   ],
   "source": [
    "# shuffle() 随机打乱列表\n",
    "#  格式：random.shuffle(列表)\n",
    "#  返回值：打乱顺序之后的列表\n",
    "\n",
    "l = [i for i in range(10)]\n",
    "print(l)\n",
    "print('*'*20)\n",
    "rst1 = random.shuffle(l)\n",
    "print(l)\n",
    "print('*'*20)\n",
    "l2 = ['woshi','nishi','tashi']\n",
    "rst2 = random.choice(l2)\n",
    "l1 = [rst2+ str(0)+str(i) for i in l ]\n",
    "print(l1)\n"
   ]
  },
  {
   "cell_type": "code",
   "execution_count": null,
   "metadata": {},
   "outputs": [],
   "source": []
  }
 ],
 "metadata": {
  "kernelspec": {
   "display_name": "Python 3",
   "language": "python",
   "name": "python3"
  },
  "language_info": {
   "codemirror_mode": {
    "name": "ipython",
    "version": 3
   },
   "file_extension": ".py",
   "mimetype": "text/x-python",
   "name": "python",
   "nbconvert_exporter": "python",
   "pygments_lexer": "ipython3",
   "version": "3.6.5"
  }
 },
 "nbformat": 4,
 "nbformat_minor": 2
}

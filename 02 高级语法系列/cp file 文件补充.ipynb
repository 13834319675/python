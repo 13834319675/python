{
  "cells": [
    {
      "cell_type": "markdown",
      "metadata": {
        "pycharm": {}
      },
      "source": [
        "# 文件写的操作\n",
        "- write(str) 把字符串写入文件\n",
        "- writeline（str） 把字符串按行写入文件\n",
        "- 区别\n",
        "    - write函数参数只能是字符串\n",
        "    - writeline参数可以使字符串，也可以是字符序列"
      ]
    },
    {
      "cell_type": "code",
      "execution_count": 2,
      "metadata": {
        "pycharm": {}
      },
      "outputs": [],
      "source": [
        "# write举例\n",
        "# 项文件里面添加一首诗\n",
        "\n",
        "# 以a追加的方式打开\n",
        "with open(r\"test01.txt\",\"a\")as f:\n",
        "    # 注意字符串内有换行\n",
        "    f.write(\u0027生活不止有眼前的苟且，还有适合远方\u0027)"
      ]
    },
    {
      "cell_type": "code",
      "execution_count": 1,
      "metadata": {
        "pycharm": {
          "is_executing": false
        }
      },
      "outputs": [],
      "source": [
        "# 直接写入行，用writeline\n",
        "# writeline可以表示写入很多行，参数可以使list\n",
        "\n",
        "# a表示以追加的方式打开\n",
        "with open (r\"test01.txt\",\"a\")as f:\n",
        "    # 注意字符串内含有换行符\n",
        "    f.writelines(\"\\n小舟从此逝\")\n",
        "    f.writelines(\"\\n江海共余生\")"
      ]
    },
    {
      "cell_type": "code",
      "execution_count": 17,
      "metadata": {
        "pycharm": {}
      },
      "outputs": [],
      "source": [
        "l \u003d {\u0027i \u0027:1,\u0027love \u0027:4,\u0027china\u0027:5}\n",
        "with open(r\"test01.txt\",\"a\")as f:\n",
        "    f.writelines(\"\\n\")\n",
        "    f.writelines(l)"
      ]
    },
    {
      "cell_type": "markdown",
      "metadata": {
        "pycharm": {}
      },
      "source": [
        "# 持久化- pickle\n",
        "- 序列化（持久化，落地），把程序中的运行的信息保存到磁盘上\n",
        "- 反序列化，序列化的逆过程\n",
        "- pickle python提供的序列化模块\n",
        "- pickle.dump 序列化、\n",
        "- pickle.load 反序列化"
      ]
    },
    {
      "cell_type": "code",
      "execution_count": 4,
      "metadata": {
        "pycharm": {
          "is_executing": false
        }
      },
      "outputs": [],
      "source": [
        "# 序列化案例\n",
        "import pickle\n",
        "\n",
        "age \u003d 18\n",
        "with open(r\"test01.txt\",\"wb\")as f:\n",
        "    pickle.dump(age,f)"
      ]
    },
    {
      "cell_type": "code",
      "execution_count": 25,
      "metadata": {
        "pycharm": {}
      },
      "outputs": [
        {
          "name": "stdout",
          "output_type": "stream",
          "text": [
            "18\n"
          ]
        }
      ],
      "source": [
        "# 反序列化案例\n",
        "import pickle\n",
        "with open(r\"test01.txt\",\"rb\")as f:\n",
        "    a \u003d pickle.load(f)\n",
        "    print(a)\n"
      ]
    },
    {
      "cell_type": "code",
      "execution_count": 26,
      "metadata": {
        "pycharm": {}
      },
      "outputs": [],
      "source": [
        "import pickle\n",
        "a \u003d [\u0027aaa\u0027,\u0027bbb\u0027,\u0027i love china\u0027,111,[1,2,3],{\u0027one\u0027:1}]\n",
        "with open(r\"test01.txt\",\"wb\")as f:\n",
        "    pickle.dump(a,f)"
      ]
    },
    {
      "cell_type": "code",
      "execution_count": 29,
      "metadata": {
        "pycharm": {}
      },
      "outputs": [
        {
          "name": "stdout",
          "output_type": "stream",
          "text": [
            "\u003c_io.BufferedReader name\u003d\u0027test01.txt\u0027\u003e\n",
            "[\u0027aaa\u0027, \u0027bbb\u0027, \u0027i love china\u0027, 111, [1, 2, 3], {\u0027one\u0027: 1}]\n"
          ]
        }
      ],
      "source": [
        "with open(r\"test01.txt\",\"rb\")as f:\n",
        "    a \u003d pickle.load(f)\n",
        "    print(f)\n",
        "    print(a)"
      ]
    },
    {
      "cell_type": "markdown",
      "metadata": {
        "pycharm": {}
      },
      "source": [
        "# 持久化- shelve\n",
        "- 持久化工具\n",
        "- 类似字典，用kv保存数据，存取方式跟字典类似\n",
        "- open close\n"
      ]
    },
    {
      "cell_type": "code",
      "execution_count": 32,
      "metadata": {
        "pycharm": {}
      },
      "outputs": [
        {
          "data": {
            "text/plain": [
              "\u003cbound method Shelf.close of \u003cshelve.DbfilenameShelf object at 0x00000131D250E710\u003e\u003e"
            ]
          },
          "execution_count": 32,
          "metadata": {},
          "output_type": "execute_result"
        }
      ],
      "source": [
        "# 使用shelve创建并使用\n",
        "import shelve\n",
        "\n",
        "# 打开晚间\n",
        "# shv相当于做一个字典\n",
        "shv \u003d shelve.open(r\"shv.db\")\n",
        "\n",
        "shv[\u0027one\u0027] \u003d 1\n",
        "shv[\u0027two\u0027] \u003d 2\n",
        "shv[\u0027three\u0027] \u003d 3\n",
        "shv[\u0027chen\u0027] \u003d\u0027peng\u0027 \n",
        "shv.close\n",
        "# shelve生成的不是一个shv.db文件，含有其他格式的文件"
      ]
    },
    {
      "cell_type": "code",
      "execution_count": 47,
      "metadata": {
        "pycharm": {}
      },
      "outputs": [
        {
          "name": "stdout",
          "output_type": "stream",
          "text": [
            "\u003cdbm.dumb._Database object at 0x00000131D2533978\u003e\n",
            "1\n",
            "3\n",
            "出问题了\n"
          ]
        }
      ],
      "source": [
        "# shelve读取案例\n",
        "shv \u003d shelve.open(r\"shv.db\")\n",
        "\n",
        "print(shv.dict)\n",
        "print(shv[\u0027one\u0027])\n",
        "try:\n",
        "    print(shv[\u0027three\u0027])\n",
        "    print(shv[\u0027111\u0027])\n",
        "except Exception as e:\n",
        "    print(\u0027出问题了\u0027)\n",
        "finally:\n",
        "    shv.close"
      ]
    },
    {
      "cell_type": "markdown",
      "metadata": {
        "pycharm": {}
      },
      "source": [
        "# shelve特性\n",
        "- 不支持对个应用并行写入\n",
        "    - 为了解决这个问题，open的时候可以使用flag\u003dr\n",
        "- 写的问题\n",
        "    - shelve恶魔人情况下不会等待持久化队形进行任何修改\n",
        "    - 解决方法 强制协会，writeback\u003d ture"
      ]
    },
    {
      "cell_type": "code",
      "execution_count": 48,
      "metadata": {
        "pycharm": {}
      },
      "outputs": [
        {
          "name": "stdout",
          "output_type": "stream",
          "text": [
            "1\n"
          ]
        }
      ],
      "source": [
        "import shelve\n",
        "shv \u003d shelve.open(r\"shv.db\",flag\u003d\u0027r\u0027)\n",
        "try:\n",
        "    k1 \u003d shv[\u0027one\u0027]\n",
        "    print(k1)\n",
        "except:\n",
        "    shv.close\n",
        "    "
      ]
    },
    {
      "cell_type": "code",
      "execution_count": 1,
      "metadata": {
        "pycharm": {
          "is_executing": false
        }
      },
      "outputs": [],
      "source": [
        "import shelve\n",
        "shv \u003d shelve.open(r\"shv.db\")\n",
        "try:\n",
        "    shv[\u0027one\u0027] \u003d {\"eins\":1, \"zwei\":2, \"drei\":3}\n",
        "except:\n",
        "    shv.close\n",
        "\n"
      ]
    },
    {
      "cell_type": "code",
      "execution_count": 72,
      "metadata": {
        "pycharm": {}
      },
      "outputs": [
        {
          "name": "stdout",
          "output_type": "stream",
          "text": [
            "{\u0027eins\u0027: 1, \u0027zwei\u0027: 2, \u0027drei\u0027: 3}\n"
          ]
        }
      ],
      "source": [
        "\n",
        "shv \u003d shelve.open(r\u0027shv.db\u0027)\n",
        "try:\n",
        "    one \u003d shv[\u0027one\u0027]\n",
        "    print(one)\n",
        "finally:\n",
        "    shv.close()"
      ]
    },
    {
      "cell_type": "code",
      "execution_count": 74,
      "metadata": {
        "pycharm": {}
      },
      "outputs": [
        {
          "name": "stdout",
          "output_type": "stream",
          "text": [
            "{\u0027eins\u0027: 1, \u0027zwei\u0027: 2, \u0027drei\u0027: 3}\n",
            "{\u0027eins\u0027: 1, \u0027zwei\u0027: 2, \u0027drei\u0027: 3}\n"
          ]
        }
      ],
      "source": [
        "# shelve忘记写会，需要使用强制写会\n",
        "shv \u003d shelve.open(r\"shv.db\")\n",
        "try:\n",
        "    k1 \u003d shv[\u0027one\u0027]\n",
        "    print(k1)\n",
        "    # 此时，一旦shelve关闭，则内容会存在内存中\n",
        "    # 需要强制写回\n",
        "    k1[\u0027eins\u0027] \u003d 100\n",
        "finally:\n",
        "    shv.close()\n",
        "shv \u003d shelve.open(r\"shv.db\")\n",
        "try:\n",
        "    k1 \u003d shv[\u0027one\u0027]\n",
        "    print(k1)\n",
        "finally:\n",
        "    shv.close()\n",
        "\n"
      ]
    },
    {
      "cell_type": "code",
      "execution_count": 75,
      "metadata": {
        "pycharm": {}
      },
      "outputs": [
        {
          "name": "stdout",
          "output_type": "stream",
          "text": [
            "{\u0027eins\u0027: 1, \u0027zwei\u0027: 2, \u0027drei\u0027: 3}\n",
            "{\u0027eins\u0027: 100, \u0027zwei\u0027: 2, \u0027drei\u0027: 3}\n"
          ]
        }
      ],
      "source": [
        "# shelve忘记写回，需要使用强制写回\n",
        "shv \u003d shelve.open(r\u0027shv.db\u0027, writeback\u003dTrue)\n",
        "try:\n",
        "    k1 \u003d shv[\u0027one\u0027]\n",
        "    print(k1)\n",
        "    # 此时，一旦shelve关闭，则内容还是存在于内存中，没有写回数据库\n",
        "    k1[\"eins\"] \u003d100\n",
        "finally:\n",
        "    shv.close()\n",
        "    \n",
        "    \n",
        "shv \u003d shelve.open(r\u0027shv.db\u0027)\n",
        "try:\n",
        "    k1 \u003d shv[\u0027one\u0027]\n",
        "    print(k1)\n",
        "finally:\n",
        "    shv.close()"
      ]
    },
    {
      "cell_type": "code",
      "execution_count": 2,
      "metadata": {
        "pycharm": {
          "is_executing": false
        }
      },
      "outputs": [
        {
          "traceback": [
            "\u001b[1;31m---------------------------------------------------------------------------\u001b[0m",
            "\u001b[1;31mNameError\u001b[0m                                 Traceback (most recent call last)",
            "\u001b[1;32m\u003cipython-input-2-5d75788302d9\u003e\u001b[0m in \u001b[0;36m\u003cmodule\u003e\u001b[1;34m()\u001b[0m\n\u001b[0;32m      1\u001b[0m \u001b[1;31m# shelve使用with管理上下文环境\u001b[0m\u001b[1;33m\u001b[0m\u001b[1;33m\u001b[0m\u001b[0m\n\u001b[0;32m      2\u001b[0m \u001b[1;33m\u001b[0m\u001b[0m\n\u001b[1;32m----\u003e 3\u001b[1;33m \u001b[1;32mwith\u001b[0m \u001b[0mshelve\u001b[0m\u001b[1;33m.\u001b[0m\u001b[0mopen\u001b[0m\u001b[1;33m(\u001b[0m\u001b[1;34mr\"shv.db\"\u001b[0m\u001b[1;33m,\u001b[0m\u001b[0mwriteback\u001b[0m\u001b[1;33m\u003d\u001b[0m\u001b[1;32mTrue\u001b[0m\u001b[1;33m)\u001b[0m\u001b[1;32mas\u001b[0m \u001b[0mshv\u001b[0m\u001b[1;33m:\u001b[0m\u001b[1;33m\u001b[0m\u001b[0m\n\u001b[0m\u001b[0;32m      4\u001b[0m     \u001b[0mk1\u001b[0m \u001b[1;33m\u003d\u001b[0m \u001b[0mshv\u001b[0m\u001b[1;33m[\u001b[0m\u001b[1;34m\u0027one\u0027\u001b[0m\u001b[1;33m]\u001b[0m\u001b[1;33m\u001b[0m\u001b[0m\n\u001b[0;32m      5\u001b[0m     \u001b[0mprint\u001b[0m\u001b[1;33m(\u001b[0m\u001b[0mk1\u001b[0m\u001b[1;33m)\u001b[0m\u001b[1;33m\u001b[0m\u001b[0m\n",
            "\u001b[1;31mNameError\u001b[0m: name \u0027shelve\u0027 is not defined"
          ],
          "ename": "NameError",
          "evalue": "name \u0027shelve\u0027 is not defined",
          "output_type": "error"
        }
      ],
      "source": [
        "# shelve使用with管理上下文环境\n",
        "\n",
        "with shelve.open(r\"shv.db\",writeback\u003dTrue)as shv:\n",
        "    k1 \u003d shv[\u0027one\u0027]\n",
        "    print(k1)\n",
        "    k1[\u0027eins\u0027] \u003d 1000\n",
        "    \n",
        "with shelve.open(r\"shv.db\")as shv:\n",
        "    print(shv[\u0027one\u0027])\n"
      ]
    }
  ],
  "metadata": {
    "kernelspec": {
      "name": "pycharm-b3ed2302",
      "language": "python",
      "display_name": "PyCharm (python)"
    },
    "language_info": {
      "codemirror_mode": {
        "name": "ipython",
        "version": 3
      },
      "file_extension": ".py",
      "mimetype": "text/x-python",
      "name": "python",
      "nbconvert_exporter": "python",
      "pygments_lexer": "ipython3",
      "version": "3.6.5"
    }
  },
  "nbformat": 4,
  "nbformat_minor": 2
}
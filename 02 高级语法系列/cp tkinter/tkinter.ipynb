{
  "cells": [
    {
      "cell_type": "code",
      "execution_count": 1,
      "metadata": {
        "collapsed": true,
        "pycharm": {
          "is_executing": false
        }
      },
      "outputs": [],
      "source": "import tkinter as tk \n\nwindow \u003d tk.Tk()\nwindow.title(\"我的第一个Gui\")\nwindow.geometry(\"500x300\")\n\nl \u003d tk.Label(window,text\u003d\"Label标签\",bg\u003d\"green\",fg\u003d\"white\",width\u003d30,height\u003d2)\nl.pack()\n\nwindow.mainloop()"
    },
    {
      "cell_type": "code",
      "execution_count": 3,
      "outputs": [],
      "source": "#Button标签示例\nimport tkinter as tk\n\nwindow\u003dtk.Tk()\nwindow.title(\"Button标签示例\")\nwindow.geometry(\"500x300\")\n\nvar \u003d tk.StringVar()\nl \u003d tk.Label(window,textvariable\u003dvar,bg\u003d\"green\",fg\u003d\"white\",width\u003d30,height\u003d2,font\u003d(\"微软雅黑\",12))\nl.pack()\n# 创建一个函数\non_hit\u003dFalse\ndef hit_me():\n    global on_hit\n    if on_hit\u003d\u003dFalse:\n        on_hit\u003dTrue\n        var.set(\"有 hit me\")\n    else:\n        on_hit\u003dFalse\n        var.set(\" \")\n\nb \u003d tk.Button(window,text\u003d\"hit me\",font\u003d(\"微软雅黑\",12),width\u003d30,height\u003d2,command\u003dhit_me)\nb.pack()\n\nwindow.mainloop()",
      "metadata": {
        "pycharm": {
          "metadata": false,
          "name": "#%%\n",
          "is_executing": false
        }
      }
    },
    {
      "cell_type": "code",
      "execution_count": 6,
      "outputs": [],
      "source": "# Entry单行文本标签示例\nimport tkinter as tk\nwindow\u003dtk.Tk()\nwindow.title(\"Entry标签示例\")\nwindow.geometry(\"500x300\")\n\ne1\u003d tk.Entry(window,show\u003d\"*\",font\u003d(\"微软雅黑\",12))\ne1.pack()\ne2 \u003d tk.Entry(window,show\u003dNone,font\u003d(\"微软雅黑\",12))\ne2.pack()\n\nwindow.mainloop()",
      "metadata": {
        "pycharm": {
          "metadata": false,
          "name": "#%%\n",
          "is_executing": false
        }
      }
    },
    {
      "cell_type": "code",
      "execution_count": 4,
      "outputs": [],
      "source": "# Text多行文本示例\nimport tkinter as tk\n\nwindow \u003d tk.Tk()\nwindow.title(\"Text文本示例\")\nwindow.geometry(\"500x300\")\n\ne \u003d tk.Entry(window,show\u003dNone,font\u003d(\"微软雅黑\",12))\ne.pack()\n# 创建两个函数\ndef insert_point():\n    var\u003de.get()#得到Entry内容\n    t.insert(\"insert\",var) #将得到的文本内容写入TExt\n    \ndef insert_end():\n    var\u003d e.get()\n    t.insert(\"insert\",var)\n    \ndef Text_del():\n    t.delete(\"1.0\",tk.END)\nb1 \u003d tk.Button(window,text\u003d\"insert point\",width\u003d30,height\u003d2,font\u003d(\"微软雅黑\",12),command\u003dinsert_point)\nb1.pack()\nb2 \u003d tk.Button(window,text\u003d\"insert end\",width\u003d30,height\u003d2,font\u003d(\"微软雅黑\",12),command\u003dinsert_end)  \nb2.pack()\nb3 \u003d tk.Button(window,text\u003d\"text_del\",width\u003d30,height\u003d2,font\u003d(\"微软雅黑\",12),command\u003dText_del)\nb3.pack()   \n\nt \u003d tk.Text(window,height\u003d3,font\u003d(\"微软雅黑\",12))\nt.pack()\n\nwindow.mainloop()\n",
      "metadata": {
        "pycharm": {
          "metadata": false,
          "name": "#%%\n",
          "is_executing": false
        }
      }
    },
    {
      "cell_type": "code",
      "execution_count": 13,
      "outputs": [],
      "source": "# listbox下拉框示例\nimport tkinter as tk\n\nwindow\u003dtk.Tk()\nwindow.title(\"listbox下拉框示例\")\nwindow.geometry(\"500x300\")\nvar1\u003dtk.StringVar()\nl \u003d tk.Label(window,textvariable\u003dvar1,font\u003d(\"微软雅黑\",12),fg\u003d\"white\",bg\u003d\"green\",width\u003d30,height\u003d2)\nl.pack()\n# 创建一个方法用于按钮的点击事件\ndef print_selection():\n    value \u003d lb.get(lb.curselection())## 获取当前选中的文本\n    var1.set(value) #为var1设置值\n    \nb \u003d tk.Button(window,text\u003d\"print selection\",width\u003d30,height\u003d2,command\u003dprint_selection)\nb.pack()\n\nvar2\u003d tk.StringVar()\nvar2.set((1,2,3,4,5))\n\nlb \u003d tk.Listbox(window,listvariable\u003dvar2)\n# 创建一个list并将值循环添加到Listbox控件中\nlist_items\u003d[22,33,44,55,66]\nfor item in list_items:\n    lb.insert(\"end\",item)\nlb.pack()\nwindow.mainloop()",
      "metadata": {
        "pycharm": {
          "metadata": false,
          "name": "#%%\n",
          "is_executing": false
        }
      }
    },
    {
      "cell_type": "code",
      "execution_count": 16,
      "outputs": [],
      "source": "#RadioButton单选框示例\nimport tkinter as tk\nwindow \u003d tk.Tk()\nwindow.title(\"RadioButton单选框示例\")\nwindow.geometry(\"500x300\")\n\nl \u003d tk.Label(window,bg\u003d\"yellow\",height\u003d2,text\u003d\"Enrtry\")\nl.pack()\n\nvar \u003d tk.StringVar()\ndef print_selection():\n    l.config(text\u003d\"you have selected\"+var.get())\n# 创建三个radiobutton选项，其中variable\u003dvar, value\u003d\u0027A\u0027的意思就是，\n# 当我们鼠标选中了其中一个选项，把value的值A放到变量var中，然后赋值给variable\nr1 \u003d tk.Radiobutton(window,variable\u003dvar,value\u003d\"A\",text\u003d\"Open A\",command\u003dprint_selection)\nr1.pack()\nr2 \u003d tk.Radiobutton(window,variable\u003dvar,value\u003d\"B\",text\u003d\"OPen B\",command\u003dprint_selection)\nr2.pack()\nr3 \u003d tk.Radiobutton(window,variable\u003dvar,value\u003d\"C\",text\u003d\"Open C\",command\u003dprint_selection)\nr3.pack()\n\nwindow.mainloop()\n",
      "metadata": {
        "pycharm": {
          "metadata": false,
          "name": "#%%\n",
          "is_executing": false
        }
      }
    },
    {
      "cell_type": "code",
      "execution_count": 23,
      "outputs": [],
      "source": "# checkButton多选示例\nimport tkinter as tk\nwindow\u003dtk.Tk()\nwindow.title(\"checkbutton多选示例\")\nwindow.geometry(\"500x300\")\n\nl \u003d tk.Label(window,text\u003d\"entry\",bg\u003d\"yellow\",width\u003d30)\nl.pack()\n\n#定义一个触发器功能函数\ndef print_selection():\n    if (var1.get() \u003d\u003d 1) \u0026 (var2.get() \u003d\u003d 0):     # 如果选中第一个选项，未选中第二个选项\n        l.config(text\u003d\u0027I love only Python \u0027)\n    elif (var1.get() \u003d\u003d 0) \u0026 (var2.get() \u003d\u003d 1):   # 如果选中第二个选项，未选中第一个选项\n        l.config(text\u003d\u0027I love only C++\u0027)\n    elif (var1.get() \u003d\u003d 0) \u0026 (var2.get() \u003d\u003d 0):   # 如果两个选项都未选中\n        l.config(text\u003d\u0027I do not love either\u0027)\n    else:\n        l.config(text\u003d\u0027I love both\u0027)             # 如果两个选项都选\n    \nvar1 \u003d tk.IntVar()\nvar2 \u003d tk.IntVar()\n\nc1 \u003d tk.Checkbutton(window,variable\u003dvar1,text\u003d\"python\",onvalue\u003d\"1\",offvalue\u003d\"0\",command\u003dprint_selection)\nc1.pack()\nc2 \u003d tk.Checkbutton(window,variable\u003dvar2,text\u003d\"c++\",onvalue\u003d\"1\",offvalue\u003d\"0\",command\u003dprint_selection)\nc2.pack()\n\nwindow.mainloop()",
      "metadata": {
        "pycharm": {
          "metadata": false,
          "name": "#%%\n",
          "is_executing": false
        }
      }
    },
    {
      "cell_type": "code",
      "execution_count": 29,
      "outputs": [],
      "source": "# Scale滚动条示例\nimport tkinter as tk\nwindow\u003dtk.Tk()\nwindow.title(\"scale滚动条示例\")\nwindow.geometry(\"500x300\")\n\nl \u003d tk.Label(window,text\u003d\"entry\",width\u003d300,height\u003d2,bg\u003d\"green\")\nl.pack()\ndef print_selection(v):\n    l.config(text\u003d\"you have selected\"+ v)\n\n# 创建一个尺度滑条，长度200字符，从0开始10结束，以2为刻度，精度为0.01，触发调用print_selection函数\ns \u003d tk.Scale(window, label\u003d\u0027try me\u0027, from_\u003d0, to\u003d10, orient\u003dtk.HORIZONTAL, length\u003d200, showvalue\u003d0,tickinterval\u003d2, resolution\u003d0.01, command\u003dprint_selection)\ns.pack()\n\nwindow.mainloop()\n",
      "metadata": {
        "pycharm": {
          "metadata": false,
          "name": "#%%\n",
          "is_executing": false
        }
      }
    },
    {
      "cell_type": "code",
      "execution_count": null,
      "outputs": [],
      "source": "\n",
      "metadata": {
        "pycharm": {
          "metadata": false,
          "name": "#%%\n"
        }
      }
    }
  ],
  "metadata": {
    "language_info": {
      "codemirror_mode": {
        "name": "ipython",
        "version": 2
      },
      "file_extension": ".py",
      "mimetype": "text/x-python",
      "name": "python",
      "nbconvert_exporter": "python",
      "pygments_lexer": "ipython2",
      "version": "2.7.6"
    },
    "kernelspec": {
      "name": "pycharm-e2068f5f",
      "language": "python",
      "display_name": "PyCharm (PycharmProjects)"
    }
  },
  "nbformat": 4,
  "nbformat_minor": 0
}
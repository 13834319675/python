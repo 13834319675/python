{
  "cells": [
    {
      "cell_type": "markdown",
      "metadata": {
        "collapsed": true,
        "pycharm": {
          "name": "#%% md\n"
        }
      },
      "source": "### 组件布局\n- 控制组件的摆放方式\n- 三种布局：\n    - pack: 按照方位布局\n    - place: 按照坐标布局\n    - grid： 网格布局\n    \n- pack布局\n    - 最简单，代码量最少，挨个摆放，默认从上倒下，系统自动设置\n    - 通用使用方式为： 组件对象.pack(设置，，，，，，，）\n    - side: 停靠方位， 可选值为LEFT,TOP,RIGHT,BOTTON\n    - fill: 填充方式,X,Y,BOTH,NONE\n    - expande: YES/NO\n    - anchor: N,E,S,W,CENTER\n    - ipadx: x方向的内边距\n    - ipady: y\n    - padx: x方向外边界\n    - pady： y........\n    \n- grid布局\n    - 通用使用方式：组件对象.grid(设置,,,,,,,)\n    - 利用row，column编号，都是从0开始\n    - sticky： N,E,S,W表示上下左右，用来决定组件从哪个方向开始\n    - 支持ipadx，padx等参数，跟pack函数含义一样\n    - 支持rowspan，columnspan，表示跨行，跨列数量\n\n- place布局\n    - 明确方位的摆放\n    - 相对位置布局，随意改变窗口大小会导致混乱\n    - 使用place函数，分为绝对布局和相对布局，绝对布局使用x，y参数\n    - 相对布局使用relx，rely, relheight, relwidth\n"
    },
    {
      "cell_type": "markdown",
      "source": "## 消息机制\n- 消息的传递机制\n    - 自动发出事件/消息\n    - 消息有系统负责发送到队列\n    - 由相关组件进行绑定/设置\n    - 后端自动选择感兴趣的事件并做出相应反应\n- 消息格式：\n    - \u003c[modifier-]---type-[-detail]\u003e\n    - \u003cButton-1\u003e: Button表示一个按钮事件，1代表的是鼠标左键，2代表中键\n    - \u003cKeyPress-A\u003e: 键盘A键位\n    - \u003cControl-Shift-KeyPress-A\u003e: 同时按下Control，Shift，A三个键位\n    - \u003cF1\u003e:F1键盘\n    - [键位对应名称](https://infohost.nmt.edu/tcc/help/pubs/tkinter/web/key-names.html)",
      "metadata": {
        "pycharm": {
          "metadata": false,
          "name": "#%% md\n"
        }
      }
    },
    {
      "cell_type": "markdown",
      "source": "### Tkinter的绑定\n- bind_all: 全局范围的绑定，默认的是全局快捷键，比如F1是帮助文档\n- bind_class: 接受三个参数，第一个是类名，第二个是事件，第三个是操作\n    - w.bind_class(\"Entry\", \"\u003cControl-V\u003e, my_paste)\n- bind:单独对某一个实例绑定\n- unbind： 解绑，需要一个参数，即你要解绑哪个事件\n\n### Entry\n- 输入框，功能单一\n- entry[\"show\"] \u003d \"*\", 设置遮挡字符",
      "metadata": {
        "pycharm": {
          "metadata": false,
          "name": "#%% md\n"
        }
      }
    },
    {
      "cell_type": "markdown",
      "source": "### 弹出式菜单\n- 弹出菜单也叫上下文菜单\n- 实现的大致思路\n    1. 简理财单并向菜单添加各种功能\n    2. 监听鼠标右键\n    3. 如果右键点击，则根据位置判断弹出\n    4. 调用Menu的pop方法\n- add_separator: 添加分隔符",
      "metadata": {
        "pycharm": {
          "metadata": false
        }
      }
    },
    {
      "cell_type": "markdown",
      "source": "### 级联菜单\n- add_cascade:级联菜单，作用是引出后面的菜单\n- add_cascade的menu属性：指明把菜单级联到哪个菜单上\n- label： 名称\n- 过程：\n    1. 建立menu实例\n    2. add_command\n    3. add_cascade\n",
      "metadata": {
        "pycharm": {
          "metadata": false
        }
      }
    }
  ],
  "metadata": {
    "language_info": {
      "codemirror_mode": {
        "name": "ipython",
        "version": 2
      },
      "file_extension": ".py",
      "mimetype": "text/x-python",
      "name": "python",
      "nbconvert_exporter": "python",
      "pygments_lexer": "ipython2",
      "version": "2.7.6"
    },
    "kernelspec": {
      "name": "pycharm-e2068f5f",
      "language": "python",
      "display_name": "PyCharm (PycharmProjects)"
    }
  },
  "nbformat": 4,
  "nbformat_minor": 0
}
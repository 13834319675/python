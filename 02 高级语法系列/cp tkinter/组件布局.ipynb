{
  "cells": [
    {
      "cell_type": "markdown",
      "metadata": {
        "collapsed": true,
        "pycharm": {
          "name": "#%% md\n"
        }
      },
      "source": "### 组件布局\n- 控制组件的摆放方式\n- 三种布局：\n    - pack: 按照方位布局\n    - place: 按照坐标布局\n    - grid： 网格布局\n    \n- pack布局\n    - 最简单，代码量最少，挨个摆放，默认从上倒下，系统自动设置\n    - 通用使用方式为： 组件对象.pack(设置，，，，，，，）\n    - side: 停靠方位， 可选值为LEFT,TOP,RIGHT,BOTTON\n    - fill: 填充方式,X,Y,BOTH,NONE\n    - expande: YES/NO\n    - anchor: N,E,S,W,CENTER\n    - ipadx: x方向的内边距\n    - ipady: y\n    - padx: x方向外边界\n    - pady： y........\n    \n- grid布局\n    - 通用使用方式：组件对象.grid(设置,,,,,,,)\n    - 利用row，column编号，都是从0开始\n    - sticky： N,E,S,W表示上下左右，用来决定组件从哪个方向开始\n    - 支持ipadx，padx等参数，跟pack函数含义一样\n    - 支持rowspan，columnspan，表示跨行，跨列数量\n\n- place布局\n    - 明确方位的摆放\n    - 相对位置布局，随意改变窗口大小会导致混乱\n    - 使用place函数，分为绝对布局和相对布局，绝对布局使用x，y参数\n    - 相对布局使用relx，rely, relheight, relwidth\n"
    },
    {
      "cell_type": "code",
      "execution_count": 1,
      "outputs": [
        {
          "traceback": [
            "\u001b[1;31m---------------------------------------------------------------------------\u001b[0m",
            "\u001b[1;31mTclError\u001b[0m                                  Traceback (most recent call last)",
            "\u001b[1;32m\u003cipython-input-1-1e84d7f40f64\u003e\u001b[0m in \u001b[0;36m\u003cmodule\u003e\u001b[1;34m()\u001b[0m\n\u001b[0;32m      7\u001b[0m \u001b[1;33m\u001b[0m\u001b[0m\n\u001b[0;32m      8\u001b[0m \u001b[0mbut2\u001b[0m \u001b[1;33m\u003d\u001b[0m \u001b[0mtk\u001b[0m\u001b[1;33m.\u001b[0m\u001b[0mButton\u001b[0m\u001b[1;33m(\u001b[0m\u001b[0mBaseFrame\u001b[0m\u001b[1;33m,\u001b[0m\u001b[0mtext\u001b[0m\u001b[1;33m\u003d\u001b[0m\u001b[1;34m\"B\"\u001b[0m\u001b[1;33m)\u001b[0m\u001b[1;33m\u001b[0m\u001b[0m\n\u001b[1;32m----\u003e 9\u001b[1;33m \u001b[0mbut2\u001b[0m\u001b[1;33m.\u001b[0m\u001b[0mpack\u001b[0m\u001b[1;33m(\u001b[0m\u001b[0mside\u001b[0m \u001b[1;33m\u003d\u001b[0m \u001b[1;34m\"write\"\u001b[0m\u001b[1;33m,\u001b[0m\u001b[0mexpand\u001b[0m\u001b[1;33m\u003d\u001b[0m\u001b[0mtk\u001b[0m\u001b[1;33m.\u001b[0m\u001b[0mYES\u001b[0m\u001b[1;33m,\u001b[0m\u001b[0mfill\u001b[0m\u001b[1;33m\u003d\u001b[0m\u001b[0mtk\u001b[0m\u001b[1;33m.\u001b[0m\u001b[0mBOTH\u001b[0m\u001b[1;33m)\u001b[0m\u001b[1;33m\u001b[0m\u001b[0m\n\u001b[0m\u001b[0;32m     10\u001b[0m \u001b[0mBaseFrame\u001b[0m\u001b[1;33m.\u001b[0m\u001b[0mmainloop\u001b[0m\u001b[1;33m(\u001b[0m\u001b[1;33m)\u001b[0m\u001b[1;33m\u001b[0m\u001b[0m\n",
            "\u001b[1;32mD:\\ProgramData\\Anaconda3\\lib\\tkinter\\__init__.py\u001b[0m in \u001b[0;36mpack_configure\u001b[1;34m(self, cnf, **kw)\u001b[0m\n\u001b[0;32m   2138\u001b[0m         self.tk.call(\n\u001b[0;32m   2139\u001b[0m               \u001b[1;33m(\u001b[0m\u001b[1;34m\u0027pack\u0027\u001b[0m\u001b[1;33m,\u001b[0m \u001b[1;34m\u0027configure\u0027\u001b[0m\u001b[1;33m,\u001b[0m \u001b[0mself\u001b[0m\u001b[1;33m.\u001b[0m\u001b[0m_w\u001b[0m\u001b[1;33m)\u001b[0m\u001b[1;33m\u001b[0m\u001b[0m\n\u001b[1;32m-\u003e 2140\u001b[1;33m               + self._options(cnf, kw))\n\u001b[0m\u001b[0;32m   2141\u001b[0m     \u001b[0mpack\u001b[0m \u001b[1;33m\u003d\u001b[0m \u001b[0mconfigure\u001b[0m \u001b[1;33m\u003d\u001b[0m \u001b[0mconfig\u001b[0m \u001b[1;33m\u003d\u001b[0m \u001b[0mpack_configure\u001b[0m\u001b[1;33m\u001b[0m\u001b[0m\n\u001b[0;32m   2142\u001b[0m     \u001b[1;32mdef\u001b[0m \u001b[0mpack_forget\u001b[0m\u001b[1;33m(\u001b[0m\u001b[0mself\u001b[0m\u001b[1;33m)\u001b[0m\u001b[1;33m:\u001b[0m\u001b[1;33m\u001b[0m\u001b[0m\n",
            "\u001b[1;31mTclError\u001b[0m: bad side \"write\": must be top, bottom, left, or right"
          ],
          "ename": "TclError",
          "evalue": "bad side \"write\": must be top, bottom, left, or right",
          "output_type": "error"
        }
      ],
      "source": "# pack布局\nimport tkinter as tk\n\nBaseFrame \u003d tk.Tk()\nbut1 \u003d tk.Button(BaseFrame,text\u003d\"A\")\nbut1.pack(side \u003d \"left\",expand\u003dtk.YES,fill\u003dtk.Y)\n\nbut2 \u003d tk.Button(BaseFrame,text\u003d\"B\")\nbut2.pack(side \u003d \"write\",expand\u003dtk.YES,fill\u003dtk.BOTH)\n\n\nBaseFrame.mainloop()\n\n",
      "metadata": {
        "pycharm": {
          "metadata": false,
          "name": "#%%\n",
          "is_executing": false
        }
      }
    }
  ],
  "metadata": {
    "language_info": {
      "codemirror_mode": {
        "name": "ipython",
        "version": 2
      },
      "file_extension": ".py",
      "mimetype": "text/x-python",
      "name": "python",
      "nbconvert_exporter": "python",
      "pygments_lexer": "ipython2",
      "version": "2.7.6"
    },
    "kernelspec": {
      "name": "pycharm-e2068f5f",
      "language": "python",
      "display_name": "PyCharm (PycharmProjects)"
    }
  },
  "nbformat": 4,
  "nbformat_minor": 0
}
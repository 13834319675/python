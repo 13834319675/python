{
  "cells": [
    {
      "cell_type": "code",
      "execution_count": 9,
      "outputs": [
        {
          "traceback": [
            "\u001b[1;31m---------------------------------------------------------------------------\u001b[0m",
            "\u001b[1;31mTclError\u001b[0m                                  Traceback (most recent call last)",
            "\u001b[1;32m\u003cipython-input-9-b7fef5f010ae\u003e\u001b[0m in \u001b[0;36m\u003cmodule\u003e\u001b[1;34m()\u001b[0m\n\u001b[0;32m     18\u001b[0m \u001b[1;31m# 说明图片位置，并导入图片到画布上\u001b[0m\u001b[1;33m\u001b[0m\u001b[1;33m\u001b[0m\u001b[0m\n\u001b[0;32m     19\u001b[0m \u001b[0mimage_file\u001b[0m \u001b[1;33m\u003d\u001b[0m \u001b[0mtk\u001b[0m\u001b[1;33m.\u001b[0m\u001b[0mPhotoImage\u001b[0m\u001b[1;33m(\u001b[0m\u001b[0mfile\u001b[0m\u001b[1;33m\u003d\u001b[0m\u001b[1;34m\u00274e.png\u0027\u001b[0m\u001b[1;33m)\u001b[0m  \u001b[1;31m# 图片位置（相对路径，与.py文件同一文件夹下，也可以用绝对路径，需要给定图片具体绝对路径）\u001b[0m\u001b[1;33m\u001b[0m\u001b[0m\n\u001b[1;32m---\u003e 20\u001b[1;33m \u001b[0mimage\u001b[0m \u001b[1;33m\u003d\u001b[0m \u001b[0mcanvas\u001b[0m\u001b[1;33m.\u001b[0m\u001b[0mcreate_image\u001b[0m\u001b[1;33m(\u001b[0m\u001b[1;36m250\u001b[0m\u001b[1;33m,\u001b[0m \u001b[1;36m0\u001b[0m\u001b[1;33m,\u001b[0m \u001b[0manchor\u001b[0m\u001b[1;33m\u003d\u001b[0m\u001b[1;34m\u0027n\u0027\u001b[0m\u001b[1;33m,\u001b[0m \u001b[0mimage\u001b[0m\u001b[1;33m\u003d\u001b[0m\u001b[0mimage_file\u001b[0m\u001b[1;33m)\u001b[0m  \u001b[1;31m# 图片锚定点（n图片顶端的中间点位置）放在画布（250,0）坐标处\u001b[0m\u001b[1;33m\u001b[0m\u001b[0m\n\u001b[0m\u001b[0;32m     21\u001b[0m \u001b[1;31m# 定义多边形参数，然后在画布上画出指定图形\u001b[0m\u001b[1;33m\u001b[0m\u001b[1;33m\u001b[0m\u001b[0m\n\u001b[0;32m     22\u001b[0m \u001b[0mx0\u001b[0m\u001b[1;33m,\u001b[0m \u001b[0my0\u001b[0m\u001b[1;33m,\u001b[0m \u001b[0mx1\u001b[0m\u001b[1;33m,\u001b[0m \u001b[0my1\u001b[0m \u001b[1;33m\u003d\u001b[0m \u001b[1;36m100\u001b[0m\u001b[1;33m,\u001b[0m \u001b[1;36m100\u001b[0m\u001b[1;33m,\u001b[0m \u001b[1;36m150\u001b[0m\u001b[1;33m,\u001b[0m \u001b[1;36m150\u001b[0m\u001b[1;33m\u001b[0m\u001b[0m\n",
            "\u001b[1;32mD:\\ProgramData\\Anaconda3\\lib\\tkinter\\__init__.py\u001b[0m in \u001b[0;36mcreate_image\u001b[1;34m(self, *args, **kw)\u001b[0m\n\u001b[0;32m   2484\u001b[0m     \u001b[1;32mdef\u001b[0m \u001b[0mcreate_image\u001b[0m\u001b[1;33m(\u001b[0m\u001b[0mself\u001b[0m\u001b[1;33m,\u001b[0m \u001b[1;33m*\u001b[0m\u001b[0margs\u001b[0m\u001b[1;33m,\u001b[0m \u001b[1;33m**\u001b[0m\u001b[0mkw\u001b[0m\u001b[1;33m)\u001b[0m\u001b[1;33m:\u001b[0m\u001b[1;33m\u001b[0m\u001b[0m\n\u001b[0;32m   2485\u001b[0m         \u001b[1;34m\"\"\"Create image item with coordinates x1,y1.\"\"\"\u001b[0m\u001b[1;33m\u001b[0m\u001b[0m\n\u001b[1;32m-\u003e 2486\u001b[1;33m         \u001b[1;32mreturn\u001b[0m \u001b[0mself\u001b[0m\u001b[1;33m.\u001b[0m\u001b[0m_create\u001b[0m\u001b[1;33m(\u001b[0m\u001b[1;34m\u0027image\u0027\u001b[0m\u001b[1;33m,\u001b[0m \u001b[0margs\u001b[0m\u001b[1;33m,\u001b[0m \u001b[0mkw\u001b[0m\u001b[1;33m)\u001b[0m\u001b[1;33m\u001b[0m\u001b[0m\n\u001b[0m\u001b[0;32m   2487\u001b[0m     \u001b[1;32mdef\u001b[0m \u001b[0mcreate_line\u001b[0m\u001b[1;33m(\u001b[0m\u001b[0mself\u001b[0m\u001b[1;33m,\u001b[0m \u001b[1;33m*\u001b[0m\u001b[0margs\u001b[0m\u001b[1;33m,\u001b[0m \u001b[1;33m**\u001b[0m\u001b[0mkw\u001b[0m\u001b[1;33m)\u001b[0m\u001b[1;33m:\u001b[0m\u001b[1;33m\u001b[0m\u001b[0m\n\u001b[0;32m   2488\u001b[0m         \u001b[1;34m\"\"\"Create line with coordinates x1,y1,...,xn,yn.\"\"\"\u001b[0m\u001b[1;33m\u001b[0m\u001b[0m\n",
            "\u001b[1;32mD:\\ProgramData\\Anaconda3\\lib\\tkinter\\__init__.py\u001b[0m in \u001b[0;36m_create\u001b[1;34m(self, itemType, args, kw)\u001b[0m\n\u001b[0;32m   2475\u001b[0m         return self.tk.getint(self.tk.call(\n\u001b[0;32m   2476\u001b[0m             \u001b[0mself\u001b[0m\u001b[1;33m.\u001b[0m\u001b[0m_w\u001b[0m\u001b[1;33m,\u001b[0m \u001b[1;34m\u0027create\u0027\u001b[0m\u001b[1;33m,\u001b[0m \u001b[0mitemType\u001b[0m\u001b[1;33m,\u001b[0m\u001b[1;33m\u001b[0m\u001b[0m\n\u001b[1;32m-\u003e 2477\u001b[1;33m             *(args + self._options(cnf, kw))))\n\u001b[0m\u001b[0;32m   2478\u001b[0m     \u001b[1;32mdef\u001b[0m \u001b[0mcreate_arc\u001b[0m\u001b[1;33m(\u001b[0m\u001b[0mself\u001b[0m\u001b[1;33m,\u001b[0m \u001b[1;33m*\u001b[0m\u001b[0margs\u001b[0m\u001b[1;33m,\u001b[0m \u001b[1;33m**\u001b[0m\u001b[0mkw\u001b[0m\u001b[1;33m)\u001b[0m\u001b[1;33m:\u001b[0m\u001b[1;33m\u001b[0m\u001b[0m\n\u001b[0;32m   2479\u001b[0m         \u001b[1;34m\"\"\"Create arc shaped region with coordinates x1,y1,x2,y2.\"\"\"\u001b[0m\u001b[1;33m\u001b[0m\u001b[0m\n",
            "\u001b[1;31mTclError\u001b[0m: image \"pyimage9\" doesn\u0027t exist"
          ],
          "ename": "TclError",
          "evalue": "image \"pyimage9\" doesn\u0027t exist",
          "output_type": "error"
        }
      ],
      "source": "# Canvas画布示例\n\nimport tkinter as tk  # 使用Tkinter前需要先导入\n \nimport tkinter as tk  # 使用Tkinter前需要先导入\n\n# 第1步，实例化object，建立窗口window\nwindow \u003d tk.Tk()\n\n# 第2步，给窗口的可视化起名字\nwindow.title(\u0027My Window\u0027)\n\n# 第3步，设定窗口的大小(长 * 宽)\nwindow.geometry(\u0027500x300\u0027)  # 这里的乘是小x\n\n# 第4步，在图形界面上创建 500 * 200 大小的画布并放置各种元素\ncanvas \u003d tk.Canvas(window, bg\u003d\u0027green\u0027, height\u003d200, width\u003d500)\n# 说明图片位置，并导入图片到画布上\nimage_file \u003d tk.PhotoImage(file\u003d\u00274e.png\u0027)  # 图片位置（相对路径，与.py文件同一文件夹下，也可以用绝对路径，需要给定图片具体绝对路径）\nimage \u003d canvas.create_image(250, 0, anchor\u003d\u0027n\u0027, image\u003dimage_file)  # 图片锚定点（n图片顶端的中间点位置）放在画布（250,0）坐标处\n# 定义多边形参数，然后在画布上画出指定图形\nx0, y0, x1, y1 \u003d 100, 100, 150, 150\nline \u003d canvas.create_line(x0 - 50, y0 - 50, x1 - 50, y1 - 50)  # 画直线\noval \u003d canvas.create_oval(x0 + 120, y0 + 50, x1 + 120, y1 + 50, fill\u003d\u0027yellow\u0027)  # 画圆 用黄色填充\narc \u003d canvas.create_arc(x0, y0 + 50, x1, y1 + 50, start\u003d0, extent\u003d180)  # 画扇形 从0度打开收到180度结束\nrect \u003d canvas.create_rectangle(330, 30, 330 + 20, 30 + 20)  # 画矩形正方形\ncanvas.pack()\n\n\n# 第6步，触发函数，用来一定指定图形\ndef moveit():\n    canvas.move(rect, 2, 2)  # 移动正方形rect（也可以改成其他图形名字用以移动一起图形、元素），按每次（x\u003d2, y\u003d2）步长进行移动\n\n\n# 第5步，定义一个按钮用来移动指定图形的在画布上的位置\nb \u003d tk.Button(window, text\u003d\u0027move item\u0027, command\u003dmoveit).pack()\n\n# 第7步，主窗口循环显示\nwindow.mainloop()",
      "metadata": {
        "pycharm": {
          "metadata": false,
          "name": "#%%\n",
          "is_executing": false
        }
      }
    }
  ],
  "metadata": {
    "language_info": {
      "codemirror_mode": {
        "name": "ipython",
        "version": 2
      },
      "file_extension": ".py",
      "mimetype": "text/x-python",
      "name": "python",
      "nbconvert_exporter": "python",
      "pygments_lexer": "ipython2",
      "version": "2.7.6"
    },
    "kernelspec": {
      "name": "pycharm-b3ed2302",
      "language": "python",
      "display_name": "PyCharm (python)"
    },
    "stem_cell": {
      "cell_type": "raw",
      "source": "",
      "metadata": {
        "pycharm": {
          "metadata": false
        }
      }
    }
  },
  "nbformat": 4,
  "nbformat_minor": 0
}
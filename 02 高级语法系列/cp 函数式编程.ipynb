{
 "cells": [
  {
   "cell_type": "markdown",
   "metadata": {},
   "source": [
    "# Log模块资料\n",
    "https://www.cnblogs.com/yyds/p/6901864.html"
   ]
  },
  {
   "cell_type": "markdown",
   "metadata": {},
   "source": [
    "# python语言的改机特性"
   ]
  },
  {
   "cell_type": "markdown",
   "metadata": {},
   "source": [
    "# 函数式编程(functionaiprogramming)\n",
    "- 基于lambda演算的一种编程方式\n",
    "    - 程序中只有函数\n",
    "    - 函数可以作为参数，同样可以作为返回值\n",
    "    - 纯函数式编程语言，LISP.Haskell\n",
    "- python 函数式编程只是借鉴函数式编程的一些特点，可以理解成一般函数一般python\n",
    "- 需求讲述\n",
    "    - 高姐函数\n",
    "    - 返回函数\n",
    "    - 匿名函数\n",
    "    - 装饰圈\n",
    "    - 偏函数"
   ]
  },
  {
   "cell_type": "markdown",
   "metadata": {},
   "source": [
    "# lambda表达式\n",
    "- 函数最大程度服用代码\n",
    "    - 存在问题，如果函数很小，很短，则会造成啰嗦\n",
    "    - 如果函数被调用次数少，则会造成浪费\n",
    "    - 对于阅读者来说，造成月度流程被迫中断\n",
    "- lambda表达式(匿名函数)\n",
    "    - 一个表达式，函数体相对简单\n",
    "    - 不是一个表达式，仅仅是一个表达式\n",
    "    - 可以有参数，多个参数也可以，用逗号隔开"
   ]
  },
  {
   "cell_type": "code",
   "execution_count": 5,
   "metadata": {},
   "outputs": [
    {
     "name": "stdout",
     "output_type": "stream",
     "text": [
      "aaaaaa\n"
     ]
    }
   ],
   "source": [
    "# \"小\"函数示例\n",
    "def printa():\n",
    "    print('aaaaaa')\n",
    "    \n",
    "printa()"
   ]
  },
  {
   "cell_type": "code",
   "execution_count": 7,
   "metadata": {},
   "outputs": [
    {
     "data": {
      "text/plain": [
       "10000"
      ]
     },
     "execution_count": 7,
     "metadata": {},
     "output_type": "execute_result"
    }
   ],
   "source": [
    "# lanbda 表达式的用法\n",
    "# 1、以lambda开头\n",
    "# 2、紧跟一定的参数\n",
    "# 3、参数后用冒号和表达式主体隔开\n",
    "# 4、只是一个表达式，所以不用return\n",
    "\n",
    "# 计算一个数字 的100倍数\n",
    "stm = lambda x: x*100\n",
    "# 使用上和函数的调用一模一样\n",
    "stm(100)"
   ]
  },
  {
   "cell_type": "code",
   "execution_count": 14,
   "metadata": {},
   "outputs": [
    {
     "data": {
      "text/plain": [
       "128.16666666666669"
      ]
     },
     "execution_count": 14,
     "metadata": {},
     "output_type": "execute_result"
    }
   ],
   "source": [
    "stm2 = lambda x,y,z: x*20+y+25/z+20\n",
    "stm2(5,4,6)"
   ]
  },
  {
   "cell_type": "markdown",
   "metadata": {},
   "source": [
    "# 高级函数\n",
    "- 把函数作为参数使用的函数，叫做高姐函数\n"
   ]
  },
  {
   "cell_type": "code",
   "execution_count": 16,
   "metadata": {},
   "outputs": [
    {
     "name": "stdout",
     "output_type": "stream",
     "text": [
      "100\n"
     ]
    }
   ],
   "source": [
    "# 变量可以赋值\n",
    "a = 100\n",
    "b = a\n",
    "print(b)"
   ]
  },
  {
   "cell_type": "code",
   "execution_count": 17,
   "metadata": {},
   "outputs": [
    {
     "name": "stdout",
     "output_type": "stream",
     "text": [
      " in funcA \n"
     ]
    }
   ],
   "source": [
    "# 函数的名称就是一个变量\n",
    "def funcA():\n",
    "    print(' in funcA ')\n",
    "    \n",
    "funcB = funcA\n",
    "funcB()"
   ]
  },
  {
   "cell_type": "markdown",
   "metadata": {},
   "source": [
    "# 以上代码得出结论\n",
    "- 函数名册就是变量\n",
    "- funcA和funcB 只是名册不一样而已\n",
    "- 既然函数名册是变量，则应该可以被当做参数传入另一个函数\n"
   ]
  },
  {
   "cell_type": "code",
   "execution_count": 33,
   "metadata": {},
   "outputs": [
    {
     "name": "stdout",
     "output_type": "stream",
     "text": [
      "31380.0\n",
      "2700\n",
      "1512\n"
     ]
    }
   ],
   "source": [
    "# 高阶函数示例\n",
    "# funcA是个普通函数，返回一个传入数字的100倍\n",
    "\n",
    "def funcA(n):\n",
    "    return n*100\n",
    "\n",
    "# 在写一个函数，把传入的参数扩大200倍\n",
    "def funcB(n):\n",
    "    return funcA(n)*200\n",
    "print(funcB(1.569))\n",
    "\n",
    "# 写一个高阶函数\n",
    "def funcC(n,f):\n",
    "    # 假定n是把函数扩大100倍\n",
    "    return f(n)*3\n",
    "\n",
    "print(funcC(9,funcA))\n",
    "\n",
    "# 比较funcA和funcB，显然funcC的写法要优于funcB\n",
    "def funcD(n):\n",
    "    return  n*12\n",
    "print(funcC(42,funcD))\n"
   ]
  },
  {
   "cell_type": "markdown",
   "metadata": {},
   "source": [
    "# 系统高阶函数\n",
    "- 愿意就是映射，即把集合或者列表的元素，每一个元素按照一定的规则进行操作，生成一个新的列表或者集合\n",
    "- map函数是系统提供的具有映射功能的函数，返回值是一个迭代对象"
   ]
  },
  {
   "cell_type": "code",
   "execution_count": 4,
   "metadata": {},
   "outputs": [
    {
     "name": "stdout",
     "output_type": "stream",
     "text": [
      "[1, 2, 3, 4, 5, 6, 7, 8, 9]\n",
      "[10]\n",
      "[10, 20]\n",
      "[10, 20, 30]\n",
      "[10, 20, 30, 40]\n",
      "[10, 20, 30, 40, 50]\n",
      "[10, 20, 30, 40, 50, 60]\n",
      "[10, 20, 30, 40, 50, 60, 70]\n",
      "[10, 20, 30, 40, 50, 60, 70, 80]\n",
      "[10, 20, 30, 40, 50, 60, 70, 80, 90]\n",
      "[10, 20, 30, 40, 50, 60, 70, 80, 90]\n",
      "********************\n",
      "<map object at 0x0000013103A74048>\n",
      "10 20 30 40 50 60 70 80 90 []\n",
      "[]\n"
     ]
    }
   ],
   "source": [
    "# map示例\n",
    "# 有一个列表 相对列表里面的每一个元素乘以10，并德奥一个新的列表\n",
    "l1 = [i for i in range(1,10)]\n",
    "print(l1)\n",
    "l2 =[]\n",
    "for i in l1:\n",
    "    l2.append(i*10)\n",
    "    print(l2)\n",
    "print(l2)\n",
    "print('*'*20)\n",
    "# 利用map实现\n",
    "def map1(n):\n",
    "    return n*10\n",
    "l3 = map(map1,l1)\n",
    "print(l3)\n",
    "for i in l3:\n",
    "    print(i,end=\" \")\n",
    "    \n",
    "l = [i for i in l3]\n",
    "print(l)\n",
    "    \n",
    "# 以下列表生成式生成的结果为空 why？\n",
    "l4 = [i for i in l3]\n",
    "print(l4)"
   ]
  },
  {
   "cell_type": "markdown",
   "metadata": {},
   "source": [
    "# reduce\n",
    "- 愿意是归并，缩减\n",
    "- 把一个可迭代对象归并为一个结果\n",
    "- 对于作为参数的函数要求，必须有两个参数，必须有返回结果\n",
    "- reduce([1,2,3,4,5]) == f( f(f(f(1,2),3), 4),5)\n",
    "- reduce 需要导入functools包"
   ]
  },
  {
   "cell_type": "code",
   "execution_count": 46,
   "metadata": {},
   "outputs": [
    {
     "name": "stdout",
     "output_type": "stream",
     "text": [
      "2027520\n"
     ]
    }
   ],
   "source": [
    "from functools import reduce\n",
    "\n",
    "# 定义一个操作函数\n",
    "# 加入操作函数只是相加\n",
    "def myadd(x,y):\n",
    "    return x*y\n",
    "# 对列表进行reduce操作\n",
    "rst = reduce(myadd,[1,2,3,4,4,5,6,8,88])\n",
    "print(rst)"
   ]
  },
  {
   "cell_type": "markdown",
   "metadata": {},
   "source": [
    "# filter 函数\n",
    "- 过滤函数，对一组数据进行过滤，符合条件的数据会形成一个新的列表并返回\n",
    "- 和map比较\n",
    "    - 相同，都对列表的每一个元素进行操作\n",
    "    - 不同：\n",
    "        - map会成成一个和原来数据对应的新队列\n",
    "        - filter不一定，只要符合条件的才会进入新的数据集合\n",
    "    - filter函数怎么写\n",
    "        - 利用给定的函数进行判断\n",
    "        - 返回值一定是个布尔值\n",
    "        - 调用格式，filter（分，date），f是过滤函数，date是数据\n",
    "        "
   ]
  },
  {
   "cell_type": "code",
   "execution_count": 58,
   "metadata": {},
   "outputs": [
    {
     "name": "stdout",
     "output_type": "stream",
     "text": [
      "<class 'filter'>\n",
      "<filter object at 0x0000025F79FF9C18>\n",
      "[4, 56, 2, 4556, 4, 4]\n"
     ]
    }
   ],
   "source": [
    "# filter数据\n",
    "# 对于一个列表，对其进行过滤生成一个新列表\n",
    "# 需要定义过滤函数\n",
    "# 过滤函数要求输入，返回布尔值\n",
    "def isEven(a):\n",
    "    return a % 2 == 0\n",
    "\n",
    "l = [3,4,56,3,2,3,4556,67,4,4,3,23455,43]\n",
    "\n",
    "rst = filter(isEven, l)\n",
    "# 返回的filter内容是一个可迭代对象\n",
    "print(type(rst))\n",
    "print(rst)\n",
    "print([i for i in rst])"
   ]
  },
  {
   "cell_type": "code",
   "execution_count": null,
   "metadata": {},
   "outputs": [],
   "source": []
  },
  {
   "cell_type": "code",
   "execution_count": 59,
   "metadata": {},
   "outputs": [
    {
     "name": "stdout",
     "output_type": "stream",
     "text": [
      "Help on class filter in module builtins:\n",
      "\n",
      "class filter(object)\n",
      " |  filter(function or None, iterable) --> filter object\n",
      " |  \n",
      " |  Return an iterator yielding those items of iterable for which function(item)\n",
      " |  is true. If function is None, return the items that are true.\n",
      " |  \n",
      " |  Methods defined here:\n",
      " |  \n",
      " |  __getattribute__(self, name, /)\n",
      " |      Return getattr(self, name).\n",
      " |  \n",
      " |  __iter__(self, /)\n",
      " |      Implement iter(self).\n",
      " |  \n",
      " |  __new__(*args, **kwargs) from builtins.type\n",
      " |      Create and return a new object.  See help(type) for accurate signature.\n",
      " |  \n",
      " |  __next__(self, /)\n",
      " |      Implement next(self).\n",
      " |  \n",
      " |  __reduce__(...)\n",
      " |      Return state information for pickling.\n",
      "\n"
     ]
    }
   ],
   "source": [
    "help(filter)"
   ]
  },
  {
   "cell_type": "markdown",
   "metadata": {},
   "source": [
    "# 高阶函数-排序\n",
    "- 把一个序列按照给定算法进行排序\n",
    "- key：在排序前对每一个元素进行key函数运算，可以理解成按照key函数定义的逻辑进行排序\n",
    "- python2和python3相差巨大\n"
   ]
  },
  {
   "cell_type": "code",
   "execution_count": 63,
   "metadata": {},
   "outputs": [
    {
     "name": "stdout",
     "output_type": "stream",
     "text": [
      "[66723, 22312, 234, 123, 45, 43, 34, 3, 2]\n"
     ]
    }
   ],
   "source": [
    "# 排序案例\n",
    "a = [234,22312,123,45,43,2,3,66723,34]\n",
    "a1 = sorted(a,reverse= True)\n",
    "print(a1)"
   ]
  },
  {
   "cell_type": "code",
   "execution_count": 1,
   "metadata": {},
   "outputs": [
    {
     "name": "stdout",
     "output_type": "stream",
     "text": [
      "[-4345, 45, -43, 23, -23, 6, 2]\n"
     ]
    }
   ],
   "source": [
    "# 排序案例2\n",
    "a = [-43,23,45,6,-23,2,-4345]\n",
    "# 按照绝对值进行排序\n",
    "# abs试求绝对值的意思\n",
    "# 即按照绝对值进行倒叙排列\n",
    "a1 = sorted(a,key = abs ,reverse= True)\n",
    "print(a1)"
   ]
  },
  {
   "cell_type": "code",
   "execution_count": null,
   "metadata": {},
   "outputs": [],
   "source": []
  },
  {
   "cell_type": "code",
   "execution_count": 2,
   "metadata": {},
   "outputs": [
    {
     "name": "stdout",
     "output_type": "stream",
     "text": [
      "['china', 'SHANXI', 'jincheng']\n",
      "['china', 'jincheng', 'SHANXI']\n"
     ]
    }
   ],
   "source": [
    "# sorter案例\n",
    "astr = ['china','SHANXI','jincheng']\n",
    "str1 = sorted(astr)\n",
    "print(astr)\n",
    "\n",
    "str2 = sorted(astr,key=str.lower)\n",
    "print(str2)\n"
   ]
  },
  {
   "cell_type": "markdown",
   "metadata": {},
   "source": [
    "# 返回函数\n",
    "- 函数可以返回具体的值\n",
    "- 也可以返回一个函数作为结果\n"
   ]
  },
  {
   "cell_type": "code",
   "execution_count": 3,
   "metadata": {},
   "outputs": [],
   "source": [
    "# 定义一个普通函数\n",
    "\n",
    "def myf(a):\n",
    "    print('in myf')\n",
    "    return None"
   ]
  },
  {
   "cell_type": "code",
   "execution_count": 5,
   "metadata": {},
   "outputs": [
    {
     "name": "stdout",
     "output_type": "stream",
     "text": [
      "in myf\n",
      "None\n"
     ]
    }
   ],
   "source": [
    "a = myf(8)\n",
    "print(a)"
   ]
  },
  {
   "cell_type": "code",
   "execution_count": 6,
   "metadata": {},
   "outputs": [],
   "source": [
    "#函数作为返回值返回，被返回的函数在函数体内定义\n",
    "\n",
    "def myf2():\n",
    "    \n",
    "    def myf3():\n",
    "        print('in myf3')\n",
    "        return 3\n",
    "    return myf3"
   ]
  },
  {
   "cell_type": "code",
   "execution_count": 10,
   "metadata": {},
   "outputs": [
    {
     "name": "stdout",
     "output_type": "stream",
     "text": [
      "<class 'function'>\n",
      "<function myf2.<locals>.myf3 at 0x00000239F918B840>\n",
      "in myf3\n"
     ]
    },
    {
     "data": {
      "text/plain": [
       "3"
      ]
     },
     "execution_count": 10,
     "metadata": {},
     "output_type": "execute_result"
    }
   ],
   "source": [
    "# 使用上面的定义\n",
    "# 调用myf2，返回函数myf3 ，赋值给f3\n",
    "f3 = myf2()\n",
    "print(type(myf2()))\n",
    "print(f3)\n",
    "myf2()\n",
    "f3()"
   ]
  },
  {
   "cell_type": "code",
   "execution_count": 15,
   "metadata": {},
   "outputs": [],
   "source": [
    "# 复杂一点的函数的例子\n",
    "# args 参数列表\n",
    "# 1、myf4定义函数，返回内部定义的函数myf5\n",
    "# 2、myf5使用了外部变量，这个变量是myf4的参数\n",
    "\n",
    "def myf4( *args):\n",
    "    def myf5():\n",
    "        rst = 0\n",
    "        for n in args:\n",
    "            rst = rst+n\n",
    "        return rst\n",
    "    return myf5"
   ]
  },
  {
   "cell_type": "code",
   "execution_count": 19,
   "metadata": {},
   "outputs": [
    {
     "data": {
      "text/plain": [
       "55"
      ]
     },
     "execution_count": 19,
     "metadata": {},
     "output_type": "execute_result"
    }
   ],
   "source": [
    "f5 =  myf4(1,2,3,4,5,6,7,8,9,10,0) \n",
    "# f5的调用方式\n",
    "f5()\n"
   ]
  },
  {
   "cell_type": "markdown",
   "metadata": {},
   "source": [
    "# 闭包（closure）\n",
    "\n",
    "- 当一个函数在内部定义函数，并且内部的函数应用外部函数的参数或者局部变量，档内部函数被当做返回值的时候，相关参数的变量保存在返回值的函数中，执行定义的内部函数，这种结果，叫做闭包\n",
    "- 上面的定义myf4是一个标准的闭包结构\n"
   ]
  },
  {
   "cell_type": "code",
   "execution_count": 27,
   "metadata": {},
   "outputs": [
    {
     "name": "stdout",
     "output_type": "stream",
     "text": [
      "9\n",
      "9\n",
      "9\n"
     ]
    }
   ],
   "source": [
    "# 闭包常见坑\n",
    "def count():\n",
    "    # 定义列表，列表里存放的是定义的函数\n",
    "    fs = []\n",
    "    for i in range(1,4):\n",
    "        # 定义了一个函数f\n",
    "        # f是一个闭包结构\n",
    "        # 每次循环都定义一次函数f、\n",
    "        # 并且把函数f加入到fs列表中\n",
    "        def f():\n",
    "            return i*i\n",
    "        fs.append(f)# \n",
    "    return fs\n",
    "f1,f1,f3 = count()\n",
    "print(f1())\n",
    "print(f1())\n",
    "print(f3())\n"
   ]
  },
  {
   "cell_type": "markdown",
   "metadata": {},
   "source": [
    "## 关于f1,f1,f3 = count()\n",
    "- count()函数是返回fs这个list,这个list中的元素是函数而不是数字，就像[f(),f(),f()],\n",
    "\n",
    "- f1,f2,f3=count()  就是f1,f2,f3=[f(),f(),f()]   当然这个f()是ｃｏｕｎｔ里面的，\n",
    "\n",
    "- 第一个f()赋给了f1,第二个f()赋给了f2,...这样赋值方法\n",
    "\n",
    "- 高级序列赋值语句模式\n",
    "\n",
    "- 虽然可以在“=”符号两侧混合匹配序列类型，但是右边元素的数目还是要跟左边变量的数目相同，不然会产生错误。\n",
    "\n",
    "- 那么我们回到f()　　依然是返回的i*i,但是在循环结束之后i的值是３，这是确定的，所以f()的返回值就是3*3."
   ]
  },
  {
   "cell_type": "markdown",
   "metadata": {},
   "source": [
    "## \n",
    "- ①f1和f1()是什么区别不懂啊；\n",
    "\n",
    "- 这个问题、照你贴出来的代码、print一下就明白了、print f1是一个函数<function f at 0x000000000402ACF8>这段的意思是函数f在内存中0x000000000402ACF8、\n",
    "\n",
    "- 而当你print  f1()的时候实际上执行的是函数f、函数f是i*i、而此时i循环后已成为了3、所以是9、\n",
    "\n",
    "- ②为什么f1,f2,f3=count()?这什么写法啊？还是说这里f1,f2,f3代表一个整体，好比x=count（）？只是赋值而已？但是print f1和print f1,f2,f3都可以。那说明这与x=count（）不是一个性质...已懵....\n",
    "\n",
    "- 这里首先你要了解list的用法、比如以下代码：\n",
    "\n",
    "        fs=[1,4,9]\n",
    "        f1,f2,f3=fs\n",
    "- 请在python命令行执行这段、然后分别print f1,f2,f3、你会发现其实f1=1，其实就是fs[0]、f2=4,其实就是fs[2]、\n",
    "\n",
    "- 照代码来运行的话、你这的“好比x=count（）？只是赋值而已？但是print f1和print f1,f2,f3都可以。那说明这与x=count（）不是一个性质...已懵....”如果把x=count()、print x的话、你会发现x是一个类似如下的列表、[<function f at 0x0000000003E88438>, <function f at 0x0000000003E884A8>, <function f at 0x0000000003E88518>]、\n",
    "\n",
    "- x与f1,f2,f3之间的关系就是f1,f2,f3可以看做是x列表中的元素、当然并不是真的是、因为对应的内存地址不同、\n",
    "\n",
    "- ③print f1或者f1,f2,f3时会出现这种<function f at 0x01743870>代码，这应该是位置之类的，但是因为f1=count（），那print出来不应该是fs吗？fs又是一个list，所以print出来应该是[1,4,9]才对啊？这里还有一个问题，def f() 然后返回i*i这个能理解，就是自个再乘以自个呗，后面fs.append(f)这个生成新的list时，不应该是append(f())才对嘛？？\n",
    "\n",
    "- Answer：这第三个问题、前半段我已经在第一个问题和第二个问题回答了、如果你看明白了的话就不是问题了、“后面fs.append(f)这个生成新的list时，不应该是append(f())才对嘛？？”。。我回答这个问题、fs.append(f)这添加的是一个函数<function f at 0x0000000003E88518>类似这样、fs.append(f())、这添加的是调用函数f计算后的值、第一次循环调用i=1，那么添加的就是i*i=1、到最后fs=[1,4,9]、\n",
    "\n",
    "- ④为什么print f1() 才能得到9，按题目理解，i*i就是应该f(3)才能得到9啊，f3()是什么鬼？？？还有f3()按照题目应该等同于q=count（），然后再q()，因为q返回的是fs的列表，所以应该等同于fs()，但是fs是list，这分明不对嘛！！！\n",
    "\n",
    "- 这个问题、i是继承了count()函数的值、并且你f()函数中并没有指定参数、如果照你说的f(3)反而会报错、\n",
    "\n"
   ]
  },
  {
   "cell_type": "markdown",
   "metadata": {},
   "source": [
    "## 出现的问题\n",
    "- 造成上述情况的原因是，返回函数引用了变量i，i并非立即执行，而是 等三个函数都返回的时候才同意调用，此时已经变成了3，此时已经变成了3，最终调用的时候，都返回的是3*3\n",
    "- 此问题描述成，返回闭包时，返回函数不能引用任何循环变量\n",
    "- 解决方案，在创建一个函数，用该函数的参数绑定循环变量的当前值，无论该循环变量如何改变，已经绑定的函数参数值不在改变"
   ]
  },
  {
   "cell_type": "code",
   "execution_count": 32,
   "metadata": {},
   "outputs": [
    {
     "name": "stdout",
     "output_type": "stream",
     "text": [
      "in count( ): id(i) =  1633250368  | i =  1\n",
      "in count( ): id(i) =  1633250400  | i =  2\n",
      "in count( ): id(i) =  1633250432  | i =  3\n",
      "<function count.<locals>.f at 0x00000239F927F8C8>\n",
      "in f(): id(i) =  1633250432  | i =  3\n",
      "9\n",
      "<function count.<locals>.f at 0x00000239F927F400>\n",
      "in f(): id(i) =  1633250432  | i =  3\n",
      "9\n",
      "<function count.<locals>.f at 0x00000239F927DE18>\n",
      "in f(): id(i) =  1633250432  | i =  3\n",
      "9\n",
      "====================\n",
      "in count2( ): id(i) =  1633250368  | i =  1\n",
      "in f( ): id(j) =  1633250368  | j =  1\n",
      "in count2( ): id(i) =  1633250400  | i =  2\n",
      "in f( ): id(j) =  1633250400  | j =  2\n",
      "in count2( ): id(i) =  1633250432  | i =  3\n",
      "in f( ): id(j) =  1633250432  | j =  3\n",
      "<function count2.<locals>.f.<locals>.g at 0x00000239F924BC80>\n",
      "in g( ): id(j) =  1633250368  | j =  1\n",
      "1\n",
      "<function count2.<locals>.f.<locals>.g at 0x00000239F924BD08>\n",
      "in g( ): id(j) =  1633250400  | j =  2\n",
      "4\n",
      "<function count2.<locals>.f.<locals>.g at 0x00000239F9269620>\n",
      "in g( ): id(j) =  1633250432  | j =  3\n",
      "9\n"
     ]
    }
   ],
   "source": [
    "#closure\n",
    "def count():\n",
    "    fs = []\n",
    "    for i in range(1, 4):\n",
    "        print('in count( ): id(i) = ',id(i), ' | i = ', i)\n",
    "        def f():\n",
    "             print('in f(): id(i) = ',id(i), ' | i = ', i)\n",
    "             return i*i\n",
    "        fs.append(f)\n",
    "    return fs\n",
    "\n",
    "f1, f2, f3 = count()\n",
    "print(f1)\n",
    "print(f1())\n",
    "print(f2)\n",
    "print(f2())\n",
    "print(f3)\n",
    "print(f3())\n",
    "\n",
    "print(\"=\"*20)\n",
    "\n",
    " \n",
    "\n",
    "def count2():\n",
    "    def f(j):\n",
    "        print('in f( ): id(j) = ', id(j), ' | j = ', j)\n",
    "        def g():\n",
    "            print('in g( ): id(j) = ', id(j), ' | j = ', j)\n",
    "            return j*j\n",
    "        return g\n",
    "    fs = []\n",
    "    for i in range(1, 4):\n",
    "        print('in count2( ): id(i) = ', id(i), ' | i = ', i)\n",
    "        fs.append(f(i)) # f(i)立刻被执行，因此i的当前值被传入f()\n",
    "    return fs\n",
    "\n",
    "F1,F2,F3 = count2()\n",
    "print(F1)\n",
    "print(F1())\n",
    "print(F2)\n",
    "print(F2())\n",
    "print(F3)\n",
    "print(F3())\n",
    "\n"
   ]
  },
  {
   "cell_type": "code",
   "execution_count": 44,
   "metadata": {},
   "outputs": [
    {
     "name": "stdout",
     "output_type": "stream",
     "text": [
      "in count( ): id(i) =  1633250368  | i =  1\n",
      "in count( ): id(i) =  1633250400  | i =  2\n",
      "in count( ): id(i) =  1633250432  | i =  3\n",
      "<function count.<locals>.f at 0x00000239F927CB70>\n",
      "in f(): id(i) =  1633250432  | i =  3\n",
      "9\n",
      "<function count.<locals>.f at 0x00000239F927C268>\n",
      "in f(): id(i) =  1633250432  | i =  3\n",
      "9\n",
      "<function count.<locals>.f at 0x00000239F9269F28>\n",
      "in f(): id(i) =  1633250432  | i =  3\n",
      "9\n"
     ]
    }
   ],
   "source": [
    "def count():\n",
    "    fs = []\n",
    "    for i in range(1, 4):\n",
    "        print('in count( ): id(i) = ',id(i), ' | i = ', i)\n",
    "        def f():\n",
    "             print('in f(): id(i) = ',id(i), ' | i = ', i)\n",
    "             return i*i\n",
    "        fs.append(f)\n",
    "    return fs\n",
    "\n",
    "f1, f2, f3 = count()\n",
    "print(f1)\n",
    "print(f1())\n",
    "print(f2)\n",
    "print(f2())\n",
    "print(f3)\n",
    "print(f3())\n",
    "\n",
    "\n"
   ]
  },
  {
   "cell_type": "code",
   "execution_count": 45,
   "metadata": {},
   "outputs": [
    {
     "name": "stdout",
     "output_type": "stream",
     "text": [
      "in count2( ): id(i) =  1633250368  | i =  1\n",
      "in f( ): id(j) =  1633250368  | j =  1\n",
      "in count2( ): id(i) =  1633250400  | i =  2\n",
      "in f( ): id(j) =  1633250400  | j =  2\n",
      "in count2( ): id(i) =  1633250432  | i =  3\n",
      "in f( ): id(j) =  1633250432  | j =  3\n",
      "<function count2.<locals>.f.<locals>.g at 0x00000239F9269510>\n",
      "in g( ): id(j) =  1633250368  | j =  1\n",
      "1\n",
      "<function count2.<locals>.f.<locals>.g at 0x00000239F927C510>\n",
      "in g( ): id(j) =  1633250400  | j =  2\n",
      "4\n",
      "<function count2.<locals>.f.<locals>.g at 0x00000239F924BD90>\n",
      "in g( ): id(j) =  1633250432  | j =  3\n",
      "9\n"
     ]
    }
   ],
   "source": [
    "def count2():\n",
    "    def f(j):\n",
    "        print('in f( ): id(j) = ', id(j), ' | j = ', j)\n",
    "        def g():\n",
    "            print('in g( ): id(j) = ', id(j), ' | j = ', j)\n",
    "            return j*j\n",
    "        return g\n",
    "    fs = []\n",
    "    for i in range(1, 4):\n",
    "        print('in count2( ): id(i) = ', id(i), ' | i = ', i)\n",
    "        fs.append(f(i)) # f(i)立刻被执行，因此i的当前值被传入f()\n",
    "    return fs\n",
    "\n",
    "F1,F2,F3 = count2()\n",
    "print(F1)\n",
    "print(F1())\n",
    "print(F2)\n",
    "print(F2())\n",
    "print(F3)\n",
    "print(F3())\n"
   ]
  },
  {
   "cell_type": "markdown",
   "metadata": {},
   "source": [
    "# 装饰圈\n",
    "- 在不该懂函数代码的基础上无限制扩展函数功能的一种机制，本质上讲，装饰圈是一个返回函数的高阶甘薯\n",
    "- 装饰器的使用，使用@语法，即在每次扩展到的函数定义前使用# +函数名\n"
   ]
  },
  {
   "cell_type": "code",
   "execution_count": 48,
   "metadata": {},
   "outputs": [],
   "source": [
    "# 任务\n",
    "#对hello函数进行功能扩展，每次执行hello完打印\n",
    "\n",
    "import time\n",
    "\n",
    "# 高阶函数，以函数作为参数\n",
    "def printTime(f):\n",
    "    def wrapper(*args,**kwargs):\n",
    "        print('Time:',time.ctime())\n",
    "        return f(*args,**kwargs)\n",
    "    return wrapper"
   ]
  },
  {
   "cell_type": "code",
   "execution_count": 49,
   "metadata": {},
   "outputs": [
    {
     "name": "stdout",
     "output_type": "stream",
     "text": [
      "Time: Mon Feb 25 15:31:18 2019\n",
      "helle word\n"
     ]
    }
   ],
   "source": [
    "# 上面定义了一个装饰器\n",
    "@printTime\n",
    "def hello():\n",
    "    print('helle word')\n",
    "    \n",
    "hello()"
   ]
  },
  {
   "cell_type": "code",
   "execution_count": 55,
   "metadata": {},
   "outputs": [
    {
     "name": "stdout",
     "output_type": "stream",
     "text": [
      "Time: Mon Feb 25 15:38:43 2019\n",
      "今天很高兴，被老板揪着讲课了\n",
      "还可以由很多的选择\n"
     ]
    }
   ],
   "source": [
    "# 装饰器的好处是，一经定义，则可以装饰任何函数\n",
    "# 一旦被其装饰，则把装饰器的功能直接添加到定义函数\n",
    "\n",
    "@printTime\n",
    "def hello2():\n",
    "    print(\"今天很高兴，被老板揪着讲课了\")\n",
    "    print(\"还可以由很多的选择\")\n",
    "   \n",
    "    \n",
    "hello2()"
   ]
  },
  {
   "cell_type": "code",
   "execution_count": 59,
   "metadata": {},
   "outputs": [
    {
     "name": "stdout",
     "output_type": "stream",
     "text": [
      "我是手动被执行的\n",
      "Time: Mon Feb 25 15:43:21 2019\n",
      "我是手动被执行的\n",
      "Time: Mon Feb 25 15:43:21 2019\n",
      "Time: Mon Feb 25 15:43:21 2019\n",
      "我是手动被执行的\n"
     ]
    }
   ],
   "source": [
    "# 上面对函数的装饰器定义使用了系统的语法糖\n",
    "# 下面开始手动执行下面装饰器\n",
    "# 先定义函数\n",
    "def hello3():\n",
    "    print('我是手动被执行的')\n",
    "    \n",
    "hello3()\n",
    "hello3 = printTime(hello3)\n",
    "hello3()\n",
    "\n",
    "f = printTime(hello3)\n",
    "f()"
   ]
  },
  {
   "cell_type": "markdown",
   "metadata": {},
   "source": [
    "## 偏函数\n"
   ]
  },
  {
   "cell_type": "code",
   "execution_count": 64,
   "metadata": {},
   "outputs": [
    {
     "data": {
      "text/plain": [
       "342391"
      ]
     },
     "execution_count": 64,
     "metadata": {},
     "output_type": "execute_result"
    }
   ],
   "source": [
    "# 把字符串转化成十进制数字\n",
    "int('123456789')\n",
    "# 求八进制的字符串，表示十进制的数字是多少\n",
    "\n",
    "int('1234567', base=8)"
   ]
  },
  {
   "cell_type": "markdown",
   "metadata": {},
   "source": [
    "# 偏函数\n",
    "- 参数固定的函数，相当于一个由特定参数的函数体\n",
    "- functools.partial的作用是，把一个函数的某些参数固定，返回一个新函数"
   ]
  },
  {
   "cell_type": "code",
   "execution_count": 101,
   "metadata": {},
   "outputs": [
    {
     "data": {
      "text/plain": [
       "1193046"
      ]
     },
     "execution_count": 101,
     "metadata": {},
     "output_type": "execute_result"
    }
   ],
   "source": [
    "import functools\n",
    "\n",
    "# 新建一个函数，此函数是默认输入的字符串是16进制数字\n",
    "# 把此字符串返回十进制的数字\n",
    "def int16(x, base=16):\n",
    "    return int(x, base)\n",
    "\n",
    "int16(\"12345\"\n",
    "# 实现上面int16的功能\n",
    "\n",
    "int16 = functools.partial(int,base=16)\n",
    "\n",
    "int16('123456')"
   ]
  },
  {
   "cell_type": "code",
   "execution_count": 108,
   "metadata": {},
   "outputs": [
    {
     "name": "stdout",
     "output_type": "stream",
     "text": [
      "16\n"
     ]
    }
   ],
   "source": [
    "def A():\n",
    "    fs = []\n",
    "    for i in range(1,5):\n",
    "        def B():\n",
    "            return i*i\n",
    "        fs.append(B)\n",
    "    return fs\n",
    "f1,f2,f3,f4 = A()\n",
    "f1()\n",
    "print(f1())"
   ]
  },
  {
   "cell_type": "code",
   "execution_count": 118,
   "metadata": {},
   "outputs": [
    {
     "name": "stdout",
     "output_type": "stream",
     "text": [
      "1\n",
      "4\n",
      "9\n"
     ]
    }
   ],
   "source": [
    "def A():\n",
    "    def B(j):\n",
    "        def C():\n",
    "            return j*j\n",
    "        return C\n",
    "    fs = []\n",
    "    for i in range(1,5):\n",
    "        fs.append(B(i))\n",
    "    return fs\n",
    "f1,f2,f3,f4 = A()\n",
    "print(f1())\n",
    "print(f2())\n",
    "print(f3())\n",
    "\n",
    "            "
   ]
  },
  {
   "cell_type": "markdown",
   "metadata": {},
   "source": [
    "- python闭包(Closure)，用地址来理解\n",
    "[https://blog.csdn.net/ddyyll988/article/details/52577486]"
   ]
  }
 ],
 "metadata": {
  "kernelspec": {
   "display_name": "Python 3",
   "language": "python",
   "name": "python3"
  },
  "language_info": {
   "codemirror_mode": {
    "name": "ipython",
    "version": 3
   },
   "file_extension": ".py",
   "mimetype": "text/x-python",
   "name": "python",
   "nbconvert_exporter": "python",
   "pygments_lexer": "ipython3",
   "version": "3.6.5"
  }
 },
 "nbformat": 4,
 "nbformat_minor": 2
}

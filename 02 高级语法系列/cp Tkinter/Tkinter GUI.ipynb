{
  "cells": [
    {
      "cell_type": "code",
      "execution_count": 74,
      "outputs": [],
      "source": "# 创建主窗口Label的使用\n# 我们要学习使用上面提到的这些控件首先要创建一个主窗口，就像作画一样，\n# 先要架好架子和画板，\n# 然后才能在上面放画纸和各种绘画元素，创建好主窗口才能在上面放置各种控件元素。\nimport tkinter\n\nwindow \u003d tkinter.Tk()\nwindow.title(\"我的第一个Gui\")\nwindow.geometry(\"500x300\")\n# 在图形上设立标签 text 标签内容,font字体 backgrount 颜色样式\nl \u003d tkinter.Label(window, text\u003d\u0027你好！this is Tkinter\u0027, bg\u003d\u0027green\u0027, font\u003d(\u0027Arial\u0027, 12), width\u003d30, height\u003d2)\n# 放置标签\nl.pack()\n# 启动消息循环\nwindow.mainloop()\n",
      "metadata": {
        "pycharm": {
          "metadata": false,
          "name": "#%%\n",
          "is_executing": false
        }
      }
    },
    {
      "cell_type": "code",
      "execution_count": 51,
      "outputs": [],
      "source": "import tkinter as tk\nwindow \u003d tk.Tk()\nwindow.title(\"我的第二个GUi\")\nwindow.geometry(\"500x300\")\nvar \u003d tk.StringVar()\nl \u003d tk.Label(window, textvariable\u003dvar, bg\u003d\u0027green\u0027, fg\u003d\u0027white\u0027, font\u003d(\u0027微软雅黑\u0027, 12), width\u003d30, height\u003d2)\nl.pack()\n# 创建一个函数\non_hit\u003dFalse\ndef hit_me():\n    global on_hit\n    if on_hit \u003d\u003d False:\n        on_hit \u003d True\n        var.set(\u0027you hit me\u0027)\n    else:\n        on_hit \u003d False\n        var.set(\u0027\u0027)\n\n        \nb \u003d tk.Button(window,text\u003d\"hit me\",bg \u003d\"#fff\",width\u003d30,height\u003d2,command\u003dhit_me)\nb.pack()\nwindow.mainloop()",
      "metadata": {
        "pycharm": {
          "metadata": false,
          "name": "#%%  ## Button按钮示例\n",
          "is_executing": false
        }
      }
    },
    {
      "cell_type": "code",
      "execution_count": 56,
      "outputs": [],
      "source": "\nimport tkinter as tk\n\nwindow \u003d tk.Tk()\nwindow.title(\"entry 单行文本示例\")\nwindow.geometry(\"500x300\")\net1 \u003d tk.Entry(window,show\u003d\"*\",width \u003d 30,font\u003d(\"Arial\",12))\net1.pack()\net2 \u003d tk.Entry(window,show\u003dNone,width\u003d30,font\u003d(\"Arial\",12))\net2.pack()\n",
      "metadata": {
        "pycharm": {
          "metadata": false,
          "name": "#%%  # entry 单行输入文本示例\n",
          "is_executing": false
        }
      }
    },
    {
      "cell_type": "code",
      "execution_count": 73,
      "outputs": [],
      "source": "import tkinter as tk\nwindow \u003d tk.Tk()\nwindow.title(\"text文本示例\")\nwindow.geometry(\"500x300\")\ne \u003d tk.Entry(window,show\u003dNone)\ne.pack()\n# 定义两个触发事件时的函数insert_point和insert_end（注意：因为Python的执行顺序是从上往下，所以函数一定要放在按钮的上面）\ndef insert_point():\n    var\u003de.get()\n    t.insert(\"insert\",var)\ndef insert_end():\n    var\u003de.get()\n    t.insert(\"end\",var)\ndef text_del():\n    t.delete(\"1.0\",tk.END)\nb1 \u003d tk.Button(window,text\u003d\"inset point\",width\u003d30,\n              height\u003d2,command\u003dinsert_point)\nb1.pack()\nb2 \u003d tk.Button(window,text\u003d\"insert end\",width\u003d30,\n               height\u003d2,command\u003dinsert_end)\nb2.pack()\nb3 \u003d tk.Button(window,text\u003d\"text del \",width\u003d30,\n               height\u003d2,command\u003dtext_del)\nb3.pack()\n#创建并放置一个多行文本框text用以显示，指定height\u003d3为文本框是三个字符高度\nt \u003d tk.Text(window,height\u003d3)\nt.pack()\n    ",
      "metadata": {
        "pycharm": {
          "metadata": false,
          "name": "#%%\n",
          "is_executing": false
        }
      }
    },
    {
      "cell_type": "code",
      "execution_count": 58,
      "outputs": [],
      "source": "\n",
      "metadata": {
        "pycharm": {
          "metadata": false,
          "name": "#%%\n",
          "is_executing": false
        }
      }
    }
  ],
  "metadata": {
    "language_info": {
      "codemirror_mode": {
        "name": "ipython",
        "version": 2
      },
      "file_extension": ".py",
      "mimetype": "text/x-python",
      "name": "python",
      "nbconvert_exporter": "python",
      "pygments_lexer": "ipython2",
      "version": "2.7.6"
    },
    "kernelspec": {
      "name": "pycharm-b3ed2302",
      "language": "python",
      "display_name": "PyCharm (python)"
    },
    "stem_cell": {
      "cell_type": "raw",
      "source": "",
      "metadata": {
        "pycharm": {
          "metadata": false
        }
      }
    }
  },
  "nbformat": 4,
  "nbformat_minor": 0
}